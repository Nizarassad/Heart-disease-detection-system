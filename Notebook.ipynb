{
  "nbformat": 4,
  "nbformat_minor": 0,
  "metadata": {
    "colab": {
      "provenance": [],
      "collapsed_sections": [
        "gxuvLK8tRLy-",
        "u-qq-qvsVKHt",
        "_CrTeBgVRynz",
        "vYz3CRN4KGyi",
        "w-6hDIegRFU2",
        "YNbwx4Dd9LJJ",
        "5ZCQ_p_TMW4Z",
        "tUYS3EWZhRvp",
        "sJE8fYWy3XLu",
        "xDqOEUF4EYXm",
        "O_mWVoRAFpYr",
        "Xa6yYdBTIX8n",
        "6UjZVJf_GSdr"
      ]
    },
    "kernelspec": {
      "name": "python3",
      "display_name": "Python 3"
    },
    "language_info": {
      "name": "python"
    }
  },
  "cells": [
    {
      "cell_type": "markdown",
      "metadata": {
        "id": "gxuvLK8tRLy-"
      },
      "source": [
        "#Importing the libraries\n",
        "\n",
        "\n",
        "\n"
      ]
    },
    {
      "cell_type": "code",
      "metadata": {
        "id": "9GYBkzs7RKwl"
      },
      "source": [
        "import numpy as np\n",
        "import matplotlib.pyplot as plt\n",
        "import pandas as pd\n",
        "import plotly.express as px\n",
        "import plotly.figure_factory as ff\n",
        "import plotly.graph_objects as go\n",
        "from plotly.offline import iplot\n",
        "from plotly import tools\n",
        "import seaborn as sns\n",
        "from sklearn.preprocessing import StandardScaler, PolynomialFeatures, OneHotEncoder, StandardScaler, PowerTransformer, MinMaxScaler, LabelEncoder, RobustScaler\n",
        "from sklearn.model_selection import train_test_split\n",
        "from sklearn.linear_model import LogisticRegression\n",
        "from sklearn.metrics import plot_confusion_matrix, r2_score, mean_absolute_error, mean_squared_error, classification_report, confusion_matrix, accuracy_score, classification_report\n",
        "from sklearn.metrics import plot_roc_curve, roc_auc_score, roc_curve, f1_score, accuracy_score, recall_score\n",
        "from sklearn import tree\n",
        "import sys\n",
        "np.set_printoptions(threshold=sys.maxsize)\n",
        "from sklearn.compose import ColumnTransformer\n",
        "from sklearn import svm\n",
        "from sklearn.ensemble import RandomForestClassifier\n",
        "from sklearn.datasets import make_classification\n",
        "from sklearn.metrics import roc_curve, auc\n",
        "from sklearn.neighbors import KNeighborsClassifier\n",
        "from sklearn.naive_bayes import GaussianNB\n",
        "from sklearn.datasets import load_iris\n",
        "from sklearn.model_selection import cross_val_score\n"
      ],
      "execution_count": null,
      "outputs": []
    },
    {
      "cell_type": "markdown",
      "metadata": {
        "id": "u-qq-qvsVKHt"
      },
      "source": [
        "# importing the data"
      ]
    },
    {
      "cell_type": "code",
      "metadata": {
        "id": "DDMLFQNiUukU"
      },
      "source": [
        "#we named our dataframe 'data'\n",
        "data = pd.read_csv('heart.csv')\n"
      ],
      "execution_count": null,
      "outputs": []
    },
    {
      "cell_type": "markdown",
      "metadata": {
        "id": "_CrTeBgVRynz"
      },
      "source": [
        "\n",
        "# Data exploration"
      ]
    },
    {
      "cell_type": "code",
      "metadata": {
        "colab": {
          "base_uri": "https://localhost:8080/",
          "height": 206
        },
        "id": "ZB6kPx67VHv_",
        "outputId": "9ad0936f-3c2e-414f-8584-5b8eff3606d2"
      },
      "source": [
        "#quick look on datafram to understand it\n",
        "data.head()\n"
      ],
      "execution_count": null,
      "outputs": [
        {
          "output_type": "execute_result",
          "data": {
            "text/html": [
              "<div>\n",
              "<style scoped>\n",
              "    .dataframe tbody tr th:only-of-type {\n",
              "        vertical-align: middle;\n",
              "    }\n",
              "\n",
              "    .dataframe tbody tr th {\n",
              "        vertical-align: top;\n",
              "    }\n",
              "\n",
              "    .dataframe thead th {\n",
              "        text-align: right;\n",
              "    }\n",
              "</style>\n",
              "<table border=\"1\" class=\"dataframe\">\n",
              "  <thead>\n",
              "    <tr style=\"text-align: right;\">\n",
              "      <th></th>\n",
              "      <th>Age</th>\n",
              "      <th>Sex</th>\n",
              "      <th>ChestPainType</th>\n",
              "      <th>RestingBP</th>\n",
              "      <th>Cholesterol</th>\n",
              "      <th>FastingBS</th>\n",
              "      <th>RestingECG</th>\n",
              "      <th>MaxHR</th>\n",
              "      <th>ExerciseAngina</th>\n",
              "      <th>Oldpeak</th>\n",
              "      <th>ST_Slope</th>\n",
              "      <th>HeartDisease</th>\n",
              "    </tr>\n",
              "  </thead>\n",
              "  <tbody>\n",
              "    <tr>\n",
              "      <th>0</th>\n",
              "      <td>40</td>\n",
              "      <td>M</td>\n",
              "      <td>ATA</td>\n",
              "      <td>140</td>\n",
              "      <td>289</td>\n",
              "      <td>0</td>\n",
              "      <td>Normal</td>\n",
              "      <td>172</td>\n",
              "      <td>N</td>\n",
              "      <td>0.0</td>\n",
              "      <td>Up</td>\n",
              "      <td>0</td>\n",
              "    </tr>\n",
              "    <tr>\n",
              "      <th>1</th>\n",
              "      <td>49</td>\n",
              "      <td>F</td>\n",
              "      <td>NAP</td>\n",
              "      <td>160</td>\n",
              "      <td>180</td>\n",
              "      <td>0</td>\n",
              "      <td>Normal</td>\n",
              "      <td>156</td>\n",
              "      <td>N</td>\n",
              "      <td>1.0</td>\n",
              "      <td>Flat</td>\n",
              "      <td>1</td>\n",
              "    </tr>\n",
              "    <tr>\n",
              "      <th>2</th>\n",
              "      <td>37</td>\n",
              "      <td>M</td>\n",
              "      <td>ATA</td>\n",
              "      <td>130</td>\n",
              "      <td>283</td>\n",
              "      <td>0</td>\n",
              "      <td>ST</td>\n",
              "      <td>98</td>\n",
              "      <td>N</td>\n",
              "      <td>0.0</td>\n",
              "      <td>Up</td>\n",
              "      <td>0</td>\n",
              "    </tr>\n",
              "    <tr>\n",
              "      <th>3</th>\n",
              "      <td>48</td>\n",
              "      <td>F</td>\n",
              "      <td>ASY</td>\n",
              "      <td>138</td>\n",
              "      <td>214</td>\n",
              "      <td>0</td>\n",
              "      <td>Normal</td>\n",
              "      <td>108</td>\n",
              "      <td>Y</td>\n",
              "      <td>1.5</td>\n",
              "      <td>Flat</td>\n",
              "      <td>1</td>\n",
              "    </tr>\n",
              "    <tr>\n",
              "      <th>4</th>\n",
              "      <td>54</td>\n",
              "      <td>M</td>\n",
              "      <td>NAP</td>\n",
              "      <td>150</td>\n",
              "      <td>195</td>\n",
              "      <td>0</td>\n",
              "      <td>Normal</td>\n",
              "      <td>122</td>\n",
              "      <td>N</td>\n",
              "      <td>0.0</td>\n",
              "      <td>Up</td>\n",
              "      <td>0</td>\n",
              "    </tr>\n",
              "  </tbody>\n",
              "</table>\n",
              "</div>"
            ],
            "text/plain": [
              "   Age Sex ChestPainType  ...  Oldpeak  ST_Slope  HeartDisease\n",
              "0   40   M           ATA  ...      0.0        Up             0\n",
              "1   49   F           NAP  ...      1.0      Flat             1\n",
              "2   37   M           ATA  ...      0.0        Up             0\n",
              "3   48   F           ASY  ...      1.5      Flat             1\n",
              "4   54   M           NAP  ...      0.0        Up             0\n",
              "\n",
              "[5 rows x 12 columns]"
            ]
          },
          "metadata": {},
          "execution_count": 3
        }
      ]
    },
    {
      "cell_type": "code",
      "metadata": {
        "id": "aEPPIw53NOX4",
        "colab": {
          "base_uri": "https://localhost:8080/",
          "height": 206
        },
        "outputId": "1eec47c3-e0b4-46ee-a4a5-8417de135b1b"
      },
      "source": [
        "data.tail()"
      ],
      "execution_count": null,
      "outputs": [
        {
          "output_type": "execute_result",
          "data": {
            "text/html": [
              "<div>\n",
              "<style scoped>\n",
              "    .dataframe tbody tr th:only-of-type {\n",
              "        vertical-align: middle;\n",
              "    }\n",
              "\n",
              "    .dataframe tbody tr th {\n",
              "        vertical-align: top;\n",
              "    }\n",
              "\n",
              "    .dataframe thead th {\n",
              "        text-align: right;\n",
              "    }\n",
              "</style>\n",
              "<table border=\"1\" class=\"dataframe\">\n",
              "  <thead>\n",
              "    <tr style=\"text-align: right;\">\n",
              "      <th></th>\n",
              "      <th>Age</th>\n",
              "      <th>Sex</th>\n",
              "      <th>ChestPainType</th>\n",
              "      <th>RestingBP</th>\n",
              "      <th>Cholesterol</th>\n",
              "      <th>FastingBS</th>\n",
              "      <th>RestingECG</th>\n",
              "      <th>MaxHR</th>\n",
              "      <th>ExerciseAngina</th>\n",
              "      <th>Oldpeak</th>\n",
              "      <th>ST_Slope</th>\n",
              "      <th>HeartDisease</th>\n",
              "    </tr>\n",
              "  </thead>\n",
              "  <tbody>\n",
              "    <tr>\n",
              "      <th>913</th>\n",
              "      <td>45</td>\n",
              "      <td>M</td>\n",
              "      <td>TA</td>\n",
              "      <td>110</td>\n",
              "      <td>264</td>\n",
              "      <td>0</td>\n",
              "      <td>Normal</td>\n",
              "      <td>132</td>\n",
              "      <td>N</td>\n",
              "      <td>1.2</td>\n",
              "      <td>Flat</td>\n",
              "      <td>1</td>\n",
              "    </tr>\n",
              "    <tr>\n",
              "      <th>914</th>\n",
              "      <td>68</td>\n",
              "      <td>M</td>\n",
              "      <td>ASY</td>\n",
              "      <td>144</td>\n",
              "      <td>193</td>\n",
              "      <td>1</td>\n",
              "      <td>Normal</td>\n",
              "      <td>141</td>\n",
              "      <td>N</td>\n",
              "      <td>3.4</td>\n",
              "      <td>Flat</td>\n",
              "      <td>1</td>\n",
              "    </tr>\n",
              "    <tr>\n",
              "      <th>915</th>\n",
              "      <td>57</td>\n",
              "      <td>M</td>\n",
              "      <td>ASY</td>\n",
              "      <td>130</td>\n",
              "      <td>131</td>\n",
              "      <td>0</td>\n",
              "      <td>Normal</td>\n",
              "      <td>115</td>\n",
              "      <td>Y</td>\n",
              "      <td>1.2</td>\n",
              "      <td>Flat</td>\n",
              "      <td>1</td>\n",
              "    </tr>\n",
              "    <tr>\n",
              "      <th>916</th>\n",
              "      <td>57</td>\n",
              "      <td>F</td>\n",
              "      <td>ATA</td>\n",
              "      <td>130</td>\n",
              "      <td>236</td>\n",
              "      <td>0</td>\n",
              "      <td>LVH</td>\n",
              "      <td>174</td>\n",
              "      <td>N</td>\n",
              "      <td>0.0</td>\n",
              "      <td>Flat</td>\n",
              "      <td>1</td>\n",
              "    </tr>\n",
              "    <tr>\n",
              "      <th>917</th>\n",
              "      <td>38</td>\n",
              "      <td>M</td>\n",
              "      <td>NAP</td>\n",
              "      <td>138</td>\n",
              "      <td>175</td>\n",
              "      <td>0</td>\n",
              "      <td>Normal</td>\n",
              "      <td>173</td>\n",
              "      <td>N</td>\n",
              "      <td>0.0</td>\n",
              "      <td>Up</td>\n",
              "      <td>0</td>\n",
              "    </tr>\n",
              "  </tbody>\n",
              "</table>\n",
              "</div>"
            ],
            "text/plain": [
              "     Age Sex ChestPainType  ...  Oldpeak  ST_Slope  HeartDisease\n",
              "913   45   M            TA  ...      1.2      Flat             1\n",
              "914   68   M           ASY  ...      3.4      Flat             1\n",
              "915   57   M           ASY  ...      1.2      Flat             1\n",
              "916   57   F           ATA  ...      0.0      Flat             1\n",
              "917   38   M           NAP  ...      0.0        Up             0\n",
              "\n",
              "[5 rows x 12 columns]"
            ]
          },
          "metadata": {},
          "execution_count": 4
        }
      ]
    },
    {
      "cell_type": "code",
      "metadata": {
        "colab": {
          "base_uri": "https://localhost:8080/"
        },
        "id": "7TSzsc6B3eva",
        "outputId": "dba8ad5c-f9ad-41de-a49e-1389c14bb4cf"
      },
      "source": [
        "\n",
        "EDA = data.copy()\n",
        "EDA.shape\n"
      ],
      "execution_count": null,
      "outputs": [
        {
          "output_type": "execute_result",
          "data": {
            "text/plain": [
              "(918, 12)"
            ]
          },
          "metadata": {},
          "execution_count": 5
        }
      ]
    },
    {
      "cell_type": "code",
      "metadata": {
        "colab": {
          "base_uri": "https://localhost:8080/"
        },
        "id": "ZWZz1dS_bfge",
        "outputId": "5ad7eb77-6975-4ec5-d28d-61acd8882389"
      },
      "source": [
        "data.info()"
      ],
      "execution_count": null,
      "outputs": [
        {
          "output_type": "stream",
          "name": "stdout",
          "text": [
            "<class 'pandas.core.frame.DataFrame'>\n",
            "RangeIndex: 918 entries, 0 to 917\n",
            "Data columns (total 12 columns):\n",
            " #   Column          Non-Null Count  Dtype  \n",
            "---  ------          --------------  -----  \n",
            " 0   Age             918 non-null    int64  \n",
            " 1   Sex             918 non-null    object \n",
            " 2   ChestPainType   918 non-null    object \n",
            " 3   RestingBP       918 non-null    int64  \n",
            " 4   Cholesterol     918 non-null    int64  \n",
            " 5   FastingBS       918 non-null    int64  \n",
            " 6   RestingECG      918 non-null    object \n",
            " 7   MaxHR           918 non-null    int64  \n",
            " 8   ExerciseAngina  918 non-null    object \n",
            " 9   Oldpeak         918 non-null    float64\n",
            " 10  ST_Slope        918 non-null    object \n",
            " 11  HeartDisease    918 non-null    int64  \n",
            "dtypes: float64(1), int64(6), object(5)\n",
            "memory usage: 86.2+ KB\n"
          ]
        }
      ]
    },
    {
      "cell_type": "code",
      "metadata": {
        "colab": {
          "base_uri": "https://localhost:8080/"
        },
        "id": "df4frm5cKo9V",
        "outputId": "b0bf7bd4-d164-45c8-babc-4256bf3b705b"
      },
      "source": [
        "data.nunique()"
      ],
      "execution_count": null,
      "outputs": [
        {
          "output_type": "execute_result",
          "data": {
            "text/plain": [
              "Age                50\n",
              "Sex                 2\n",
              "ChestPainType       4\n",
              "RestingBP          67\n",
              "Cholesterol       222\n",
              "FastingBS           2\n",
              "RestingECG          3\n",
              "MaxHR             119\n",
              "ExerciseAngina      2\n",
              "Oldpeak            53\n",
              "ST_Slope            3\n",
              "HeartDisease        2\n",
              "dtype: int64"
            ]
          },
          "metadata": {},
          "execution_count": 7
        }
      ]
    },
    {
      "cell_type": "markdown",
      "metadata": {
        "id": "m62-yx3vMuJE"
      },
      "source": [
        "we can see the number of unique values for each column"
      ]
    },
    {
      "cell_type": "markdown",
      "metadata": {
        "id": "wcZRXcO_b_ss"
      },
      "source": [
        "**Numerical features**"
      ]
    },
    {
      "cell_type": "markdown",
      "metadata": {
        "id": "fU4RPZFQyGIZ"
      },
      "source": [
        "Because there are so many distinct values, I had to examine using the describ function."
      ]
    },
    {
      "cell_type": "code",
      "metadata": {
        "colab": {
          "base_uri": "https://localhost:8080/",
          "height": 269
        },
        "id": "SSaOi9VmLPPW",
        "outputId": "87eb0bfe-b5b5-467b-f891-cbd93598200d"
      },
      "source": [
        "data[data['HeartDisease']==0].describe().T.style.background_gradient(subset=['mean','std','50%','count'], cmap='RdPu')"
      ],
      "execution_count": null,
      "outputs": [
        {
          "output_type": "execute_result",
          "data": {
            "text/html": [
              "<style  type=\"text/css\" >\n",
              "#T_e033edc6_5b48_11ec_84fd_0242ac1c0002row0_col0,#T_e033edc6_5b48_11ec_84fd_0242ac1c0002row1_col0,#T_e033edc6_5b48_11ec_84fd_0242ac1c0002row2_col0,#T_e033edc6_5b48_11ec_84fd_0242ac1c0002row3_col0,#T_e033edc6_5b48_11ec_84fd_0242ac1c0002row3_col1,#T_e033edc6_5b48_11ec_84fd_0242ac1c0002row3_col5,#T_e033edc6_5b48_11ec_84fd_0242ac1c0002row4_col0,#T_e033edc6_5b48_11ec_84fd_0242ac1c0002row5_col0,#T_e033edc6_5b48_11ec_84fd_0242ac1c0002row5_col1,#T_e033edc6_5b48_11ec_84fd_0242ac1c0002row5_col5,#T_e033edc6_5b48_11ec_84fd_0242ac1c0002row6_col0,#T_e033edc6_5b48_11ec_84fd_0242ac1c0002row6_col1,#T_e033edc6_5b48_11ec_84fd_0242ac1c0002row6_col2,#T_e033edc6_5b48_11ec_84fd_0242ac1c0002row6_col5{\n",
              "            background-color:  #fff7f3;\n",
              "            color:  #000000;\n",
              "        }#T_e033edc6_5b48_11ec_84fd_0242ac1c0002row0_col1,#T_e033edc6_5b48_11ec_84fd_0242ac1c0002row1_col2{\n",
              "            background-color:  #fcccc7;\n",
              "            color:  #000000;\n",
              "        }#T_e033edc6_5b48_11ec_84fd_0242ac1c0002row0_col2{\n",
              "            background-color:  #fde0dd;\n",
              "            color:  #000000;\n",
              "        }#T_e033edc6_5b48_11ec_84fd_0242ac1c0002row0_col5{\n",
              "            background-color:  #fccbc6;\n",
              "            color:  #000000;\n",
              "        }#T_e033edc6_5b48_11ec_84fd_0242ac1c0002row1_col1,#T_e033edc6_5b48_11ec_84fd_0242ac1c0002row1_col5{\n",
              "            background-color:  #e84a9b;\n",
              "            color:  #000000;\n",
              "        }#T_e033edc6_5b48_11ec_84fd_0242ac1c0002row2_col1,#T_e033edc6_5b48_11ec_84fd_0242ac1c0002row2_col2,#T_e033edc6_5b48_11ec_84fd_0242ac1c0002row2_col5{\n",
              "            background-color:  #49006a;\n",
              "            color:  #f1f1f1;\n",
              "        }#T_e033edc6_5b48_11ec_84fd_0242ac1c0002row3_col2,#T_e033edc6_5b48_11ec_84fd_0242ac1c0002row5_col2{\n",
              "            background-color:  #fff6f2;\n",
              "            color:  #000000;\n",
              "        }#T_e033edc6_5b48_11ec_84fd_0242ac1c0002row4_col1{\n",
              "            background-color:  #d32992;\n",
              "            color:  #f1f1f1;\n",
              "        }#T_e033edc6_5b48_11ec_84fd_0242ac1c0002row4_col2{\n",
              "            background-color:  #fbb3bb;\n",
              "            color:  #000000;\n",
              "        }#T_e033edc6_5b48_11ec_84fd_0242ac1c0002row4_col5{\n",
              "            background-color:  #cf258f;\n",
              "            color:  #f1f1f1;\n",
              "        }</style><table id=\"T_e033edc6_5b48_11ec_84fd_0242ac1c0002\" class=\"dataframe\"><thead>    <tr>        <th class=\"blank level0\" ></th>        <th class=\"col_heading level0 col0\" >count</th>        <th class=\"col_heading level0 col1\" >mean</th>        <th class=\"col_heading level0 col2\" >std</th>        <th class=\"col_heading level0 col3\" >min</th>        <th class=\"col_heading level0 col4\" >25%</th>        <th class=\"col_heading level0 col5\" >50%</th>        <th class=\"col_heading level0 col6\" >75%</th>        <th class=\"col_heading level0 col7\" >max</th>    </tr></thead><tbody>\n",
              "                <tr>\n",
              "                        <th id=\"T_e033edc6_5b48_11ec_84fd_0242ac1c0002level0_row0\" class=\"row_heading level0 row0\" >Age</th>\n",
              "                        <td id=\"T_e033edc6_5b48_11ec_84fd_0242ac1c0002row0_col0\" class=\"data row0 col0\" >410.000000</td>\n",
              "                        <td id=\"T_e033edc6_5b48_11ec_84fd_0242ac1c0002row0_col1\" class=\"data row0 col1\" >50.551220</td>\n",
              "                        <td id=\"T_e033edc6_5b48_11ec_84fd_0242ac1c0002row0_col2\" class=\"data row0 col2\" >9.444915</td>\n",
              "                        <td id=\"T_e033edc6_5b48_11ec_84fd_0242ac1c0002row0_col3\" class=\"data row0 col3\" >28.000000</td>\n",
              "                        <td id=\"T_e033edc6_5b48_11ec_84fd_0242ac1c0002row0_col4\" class=\"data row0 col4\" >43.000000</td>\n",
              "                        <td id=\"T_e033edc6_5b48_11ec_84fd_0242ac1c0002row0_col5\" class=\"data row0 col5\" >51.000000</td>\n",
              "                        <td id=\"T_e033edc6_5b48_11ec_84fd_0242ac1c0002row0_col6\" class=\"data row0 col6\" >57.000000</td>\n",
              "                        <td id=\"T_e033edc6_5b48_11ec_84fd_0242ac1c0002row0_col7\" class=\"data row0 col7\" >76.000000</td>\n",
              "            </tr>\n",
              "            <tr>\n",
              "                        <th id=\"T_e033edc6_5b48_11ec_84fd_0242ac1c0002level0_row1\" class=\"row_heading level0 row1\" >RestingBP</th>\n",
              "                        <td id=\"T_e033edc6_5b48_11ec_84fd_0242ac1c0002row1_col0\" class=\"data row1 col0\" >410.000000</td>\n",
              "                        <td id=\"T_e033edc6_5b48_11ec_84fd_0242ac1c0002row1_col1\" class=\"data row1 col1\" >130.180488</td>\n",
              "                        <td id=\"T_e033edc6_5b48_11ec_84fd_0242ac1c0002row1_col2\" class=\"data row1 col2\" >16.499585</td>\n",
              "                        <td id=\"T_e033edc6_5b48_11ec_84fd_0242ac1c0002row1_col3\" class=\"data row1 col3\" >80.000000</td>\n",
              "                        <td id=\"T_e033edc6_5b48_11ec_84fd_0242ac1c0002row1_col4\" class=\"data row1 col4\" >120.000000</td>\n",
              "                        <td id=\"T_e033edc6_5b48_11ec_84fd_0242ac1c0002row1_col5\" class=\"data row1 col5\" >130.000000</td>\n",
              "                        <td id=\"T_e033edc6_5b48_11ec_84fd_0242ac1c0002row1_col6\" class=\"data row1 col6\" >140.000000</td>\n",
              "                        <td id=\"T_e033edc6_5b48_11ec_84fd_0242ac1c0002row1_col7\" class=\"data row1 col7\" >190.000000</td>\n",
              "            </tr>\n",
              "            <tr>\n",
              "                        <th id=\"T_e033edc6_5b48_11ec_84fd_0242ac1c0002level0_row2\" class=\"row_heading level0 row2\" >Cholesterol</th>\n",
              "                        <td id=\"T_e033edc6_5b48_11ec_84fd_0242ac1c0002row2_col0\" class=\"data row2 col0\" >410.000000</td>\n",
              "                        <td id=\"T_e033edc6_5b48_11ec_84fd_0242ac1c0002row2_col1\" class=\"data row2 col1\" >227.121951</td>\n",
              "                        <td id=\"T_e033edc6_5b48_11ec_84fd_0242ac1c0002row2_col2\" class=\"data row2 col2\" >74.634659</td>\n",
              "                        <td id=\"T_e033edc6_5b48_11ec_84fd_0242ac1c0002row2_col3\" class=\"data row2 col3\" >0.000000</td>\n",
              "                        <td id=\"T_e033edc6_5b48_11ec_84fd_0242ac1c0002row2_col4\" class=\"data row2 col4\" >197.250000</td>\n",
              "                        <td id=\"T_e033edc6_5b48_11ec_84fd_0242ac1c0002row2_col5\" class=\"data row2 col5\" >227.000000</td>\n",
              "                        <td id=\"T_e033edc6_5b48_11ec_84fd_0242ac1c0002row2_col6\" class=\"data row2 col6\" >266.750000</td>\n",
              "                        <td id=\"T_e033edc6_5b48_11ec_84fd_0242ac1c0002row2_col7\" class=\"data row2 col7\" >564.000000</td>\n",
              "            </tr>\n",
              "            <tr>\n",
              "                        <th id=\"T_e033edc6_5b48_11ec_84fd_0242ac1c0002level0_row3\" class=\"row_heading level0 row3\" >FastingBS</th>\n",
              "                        <td id=\"T_e033edc6_5b48_11ec_84fd_0242ac1c0002row3_col0\" class=\"data row3 col0\" >410.000000</td>\n",
              "                        <td id=\"T_e033edc6_5b48_11ec_84fd_0242ac1c0002row3_col1\" class=\"data row3 col1\" >0.107317</td>\n",
              "                        <td id=\"T_e033edc6_5b48_11ec_84fd_0242ac1c0002row3_col2\" class=\"data row3 col2\" >0.309894</td>\n",
              "                        <td id=\"T_e033edc6_5b48_11ec_84fd_0242ac1c0002row3_col3\" class=\"data row3 col3\" >0.000000</td>\n",
              "                        <td id=\"T_e033edc6_5b48_11ec_84fd_0242ac1c0002row3_col4\" class=\"data row3 col4\" >0.000000</td>\n",
              "                        <td id=\"T_e033edc6_5b48_11ec_84fd_0242ac1c0002row3_col5\" class=\"data row3 col5\" >0.000000</td>\n",
              "                        <td id=\"T_e033edc6_5b48_11ec_84fd_0242ac1c0002row3_col6\" class=\"data row3 col6\" >0.000000</td>\n",
              "                        <td id=\"T_e033edc6_5b48_11ec_84fd_0242ac1c0002row3_col7\" class=\"data row3 col7\" >1.000000</td>\n",
              "            </tr>\n",
              "            <tr>\n",
              "                        <th id=\"T_e033edc6_5b48_11ec_84fd_0242ac1c0002level0_row4\" class=\"row_heading level0 row4\" >MaxHR</th>\n",
              "                        <td id=\"T_e033edc6_5b48_11ec_84fd_0242ac1c0002row4_col0\" class=\"data row4 col0\" >410.000000</td>\n",
              "                        <td id=\"T_e033edc6_5b48_11ec_84fd_0242ac1c0002row4_col1\" class=\"data row4 col1\" >148.151220</td>\n",
              "                        <td id=\"T_e033edc6_5b48_11ec_84fd_0242ac1c0002row4_col2\" class=\"data row4 col2\" >23.288067</td>\n",
              "                        <td id=\"T_e033edc6_5b48_11ec_84fd_0242ac1c0002row4_col3\" class=\"data row4 col3\" >69.000000</td>\n",
              "                        <td id=\"T_e033edc6_5b48_11ec_84fd_0242ac1c0002row4_col4\" class=\"data row4 col4\" >134.000000</td>\n",
              "                        <td id=\"T_e033edc6_5b48_11ec_84fd_0242ac1c0002row4_col5\" class=\"data row4 col5\" >150.000000</td>\n",
              "                        <td id=\"T_e033edc6_5b48_11ec_84fd_0242ac1c0002row4_col6\" class=\"data row4 col6\" >165.000000</td>\n",
              "                        <td id=\"T_e033edc6_5b48_11ec_84fd_0242ac1c0002row4_col7\" class=\"data row4 col7\" >202.000000</td>\n",
              "            </tr>\n",
              "            <tr>\n",
              "                        <th id=\"T_e033edc6_5b48_11ec_84fd_0242ac1c0002level0_row5\" class=\"row_heading level0 row5\" >Oldpeak</th>\n",
              "                        <td id=\"T_e033edc6_5b48_11ec_84fd_0242ac1c0002row5_col0\" class=\"data row5 col0\" >410.000000</td>\n",
              "                        <td id=\"T_e033edc6_5b48_11ec_84fd_0242ac1c0002row5_col1\" class=\"data row5 col1\" >0.408049</td>\n",
              "                        <td id=\"T_e033edc6_5b48_11ec_84fd_0242ac1c0002row5_col2\" class=\"data row5 col2\" >0.699709</td>\n",
              "                        <td id=\"T_e033edc6_5b48_11ec_84fd_0242ac1c0002row5_col3\" class=\"data row5 col3\" >-1.100000</td>\n",
              "                        <td id=\"T_e033edc6_5b48_11ec_84fd_0242ac1c0002row5_col4\" class=\"data row5 col4\" >0.000000</td>\n",
              "                        <td id=\"T_e033edc6_5b48_11ec_84fd_0242ac1c0002row5_col5\" class=\"data row5 col5\" >0.000000</td>\n",
              "                        <td id=\"T_e033edc6_5b48_11ec_84fd_0242ac1c0002row5_col6\" class=\"data row5 col6\" >0.600000</td>\n",
              "                        <td id=\"T_e033edc6_5b48_11ec_84fd_0242ac1c0002row5_col7\" class=\"data row5 col7\" >4.200000</td>\n",
              "            </tr>\n",
              "            <tr>\n",
              "                        <th id=\"T_e033edc6_5b48_11ec_84fd_0242ac1c0002level0_row6\" class=\"row_heading level0 row6\" >HeartDisease</th>\n",
              "                        <td id=\"T_e033edc6_5b48_11ec_84fd_0242ac1c0002row6_col0\" class=\"data row6 col0\" >410.000000</td>\n",
              "                        <td id=\"T_e033edc6_5b48_11ec_84fd_0242ac1c0002row6_col1\" class=\"data row6 col1\" >0.000000</td>\n",
              "                        <td id=\"T_e033edc6_5b48_11ec_84fd_0242ac1c0002row6_col2\" class=\"data row6 col2\" >0.000000</td>\n",
              "                        <td id=\"T_e033edc6_5b48_11ec_84fd_0242ac1c0002row6_col3\" class=\"data row6 col3\" >0.000000</td>\n",
              "                        <td id=\"T_e033edc6_5b48_11ec_84fd_0242ac1c0002row6_col4\" class=\"data row6 col4\" >0.000000</td>\n",
              "                        <td id=\"T_e033edc6_5b48_11ec_84fd_0242ac1c0002row6_col5\" class=\"data row6 col5\" >0.000000</td>\n",
              "                        <td id=\"T_e033edc6_5b48_11ec_84fd_0242ac1c0002row6_col6\" class=\"data row6 col6\" >0.000000</td>\n",
              "                        <td id=\"T_e033edc6_5b48_11ec_84fd_0242ac1c0002row6_col7\" class=\"data row6 col7\" >0.000000</td>\n",
              "            </tr>\n",
              "    </tbody></table>"
            ],
            "text/plain": [
              "<pandas.io.formats.style.Styler at 0x7f43a6b0ba90>"
            ]
          },
          "metadata": {},
          "execution_count": 8
        }
      ]
    },
    {
      "cell_type": "code",
      "metadata": {
        "colab": {
          "base_uri": "https://localhost:8080/",
          "height": 269
        },
        "id": "0XGJn7cSLaOV",
        "outputId": "0194a2d3-84a9-4f1c-a456-200cae18d94e"
      },
      "source": [
        "data[data['HeartDisease']==1].describe().T.style.background_gradient(subset=['mean','std','50%','count'], cmap='YlGn')"
      ],
      "execution_count": null,
      "outputs": [
        {
          "output_type": "execute_result",
          "data": {
            "text/html": [
              "<style  type=\"text/css\" >\n",
              "#T_e03a5b0c_5b48_11ec_84fd_0242ac1c0002row0_col0,#T_e03a5b0c_5b48_11ec_84fd_0242ac1c0002row1_col0,#T_e03a5b0c_5b48_11ec_84fd_0242ac1c0002row2_col0,#T_e03a5b0c_5b48_11ec_84fd_0242ac1c0002row3_col0,#T_e03a5b0c_5b48_11ec_84fd_0242ac1c0002row3_col1,#T_e03a5b0c_5b48_11ec_84fd_0242ac1c0002row3_col2,#T_e03a5b0c_5b48_11ec_84fd_0242ac1c0002row3_col5,#T_e03a5b0c_5b48_11ec_84fd_0242ac1c0002row4_col0,#T_e03a5b0c_5b48_11ec_84fd_0242ac1c0002row5_col0,#T_e03a5b0c_5b48_11ec_84fd_0242ac1c0002row6_col0,#T_e03a5b0c_5b48_11ec_84fd_0242ac1c0002row6_col1,#T_e03a5b0c_5b48_11ec_84fd_0242ac1c0002row6_col2{\n",
              "            background-color:  #ffffe5;\n",
              "            color:  #000000;\n",
              "        }#T_e03a5b0c_5b48_11ec_84fd_0242ac1c0002row0_col1{\n",
              "            background-color:  #c1e698;\n",
              "            color:  #000000;\n",
              "        }#T_e03a5b0c_5b48_11ec_84fd_0242ac1c0002row0_col2{\n",
              "            background-color:  #fbfdce;\n",
              "            color:  #000000;\n",
              "        }#T_e03a5b0c_5b48_11ec_84fd_0242ac1c0002row0_col5{\n",
              "            background-color:  #d5eea1;\n",
              "            color:  #000000;\n",
              "        }#T_e03a5b0c_5b48_11ec_84fd_0242ac1c0002row1_col1{\n",
              "            background-color:  #1f8142;\n",
              "            color:  #f1f1f1;\n",
              "        }#T_e03a5b0c_5b48_11ec_84fd_0242ac1c0002row1_col2{\n",
              "            background-color:  #eff9b3;\n",
              "            color:  #000000;\n",
              "        }#T_e03a5b0c_5b48_11ec_84fd_0242ac1c0002row1_col5{\n",
              "            background-color:  #49af61;\n",
              "            color:  #000000;\n",
              "        }#T_e03a5b0c_5b48_11ec_84fd_0242ac1c0002row2_col1,#T_e03a5b0c_5b48_11ec_84fd_0242ac1c0002row2_col2,#T_e03a5b0c_5b48_11ec_84fd_0242ac1c0002row2_col5{\n",
              "            background-color:  #004529;\n",
              "            color:  #f1f1f1;\n",
              "        }#T_e03a5b0c_5b48_11ec_84fd_0242ac1c0002row4_col1{\n",
              "            background-color:  #298c48;\n",
              "            color:  #000000;\n",
              "        }#T_e03a5b0c_5b48_11ec_84fd_0242ac1c0002row4_col2{\n",
              "            background-color:  #e9f6af;\n",
              "            color:  #000000;\n",
              "        }#T_e03a5b0c_5b48_11ec_84fd_0242ac1c0002row4_col5{\n",
              "            background-color:  #55b567;\n",
              "            color:  #000000;\n",
              "        }#T_e03a5b0c_5b48_11ec_84fd_0242ac1c0002row5_col1,#T_e03a5b0c_5b48_11ec_84fd_0242ac1c0002row5_col5,#T_e03a5b0c_5b48_11ec_84fd_0242ac1c0002row6_col5{\n",
              "            background-color:  #ffffe4;\n",
              "            color:  #000000;\n",
              "        }#T_e03a5b0c_5b48_11ec_84fd_0242ac1c0002row5_col2{\n",
              "            background-color:  #feffe2;\n",
              "            color:  #000000;\n",
              "        }</style><table id=\"T_e03a5b0c_5b48_11ec_84fd_0242ac1c0002\" class=\"dataframe\"><thead>    <tr>        <th class=\"blank level0\" ></th>        <th class=\"col_heading level0 col0\" >count</th>        <th class=\"col_heading level0 col1\" >mean</th>        <th class=\"col_heading level0 col2\" >std</th>        <th class=\"col_heading level0 col3\" >min</th>        <th class=\"col_heading level0 col4\" >25%</th>        <th class=\"col_heading level0 col5\" >50%</th>        <th class=\"col_heading level0 col6\" >75%</th>        <th class=\"col_heading level0 col7\" >max</th>    </tr></thead><tbody>\n",
              "                <tr>\n",
              "                        <th id=\"T_e03a5b0c_5b48_11ec_84fd_0242ac1c0002level0_row0\" class=\"row_heading level0 row0\" >Age</th>\n",
              "                        <td id=\"T_e03a5b0c_5b48_11ec_84fd_0242ac1c0002row0_col0\" class=\"data row0 col0\" >508.000000</td>\n",
              "                        <td id=\"T_e03a5b0c_5b48_11ec_84fd_0242ac1c0002row0_col1\" class=\"data row0 col1\" >55.899606</td>\n",
              "                        <td id=\"T_e03a5b0c_5b48_11ec_84fd_0242ac1c0002row0_col2\" class=\"data row0 col2\" >8.727056</td>\n",
              "                        <td id=\"T_e03a5b0c_5b48_11ec_84fd_0242ac1c0002row0_col3\" class=\"data row0 col3\" >31.000000</td>\n",
              "                        <td id=\"T_e03a5b0c_5b48_11ec_84fd_0242ac1c0002row0_col4\" class=\"data row0 col4\" >51.000000</td>\n",
              "                        <td id=\"T_e03a5b0c_5b48_11ec_84fd_0242ac1c0002row0_col5\" class=\"data row0 col5\" >57.000000</td>\n",
              "                        <td id=\"T_e03a5b0c_5b48_11ec_84fd_0242ac1c0002row0_col6\" class=\"data row0 col6\" >62.000000</td>\n",
              "                        <td id=\"T_e03a5b0c_5b48_11ec_84fd_0242ac1c0002row0_col7\" class=\"data row0 col7\" >77.000000</td>\n",
              "            </tr>\n",
              "            <tr>\n",
              "                        <th id=\"T_e03a5b0c_5b48_11ec_84fd_0242ac1c0002level0_row1\" class=\"row_heading level0 row1\" >RestingBP</th>\n",
              "                        <td id=\"T_e03a5b0c_5b48_11ec_84fd_0242ac1c0002row1_col0\" class=\"data row1 col0\" >508.000000</td>\n",
              "                        <td id=\"T_e03a5b0c_5b48_11ec_84fd_0242ac1c0002row1_col1\" class=\"data row1 col1\" >134.185039</td>\n",
              "                        <td id=\"T_e03a5b0c_5b48_11ec_84fd_0242ac1c0002row1_col2\" class=\"data row1 col2\" >19.828685</td>\n",
              "                        <td id=\"T_e03a5b0c_5b48_11ec_84fd_0242ac1c0002row1_col3\" class=\"data row1 col3\" >0.000000</td>\n",
              "                        <td id=\"T_e03a5b0c_5b48_11ec_84fd_0242ac1c0002row1_col4\" class=\"data row1 col4\" >120.000000</td>\n",
              "                        <td id=\"T_e03a5b0c_5b48_11ec_84fd_0242ac1c0002row1_col5\" class=\"data row1 col5\" >132.000000</td>\n",
              "                        <td id=\"T_e03a5b0c_5b48_11ec_84fd_0242ac1c0002row1_col6\" class=\"data row1 col6\" >145.000000</td>\n",
              "                        <td id=\"T_e03a5b0c_5b48_11ec_84fd_0242ac1c0002row1_col7\" class=\"data row1 col7\" >200.000000</td>\n",
              "            </tr>\n",
              "            <tr>\n",
              "                        <th id=\"T_e03a5b0c_5b48_11ec_84fd_0242ac1c0002level0_row2\" class=\"row_heading level0 row2\" >Cholesterol</th>\n",
              "                        <td id=\"T_e03a5b0c_5b48_11ec_84fd_0242ac1c0002row2_col0\" class=\"data row2 col0\" >508.000000</td>\n",
              "                        <td id=\"T_e03a5b0c_5b48_11ec_84fd_0242ac1c0002row2_col1\" class=\"data row2 col1\" >175.940945</td>\n",
              "                        <td id=\"T_e03a5b0c_5b48_11ec_84fd_0242ac1c0002row2_col2\" class=\"data row2 col2\" >126.391398</td>\n",
              "                        <td id=\"T_e03a5b0c_5b48_11ec_84fd_0242ac1c0002row2_col3\" class=\"data row2 col3\" >0.000000</td>\n",
              "                        <td id=\"T_e03a5b0c_5b48_11ec_84fd_0242ac1c0002row2_col4\" class=\"data row2 col4\" >0.000000</td>\n",
              "                        <td id=\"T_e03a5b0c_5b48_11ec_84fd_0242ac1c0002row2_col5\" class=\"data row2 col5\" >217.000000</td>\n",
              "                        <td id=\"T_e03a5b0c_5b48_11ec_84fd_0242ac1c0002row2_col6\" class=\"data row2 col6\" >267.000000</td>\n",
              "                        <td id=\"T_e03a5b0c_5b48_11ec_84fd_0242ac1c0002row2_col7\" class=\"data row2 col7\" >603.000000</td>\n",
              "            </tr>\n",
              "            <tr>\n",
              "                        <th id=\"T_e03a5b0c_5b48_11ec_84fd_0242ac1c0002level0_row3\" class=\"row_heading level0 row3\" >FastingBS</th>\n",
              "                        <td id=\"T_e03a5b0c_5b48_11ec_84fd_0242ac1c0002row3_col0\" class=\"data row3 col0\" >508.000000</td>\n",
              "                        <td id=\"T_e03a5b0c_5b48_11ec_84fd_0242ac1c0002row3_col1\" class=\"data row3 col1\" >0.334646</td>\n",
              "                        <td id=\"T_e03a5b0c_5b48_11ec_84fd_0242ac1c0002row3_col2\" class=\"data row3 col2\" >0.472332</td>\n",
              "                        <td id=\"T_e03a5b0c_5b48_11ec_84fd_0242ac1c0002row3_col3\" class=\"data row3 col3\" >0.000000</td>\n",
              "                        <td id=\"T_e03a5b0c_5b48_11ec_84fd_0242ac1c0002row3_col4\" class=\"data row3 col4\" >0.000000</td>\n",
              "                        <td id=\"T_e03a5b0c_5b48_11ec_84fd_0242ac1c0002row3_col5\" class=\"data row3 col5\" >0.000000</td>\n",
              "                        <td id=\"T_e03a5b0c_5b48_11ec_84fd_0242ac1c0002row3_col6\" class=\"data row3 col6\" >1.000000</td>\n",
              "                        <td id=\"T_e03a5b0c_5b48_11ec_84fd_0242ac1c0002row3_col7\" class=\"data row3 col7\" >1.000000</td>\n",
              "            </tr>\n",
              "            <tr>\n",
              "                        <th id=\"T_e03a5b0c_5b48_11ec_84fd_0242ac1c0002level0_row4\" class=\"row_heading level0 row4\" >MaxHR</th>\n",
              "                        <td id=\"T_e03a5b0c_5b48_11ec_84fd_0242ac1c0002row4_col0\" class=\"data row4 col0\" >508.000000</td>\n",
              "                        <td id=\"T_e03a5b0c_5b48_11ec_84fd_0242ac1c0002row4_col1\" class=\"data row4 col1\" >127.655512</td>\n",
              "                        <td id=\"T_e03a5b0c_5b48_11ec_84fd_0242ac1c0002row4_col2\" class=\"data row4 col2\" >23.386923</td>\n",
              "                        <td id=\"T_e03a5b0c_5b48_11ec_84fd_0242ac1c0002row4_col3\" class=\"data row4 col3\" >60.000000</td>\n",
              "                        <td id=\"T_e03a5b0c_5b48_11ec_84fd_0242ac1c0002row4_col4\" class=\"data row4 col4\" >112.000000</td>\n",
              "                        <td id=\"T_e03a5b0c_5b48_11ec_84fd_0242ac1c0002row4_col5\" class=\"data row4 col5\" >126.000000</td>\n",
              "                        <td id=\"T_e03a5b0c_5b48_11ec_84fd_0242ac1c0002row4_col6\" class=\"data row4 col6\" >144.250000</td>\n",
              "                        <td id=\"T_e03a5b0c_5b48_11ec_84fd_0242ac1c0002row4_col7\" class=\"data row4 col7\" >195.000000</td>\n",
              "            </tr>\n",
              "            <tr>\n",
              "                        <th id=\"T_e03a5b0c_5b48_11ec_84fd_0242ac1c0002level0_row5\" class=\"row_heading level0 row5\" >Oldpeak</th>\n",
              "                        <td id=\"T_e03a5b0c_5b48_11ec_84fd_0242ac1c0002row5_col0\" class=\"data row5 col0\" >508.000000</td>\n",
              "                        <td id=\"T_e03a5b0c_5b48_11ec_84fd_0242ac1c0002row5_col1\" class=\"data row5 col1\" >1.274213</td>\n",
              "                        <td id=\"T_e03a5b0c_5b48_11ec_84fd_0242ac1c0002row5_col2\" class=\"data row5 col2\" >1.151872</td>\n",
              "                        <td id=\"T_e03a5b0c_5b48_11ec_84fd_0242ac1c0002row5_col3\" class=\"data row5 col3\" >-2.600000</td>\n",
              "                        <td id=\"T_e03a5b0c_5b48_11ec_84fd_0242ac1c0002row5_col4\" class=\"data row5 col4\" >0.000000</td>\n",
              "                        <td id=\"T_e03a5b0c_5b48_11ec_84fd_0242ac1c0002row5_col5\" class=\"data row5 col5\" >1.200000</td>\n",
              "                        <td id=\"T_e03a5b0c_5b48_11ec_84fd_0242ac1c0002row5_col6\" class=\"data row5 col6\" >2.000000</td>\n",
              "                        <td id=\"T_e03a5b0c_5b48_11ec_84fd_0242ac1c0002row5_col7\" class=\"data row5 col7\" >6.200000</td>\n",
              "            </tr>\n",
              "            <tr>\n",
              "                        <th id=\"T_e03a5b0c_5b48_11ec_84fd_0242ac1c0002level0_row6\" class=\"row_heading level0 row6\" >HeartDisease</th>\n",
              "                        <td id=\"T_e03a5b0c_5b48_11ec_84fd_0242ac1c0002row6_col0\" class=\"data row6 col0\" >508.000000</td>\n",
              "                        <td id=\"T_e03a5b0c_5b48_11ec_84fd_0242ac1c0002row6_col1\" class=\"data row6 col1\" >1.000000</td>\n",
              "                        <td id=\"T_e03a5b0c_5b48_11ec_84fd_0242ac1c0002row6_col2\" class=\"data row6 col2\" >0.000000</td>\n",
              "                        <td id=\"T_e03a5b0c_5b48_11ec_84fd_0242ac1c0002row6_col3\" class=\"data row6 col3\" >1.000000</td>\n",
              "                        <td id=\"T_e03a5b0c_5b48_11ec_84fd_0242ac1c0002row6_col4\" class=\"data row6 col4\" >1.000000</td>\n",
              "                        <td id=\"T_e03a5b0c_5b48_11ec_84fd_0242ac1c0002row6_col5\" class=\"data row6 col5\" >1.000000</td>\n",
              "                        <td id=\"T_e03a5b0c_5b48_11ec_84fd_0242ac1c0002row6_col6\" class=\"data row6 col6\" >1.000000</td>\n",
              "                        <td id=\"T_e03a5b0c_5b48_11ec_84fd_0242ac1c0002row6_col7\" class=\"data row6 col7\" >1.000000</td>\n",
              "            </tr>\n",
              "    </tbody></table>"
            ],
            "text/plain": [
              "<pandas.io.formats.style.Styler at 0x7f43ae075550>"
            ]
          },
          "metadata": {},
          "execution_count": 9
        }
      ]
    },
    {
      "cell_type": "markdown",
      "metadata": {
        "id": "EIiXkZhDfHRz"
      },
      "source": [
        "**Visualize the data**"
      ]
    },
    {
      "cell_type": "code",
      "metadata": {
        "colab": {
          "base_uri": "https://localhost:8080/",
          "height": 1000
        },
        "id": "sPDAqTPCcz0H",
        "outputId": "b7fa9626-b9e1-4f89-cc2f-4fcc83b3abc9"
      },
      "source": [
        "num_feat = [\"Age\",\n",
        "           \"RestingBP\",\n",
        "           \"Cholesterol\",\n",
        "           \"FastingBS\",\n",
        "           \"MaxHR\",\n",
        "           \"Oldpeak\",\n",
        "           \"HeartDisease\"\n",
        "           ]\n",
        "\n",
        "\n",
        "for col in EDA[num_feat]:\n",
        "    plt.figure()\n",
        "    sns.distplot(EDA[col])\n",
        "    plt.show()"
      ],
      "execution_count": null,
      "outputs": [
        {
          "output_type": "stream",
          "name": "stderr",
          "text": [
            "/usr/local/lib/python3.7/dist-packages/seaborn/distributions.py:2619: FutureWarning:\n",
            "\n",
            "`distplot` is a deprecated function and will be removed in a future version. Please adapt your code to use either `displot` (a figure-level function with similar flexibility) or `histplot` (an axes-level function for histograms).\n",
            "\n"
          ]
        },
        {
          "output_type": "display_data",
          "data": {
            "image/png": "[encoded data removed]",
            "text/plain": [
              "<Figure size 432x288 with 1 Axes>"
            ]
          },
          "metadata": {
            "needs_background": "light"
          }
        },
        {
          "output_type": "stream",
          "name": "stderr",
          "text": [
            "/usr/local/lib/python3.7/dist-packages/seaborn/distributions.py:2619: FutureWarning:\n",
            "\n",
            "`distplot` is a deprecated function and will be removed in a future version. Please adapt your code to use either `displot` (a figure-level function with similar flexibility) or `histplot` (an axes-level function for histograms).\n",
            "\n"
          ]
        },
        {
          "output_type": "display_data",
          "data": {
            "image/png": "[encoded data removed]",
            "text/plain": [
              "<Figure size 432x288 with 1 Axes>"
            ]
          },
          "metadata": {
            "needs_background": "light"
          }
        },
        {
          "output_type": "stream",
          "name": "stderr",
          "text": [
            "/usr/local/lib/python3.7/dist-packages/seaborn/distributions.py:2619: FutureWarning:\n",
            "\n",
            "`distplot` is a deprecated function and will be removed in a future version. Please adapt your code to use either `displot` (a figure-level function with similar flexibility) or `histplot` (an axes-level function for histograms).\n",
            "\n"
          ]
        },
        {
          "output_type": "display_data",
          "data": {
            "image/png": "[encoded data removed]",
            "text/plain": [
              "<Figure size 432x288 with 1 Axes>"
            ]
          },
          "metadata": {
            "needs_background": "light"
          }
        },
        {
          "output_type": "stream",
          "name": "stderr",
          "text": [
            "/usr/local/lib/python3.7/dist-packages/seaborn/distributions.py:2619: FutureWarning:\n",
            "\n",
            "`distplot` is a deprecated function and will be removed in a future version. Please adapt your code to use either `displot` (a figure-level function with similar flexibility) or `histplot` (an axes-level function for histograms).\n",
            "\n"
          ]
        },
        {
          "output_type": "display_data",
          "data": {
            "image/png": "[encoded data removed]",
            "text/plain": [
              "<Figure size 432x288 with 1 Axes>"
            ]
          },
          "metadata": {
            "needs_background": "light"
          }
        },
        {
          "output_type": "stream",
          "name": "stderr",
          "text": [
            "/usr/local/lib/python3.7/dist-packages/seaborn/distributions.py:2619: FutureWarning:\n",
            "\n",
            "`distplot` is a deprecated function and will be removed in a future version. Please adapt your code to use either `displot` (a figure-level function with similar flexibility) or `histplot` (an axes-level function for histograms).\n",
            "\n"
          ]
        },
        {
          "output_type": "display_data",
          "data": {
            "image/png": "[encoded data removed]",
            "text/plain": [
              "<Figure size 432x288 with 1 Axes>"
            ]
          },
          "metadata": {
            "needs_background": "light"
          }
        },
        {
          "output_type": "stream",
          "name": "stderr",
          "text": [
            "/usr/local/lib/python3.7/dist-packages/seaborn/distributions.py:2619: FutureWarning:\n",
            "\n",
            "`distplot` is a deprecated function and will be removed in a future version. Please adapt your code to use either `displot` (a figure-level function with similar flexibility) or `histplot` (an axes-level function for histograms).\n",
            "\n"
          ]
        },
        {
          "output_type": "display_data",
          "data": {
            "image/png": "[encoded data removed]",
            "text/plain": [
              "<Figure size 432x288 with 1 Axes>"
            ]
          },
          "metadata": {
            "needs_background": "light"
          }
        },
        {
          "output_type": "stream",
          "name": "stderr",
          "text": [
            "/usr/local/lib/python3.7/dist-packages/seaborn/distributions.py:2619: FutureWarning:\n",
            "\n",
            "`distplot` is a deprecated function and will be removed in a future version. Please adapt your code to use either `displot` (a figure-level function with similar flexibility) or `histplot` (an axes-level function for histograms).\n",
            "\n"
          ]
        },
        {
          "output_type": "display_data",
          "data": {
            "image/png": "[encoded data removed]",
            "text/plain": [
              "<Figure size 432x288 with 1 Axes>"
            ]
          },
          "metadata": {
            "needs_background": "light"
          }
        }
      ]
    },
    {
      "cell_type": "code",
      "metadata": {
        "colab": {
          "base_uri": "https://localhost:8080/",
          "height": 542
        },
        "id": "efJwYi1CnOIy",
        "outputId": "19b8cedb-e45f-475c-a832-1d9dd128708d"
      },
      "source": [
        "\n",
        "\n",
        "fig = go.Figure(data=[go.Pie(labels=data['HeartDisease'].value_counts().index,\n",
        "                             values=data['HeartDisease'].value_counts().values)])\n",
        "\n",
        "fig.update_layout(\n",
        "title_text=\"Heart disease \")\n",
        "fig.show()"
      ],
      "execution_count": null,
      "outputs": [
        {
          "output_type": "display_data",
          "data": {
            "text/html": [
              "<html>\n",
              "<head><meta charset=\"utf-8\" /></head>\n",
              "<body>\n",
              "    <div>\n",
              "            <script src=\"https://cdnjs.cloudflare.com/ajax/libs/mathjax/2.7.5/MathJax.js?config=TeX-AMS-MML_SVG\"></script><script type=\"text/javascript\">if (window.MathJax) {MathJax.Hub.Config({SVG: {font: \"STIX-Web\"}});}</script>\n",
              "                <script type=\"text/javascript\">window.PlotlyConfig = {MathJaxConfig: 'local'};</script>\n",
              "        <script src=\"https://cdn.plot.ly/plotly-latest.min.js\"></script>    \n",
              "            <div id=\"e3678dfa-1d5a-4ee2-b285-d9fe59a98928\" class=\"plotly-graph-div\" style=\"height:525px; width:100%;\"></div>\n",
              "            <script type=\"text/javascript\">\n",
              "                \n",
              "                    window.PLOTLYENV=window.PLOTLYENV || {};\n",
              "                    \n",
              "                if (document.getElementById(\"e3678dfa-1d5a-4ee2-b285-d9fe59a98928\")) {\n",
              "                    Plotly.newPlot(\n",
              "                        'e3678dfa-1d5a-4ee2-b285-d9fe59a98928',\n",
              "                        [{\"labels\": [1, 0], \"type\": \"pie\", \"values\": [508, 410]}],\n",
              "                        {\"template\": {\"data\": {\"bar\": [{\"error_x\": {\"color\": \"#2a3f5f\"}, \"error_y\": {\"color\": \"#2a3f5f\"}, \"marker\": {\"line\": {\"color\": \"#E5ECF6\", \"width\": 0.5}}, \"type\": \"bar\"}], \"barpolar\": [{\"marker\": {\"line\": {\"color\": \"#E5ECF6\", \"width\": 0.5}}, \"type\": \"barpolar\"}], \"carpet\": [{\"aaxis\": {\"endlinecolor\": \"#2a3f5f\", \"gridcolor\": \"white\", \"linecolor\": \"white\", \"minorgridcolor\": \"white\", \"startlinecolor\": \"#2a3f5f\"}, \"baxis\": {\"endlinecolor\": \"#2a3f5f\", \"gridcolor\": \"white\", \"linecolor\": \"white\", \"minorgridcolor\": \"white\", \"startlinecolor\": \"#2a3f5f\"}, \"type\": \"carpet\"}], \"choropleth\": [{\"colorbar\": {\"outlinewidth\": 0, \"ticks\": \"\"}, \"type\": \"choropleth\"}], \"contour\": [{\"colorbar\": {\"outlinewidth\": 0, \"ticks\": \"\"}, \"colorscale\": [[0.0, \"#0d0887\"], [0.1111111111111111, \"#46039f\"], [0.2222222222222222, \"#7201a8\"], [0.3333333333333333, \"#9c179e\"], [0.4444444444444444, \"#bd3786\"], [0.5555555555555556, \"#d8576b\"], [0.6666666666666666, \"#ed7953\"], [0.7777777777777778, \"#fb9f3a\"], [0.8888888888888888, \"#fdca26\"], [1.0, \"#f0f921\"]], \"type\": \"contour\"}], \"contourcarpet\": [{\"colorbar\": {\"outlinewidth\": 0, \"ticks\": \"\"}, \"type\": \"contourcarpet\"}], \"heatmap\": [{\"colorbar\": {\"outlinewidth\": 0, \"ticks\": \"\"}, \"colorscale\": [[0.0, \"#0d0887\"], [0.1111111111111111, \"#46039f\"], [0.2222222222222222, \"#7201a8\"], [0.3333333333333333, \"#9c179e\"], [0.4444444444444444, \"#bd3786\"], [0.5555555555555556, \"#d8576b\"], [0.6666666666666666, \"#ed7953\"], [0.7777777777777778, \"#fb9f3a\"], [0.8888888888888888, \"#fdca26\"], [1.0, \"#f0f921\"]], \"type\": \"heatmap\"}], \"heatmapgl\": [{\"colorbar\": {\"outlinewidth\": 0, \"ticks\": \"\"}, \"colorscale\": [[0.0, \"#0d0887\"], [0.1111111111111111, \"#46039f\"], [0.2222222222222222, \"#7201a8\"], [0.3333333333333333, \"#9c179e\"], [0.4444444444444444, \"#bd3786\"], [0.5555555555555556, \"#d8576b\"], [0.6666666666666666, \"#ed7953\"], [0.7777777777777778, \"#fb9f3a\"], [0.8888888888888888, \"#fdca26\"], [1.0, \"#f0f921\"]], \"type\": \"heatmapgl\"}], \"histogram\": [{\"marker\": {\"colorbar\": {\"outlinewidth\": 0, \"ticks\": \"\"}}, \"type\": \"histogram\"}], \"histogram2d\": [{\"colorbar\": {\"outlinewidth\": 0, \"ticks\": \"\"}, \"colorscale\": [[0.0, \"#0d0887\"], [0.1111111111111111, \"#46039f\"], [0.2222222222222222, \"#7201a8\"], [0.3333333333333333, \"#9c179e\"], [0.4444444444444444, \"#bd3786\"], [0.5555555555555556, \"#d8576b\"], [0.6666666666666666, \"#ed7953\"], [0.7777777777777778, \"#fb9f3a\"], [0.8888888888888888, \"#fdca26\"], [1.0, \"#f0f921\"]], \"type\": \"histogram2d\"}], \"histogram2dcontour\": [{\"colorbar\": {\"outlinewidth\": 0, \"ticks\": \"\"}, \"colorscale\": [[0.0, \"#0d0887\"], [0.1111111111111111, \"#46039f\"], [0.2222222222222222, \"#7201a8\"], [0.3333333333333333, \"#9c179e\"], [0.4444444444444444, \"#bd3786\"], [0.5555555555555556, \"#d8576b\"], [0.6666666666666666, \"#ed7953\"], [0.7777777777777778, \"#fb9f3a\"], [0.8888888888888888, \"#fdca26\"], [1.0, \"#f0f921\"]], \"type\": \"histogram2dcontour\"}], \"mesh3d\": [{\"colorbar\": {\"outlinewidth\": 0, \"ticks\": \"\"}, \"type\": \"mesh3d\"}], \"parcoords\": [{\"line\": {\"colorbar\": {\"outlinewidth\": 0, \"ticks\": \"\"}}, \"type\": \"parcoords\"}], \"pie\": [{\"automargin\": true, \"type\": \"pie\"}], \"scatter\": [{\"marker\": {\"colorbar\": {\"outlinewidth\": 0, \"ticks\": \"\"}}, \"type\": \"scatter\"}], \"scatter3d\": [{\"line\": {\"colorbar\": {\"outlinewidth\": 0, \"ticks\": \"\"}}, \"marker\": {\"colorbar\": {\"outlinewidth\": 0, \"ticks\": \"\"}}, \"type\": \"scatter3d\"}], \"scattercarpet\": [{\"marker\": {\"colorbar\": {\"outlinewidth\": 0, \"ticks\": \"\"}}, \"type\": \"scattercarpet\"}], \"scattergeo\": [{\"marker\": {\"colorbar\": {\"outlinewidth\": 0, \"ticks\": \"\"}}, \"type\": \"scattergeo\"}], \"scattergl\": [{\"marker\": {\"colorbar\": {\"outlinewidth\": 0, \"ticks\": \"\"}}, \"type\": \"scattergl\"}], \"scattermapbox\": [{\"marker\": {\"colorbar\": {\"outlinewidth\": 0, \"ticks\": \"\"}}, \"type\": \"scattermapbox\"}], \"scatterpolar\": [{\"marker\": {\"colorbar\": {\"outlinewidth\": 0, \"ticks\": \"\"}}, \"type\": \"scatterpolar\"}], \"scatterpolargl\": [{\"marker\": {\"colorbar\": {\"outlinewidth\": 0, \"ticks\": \"\"}}, \"type\": \"scatterpolargl\"}], \"scatterternary\": [{\"marker\": {\"colorbar\": {\"outlinewidth\": 0, \"ticks\": \"\"}}, \"type\": \"scatterternary\"}], \"surface\": [{\"colorbar\": {\"outlinewidth\": 0, \"ticks\": \"\"}, \"colorscale\": [[0.0, \"#0d0887\"], [0.1111111111111111, \"#46039f\"], [0.2222222222222222, \"#7201a8\"], [0.3333333333333333, \"#9c179e\"], [0.4444444444444444, \"#bd3786\"], [0.5555555555555556, \"#d8576b\"], [0.6666666666666666, \"#ed7953\"], [0.7777777777777778, \"#fb9f3a\"], [0.8888888888888888, \"#fdca26\"], [1.0, \"#f0f921\"]], \"type\": \"surface\"}], \"table\": [{\"cells\": {\"fill\": {\"color\": \"#EBF0F8\"}, \"line\": {\"color\": \"white\"}}, \"header\": {\"fill\": {\"color\": \"#C8D4E3\"}, \"line\": {\"color\": \"white\"}}, \"type\": \"table\"}]}, \"layout\": {\"annotationdefaults\": {\"arrowcolor\": \"#2a3f5f\", \"arrowhead\": 0, \"arrowwidth\": 1}, \"coloraxis\": {\"colorbar\": {\"outlinewidth\": 0, \"ticks\": \"\"}}, \"colorscale\": {\"diverging\": [[0, \"#8e0152\"], [0.1, \"#c51b7d\"], [0.2, \"#de77ae\"], [0.3, \"#f1b6da\"], [0.4, \"#fde0ef\"], [0.5, \"#f7f7f7\"], [0.6, \"#e6f5d0\"], [0.7, \"#b8e186\"], [0.8, \"#7fbc41\"], [0.9, \"#4d9221\"], [1, \"#276419\"]], \"sequential\": [[0.0, \"#0d0887\"], [0.1111111111111111, \"#46039f\"], [0.2222222222222222, \"#7201a8\"], [0.3333333333333333, \"#9c179e\"], [0.4444444444444444, \"#bd3786\"], [0.5555555555555556, \"#d8576b\"], [0.6666666666666666, \"#ed7953\"], [0.7777777777777778, \"#fb9f3a\"], [0.8888888888888888, \"#fdca26\"], [1.0, \"#f0f921\"]], \"sequentialminus\": [[0.0, \"#0d0887\"], [0.1111111111111111, \"#46039f\"], [0.2222222222222222, \"#7201a8\"], [0.3333333333333333, \"#9c179e\"], [0.4444444444444444, \"#bd3786\"], [0.5555555555555556, \"#d8576b\"], [0.6666666666666666, \"#ed7953\"], [0.7777777777777778, \"#fb9f3a\"], [0.8888888888888888, \"#fdca26\"], [1.0, \"#f0f921\"]]}, \"colorway\": [\"#636efa\", \"#EF553B\", \"#00cc96\", \"#ab63fa\", \"#FFA15A\", \"#19d3f3\", \"#FF6692\", \"#B6E880\", \"#FF97FF\", \"#FECB52\"], \"font\": {\"color\": \"#2a3f5f\"}, \"geo\": {\"bgcolor\": \"white\", \"lakecolor\": \"white\", \"landcolor\": \"#E5ECF6\", \"showlakes\": true, \"showland\": true, \"subunitcolor\": \"white\"}, \"hoverlabel\": {\"align\": \"left\"}, \"hovermode\": \"closest\", \"mapbox\": {\"style\": \"light\"}, \"paper_bgcolor\": \"white\", \"plot_bgcolor\": \"#E5ECF6\", \"polar\": {\"angularaxis\": {\"gridcolor\": \"white\", \"linecolor\": \"white\", \"ticks\": \"\"}, \"bgcolor\": \"#E5ECF6\", \"radialaxis\": {\"gridcolor\": \"white\", \"linecolor\": \"white\", \"ticks\": \"\"}}, \"scene\": {\"xaxis\": {\"backgroundcolor\": \"#E5ECF6\", \"gridcolor\": \"white\", \"gridwidth\": 2, \"linecolor\": \"white\", \"showbackground\": true, \"ticks\": \"\", \"zerolinecolor\": \"white\"}, \"yaxis\": {\"backgroundcolor\": \"#E5ECF6\", \"gridcolor\": \"white\", \"gridwidth\": 2, \"linecolor\": \"white\", \"showbackground\": true, \"ticks\": \"\", \"zerolinecolor\": \"white\"}, \"zaxis\": {\"backgroundcolor\": \"#E5ECF6\", \"gridcolor\": \"white\", \"gridwidth\": 2, \"linecolor\": \"white\", \"showbackground\": true, \"ticks\": \"\", \"zerolinecolor\": \"white\"}}, \"shapedefaults\": {\"line\": {\"color\": \"#2a3f5f\"}}, \"ternary\": {\"aaxis\": {\"gridcolor\": \"white\", \"linecolor\": \"white\", \"ticks\": \"\"}, \"baxis\": {\"gridcolor\": \"white\", \"linecolor\": \"white\", \"ticks\": \"\"}, \"bgcolor\": \"#E5ECF6\", \"caxis\": {\"gridcolor\": \"white\", \"linecolor\": \"white\", \"ticks\": \"\"}}, \"title\": {\"x\": 0.05}, \"xaxis\": {\"automargin\": true, \"gridcolor\": \"white\", \"linecolor\": \"white\", \"ticks\": \"\", \"title\": {\"standoff\": 15}, \"zerolinecolor\": \"white\", \"zerolinewidth\": 2}, \"yaxis\": {\"automargin\": true, \"gridcolor\": \"white\", \"linecolor\": \"white\", \"ticks\": \"\", \"title\": {\"standoff\": 15}, \"zerolinecolor\": \"white\", \"zerolinewidth\": 2}}}, \"title\": {\"text\": \"Heart disease \"}},\n",
              "                        {\"responsive\": true}\n",
              "                    ).then(function(){\n",
              "                            \n",
              "var gd = document.getElementById('e3678dfa-1d5a-4ee2-b285-d9fe59a98928');\n",
              "var x = new MutationObserver(function (mutations, observer) {{\n",
              "        var display = window.getComputedStyle(gd).display;\n",
              "        if (!display || display === 'none') {{\n",
              "            console.log([gd, 'removed!']);\n",
              "            Plotly.purge(gd);\n",
              "            observer.disconnect();\n",
              "        }}\n",
              "}});\n",
              "\n",
              "// Listen for the removal of the full notebook cells\n",
              "var notebookContainer = gd.closest('#notebook-container');\n",
              "if (notebookContainer) {{\n",
              "    x.observe(notebookContainer, {childList: true});\n",
              "}}\n",
              "\n",
              "// Listen for the clearing of the current output cell\n",
              "var outputEl = gd.closest('.output');\n",
              "if (outputEl) {{\n",
              "    x.observe(outputEl, {childList: true});\n",
              "}}\n",
              "\n",
              "                        })\n",
              "                };\n",
              "                \n",
              "            </script>\n",
              "        </div>\n",
              "</body>\n",
              "</html>"
            ]
          },
          "metadata": {}
        }
      ]
    },
    {
      "cell_type": "markdown",
      "metadata": {
        "id": "fCnddMcgzc3a"
      },
      "source": [
        "Based on this, the data is balanced."
      ]
    },
    {
      "cell_type": "markdown",
      "metadata": {
        "id": "U1PcwZ9DAy4a"
      },
      "source": [
        "**Categorical features**"
      ]
    },
    {
      "cell_type": "code",
      "metadata": {
        "colab": {
          "base_uri": "https://localhost:8080/",
          "height": 542
        },
        "id": "N_WjXtcPAQsm",
        "outputId": "42ed6bf7-06b9-4cc7-eada-9ab5ac95b55c"
      },
      "source": [
        "fig = go.Figure(data=[go.Pie(labels=data['Sex'].value_counts().index,\n",
        "                             values=data['Sex'].value_counts().values)])\n",
        "\n",
        "fig.update_layout(\n",
        "    title_text=\"Sex \")\n",
        "fig.show()"
      ],
      "execution_count": null,
      "outputs": [
        {
          "output_type": "display_data",
          "data": {
            "text/html": [
              "<html>\n",
              "<head><meta charset=\"utf-8\" /></head>\n",
              "<body>\n",
              "    <div>\n",
              "            <script src=\"https://cdnjs.cloudflare.com/ajax/libs/mathjax/2.7.5/MathJax.js?config=TeX-AMS-MML_SVG\"></script><script type=\"text/javascript\">if (window.MathJax) {MathJax.Hub.Config({SVG: {font: \"STIX-Web\"}});}</script>\n",
              "                <script type=\"text/javascript\">window.PlotlyConfig = {MathJaxConfig: 'local'};</script>\n",
              "        <script src=\"https://cdn.plot.ly/plotly-latest.min.js\"></script>    \n",
              "            <div id=\"f4332d5a-0fd8-481b-b862-6d53b55aa1cd\" class=\"plotly-graph-div\" style=\"height:525px; width:100%;\"></div>\n",
              "            <script type=\"text/javascript\">\n",
              "                \n",
              "                    window.PLOTLYENV=window.PLOTLYENV || {};\n",
              "                    \n",
              "                if (document.getElementById(\"f4332d5a-0fd8-481b-b862-6d53b55aa1cd\")) {\n",
              "                    Plotly.newPlot(\n",
              "                        'f4332d5a-0fd8-481b-b862-6d53b55aa1cd',\n",
              "                        [{\"labels\": [\"M\", \"F\"], \"type\": \"pie\", \"values\": [725, 193]}],\n",
              "                        {\"template\": {\"data\": {\"bar\": [{\"error_x\": {\"color\": \"#2a3f5f\"}, \"error_y\": {\"color\": \"#2a3f5f\"}, \"marker\": {\"line\": {\"color\": \"#E5ECF6\", \"width\": 0.5}}, \"type\": \"bar\"}], \"barpolar\": [{\"marker\": {\"line\": {\"color\": \"#E5ECF6\", \"width\": 0.5}}, \"type\": \"barpolar\"}], \"carpet\": [{\"aaxis\": {\"endlinecolor\": \"#2a3f5f\", \"gridcolor\": \"white\", \"linecolor\": \"white\", \"minorgridcolor\": \"white\", \"startlinecolor\": \"#2a3f5f\"}, \"baxis\": {\"endlinecolor\": \"#2a3f5f\", \"gridcolor\": \"white\", \"linecolor\": \"white\", \"minorgridcolor\": \"white\", \"startlinecolor\": \"#2a3f5f\"}, \"type\": \"carpet\"}], \"choropleth\": [{\"colorbar\": {\"outlinewidth\": 0, \"ticks\": \"\"}, \"type\": \"choropleth\"}], \"contour\": [{\"colorbar\": {\"outlinewidth\": 0, \"ticks\": \"\"}, \"colorscale\": [[0.0, \"#0d0887\"], [0.1111111111111111, \"#46039f\"], [0.2222222222222222, \"#7201a8\"], [0.3333333333333333, \"#9c179e\"], [0.4444444444444444, \"#bd3786\"], [0.5555555555555556, \"#d8576b\"], [0.6666666666666666, \"#ed7953\"], [0.7777777777777778, \"#fb9f3a\"], [0.8888888888888888, \"#fdca26\"], [1.0, \"#f0f921\"]], \"type\": \"contour\"}], \"contourcarpet\": [{\"colorbar\": {\"outlinewidth\": 0, \"ticks\": \"\"}, \"type\": \"contourcarpet\"}], \"heatmap\": [{\"colorbar\": {\"outlinewidth\": 0, \"ticks\": \"\"}, \"colorscale\": [[0.0, \"#0d0887\"], [0.1111111111111111, \"#46039f\"], [0.2222222222222222, \"#7201a8\"], [0.3333333333333333, \"#9c179e\"], [0.4444444444444444, \"#bd3786\"], [0.5555555555555556, \"#d8576b\"], [0.6666666666666666, \"#ed7953\"], [0.7777777777777778, \"#fb9f3a\"], [0.8888888888888888, \"#fdca26\"], [1.0, \"#f0f921\"]], \"type\": \"heatmap\"}], \"heatmapgl\": [{\"colorbar\": {\"outlinewidth\": 0, \"ticks\": \"\"}, \"colorscale\": [[0.0, \"#0d0887\"], [0.1111111111111111, \"#46039f\"], [0.2222222222222222, \"#7201a8\"], [0.3333333333333333, \"#9c179e\"], [0.4444444444444444, \"#bd3786\"], [0.5555555555555556, \"#d8576b\"], [0.6666666666666666, \"#ed7953\"], [0.7777777777777778, \"#fb9f3a\"], [0.8888888888888888, \"#fdca26\"], [1.0, \"#f0f921\"]], \"type\": \"heatmapgl\"}], \"histogram\": [{\"marker\": {\"colorbar\": {\"outlinewidth\": 0, \"ticks\": \"\"}}, \"type\": \"histogram\"}], \"histogram2d\": [{\"colorbar\": {\"outlinewidth\": 0, \"ticks\": \"\"}, \"colorscale\": [[0.0, \"#0d0887\"], [0.1111111111111111, \"#46039f\"], [0.2222222222222222, \"#7201a8\"], [0.3333333333333333, \"#9c179e\"], [0.4444444444444444, \"#bd3786\"], [0.5555555555555556, \"#d8576b\"], [0.6666666666666666, \"#ed7953\"], [0.7777777777777778, \"#fb9f3a\"], [0.8888888888888888, \"#fdca26\"], [1.0, \"#f0f921\"]], \"type\": \"histogram2d\"}], \"histogram2dcontour\": [{\"colorbar\": {\"outlinewidth\": 0, \"ticks\": \"\"}, \"colorscale\": [[0.0, \"#0d0887\"], [0.1111111111111111, \"#46039f\"], [0.2222222222222222, \"#7201a8\"], [0.3333333333333333, \"#9c179e\"], [0.4444444444444444, \"#bd3786\"], [0.5555555555555556, \"#d8576b\"], [0.6666666666666666, \"#ed7953\"], [0.7777777777777778, \"#fb9f3a\"], [0.8888888888888888, \"#fdca26\"], [1.0, \"#f0f921\"]], \"type\": \"histogram2dcontour\"}], \"mesh3d\": [{\"colorbar\": {\"outlinewidth\": 0, \"ticks\": \"\"}, \"type\": \"mesh3d\"}], \"parcoords\": [{\"line\": {\"colorbar\": {\"outlinewidth\": 0, \"ticks\": \"\"}}, \"type\": \"parcoords\"}], \"pie\": [{\"automargin\": true, \"type\": \"pie\"}], \"scatter\": [{\"marker\": {\"colorbar\": {\"outlinewidth\": 0, \"ticks\": \"\"}}, \"type\": \"scatter\"}], \"scatter3d\": [{\"line\": {\"colorbar\": {\"outlinewidth\": 0, \"ticks\": \"\"}}, \"marker\": {\"colorbar\": {\"outlinewidth\": 0, \"ticks\": \"\"}}, \"type\": \"scatter3d\"}], \"scattercarpet\": [{\"marker\": {\"colorbar\": {\"outlinewidth\": 0, \"ticks\": \"\"}}, \"type\": \"scattercarpet\"}], \"scattergeo\": [{\"marker\": {\"colorbar\": {\"outlinewidth\": 0, \"ticks\": \"\"}}, \"type\": \"scattergeo\"}], \"scattergl\": [{\"marker\": {\"colorbar\": {\"outlinewidth\": 0, \"ticks\": \"\"}}, \"type\": \"scattergl\"}], \"scattermapbox\": [{\"marker\": {\"colorbar\": {\"outlinewidth\": 0, \"ticks\": \"\"}}, \"type\": \"scattermapbox\"}], \"scatterpolar\": [{\"marker\": {\"colorbar\": {\"outlinewidth\": 0, \"ticks\": \"\"}}, \"type\": \"scatterpolar\"}], \"scatterpolargl\": [{\"marker\": {\"colorbar\": {\"outlinewidth\": 0, \"ticks\": \"\"}}, \"type\": \"scatterpolargl\"}], \"scatterternary\": [{\"marker\": {\"colorbar\": {\"outlinewidth\": 0, \"ticks\": \"\"}}, \"type\": \"scatterternary\"}], \"surface\": [{\"colorbar\": {\"outlinewidth\": 0, \"ticks\": \"\"}, \"colorscale\": [[0.0, \"#0d0887\"], [0.1111111111111111, \"#46039f\"], [0.2222222222222222, \"#7201a8\"], [0.3333333333333333, \"#9c179e\"], [0.4444444444444444, \"#bd3786\"], [0.5555555555555556, \"#d8576b\"], [0.6666666666666666, \"#ed7953\"], [0.7777777777777778, \"#fb9f3a\"], [0.8888888888888888, \"#fdca26\"], [1.0, \"#f0f921\"]], \"type\": \"surface\"}], \"table\": [{\"cells\": {\"fill\": {\"color\": \"#EBF0F8\"}, \"line\": {\"color\": \"white\"}}, \"header\": {\"fill\": {\"color\": \"#C8D4E3\"}, \"line\": {\"color\": \"white\"}}, \"type\": \"table\"}]}, \"layout\": {\"annotationdefaults\": {\"arrowcolor\": \"#2a3f5f\", \"arrowhead\": 0, \"arrowwidth\": 1}, \"coloraxis\": {\"colorbar\": {\"outlinewidth\": 0, \"ticks\": \"\"}}, \"colorscale\": {\"diverging\": [[0, \"#8e0152\"], [0.1, \"#c51b7d\"], [0.2, \"#de77ae\"], [0.3, \"#f1b6da\"], [0.4, \"#fde0ef\"], [0.5, \"#f7f7f7\"], [0.6, \"#e6f5d0\"], [0.7, \"#b8e186\"], [0.8, \"#7fbc41\"], [0.9, \"#4d9221\"], [1, \"#276419\"]], \"sequential\": [[0.0, \"#0d0887\"], [0.1111111111111111, \"#46039f\"], [0.2222222222222222, \"#7201a8\"], [0.3333333333333333, \"#9c179e\"], [0.4444444444444444, \"#bd3786\"], [0.5555555555555556, \"#d8576b\"], [0.6666666666666666, \"#ed7953\"], [0.7777777777777778, \"#fb9f3a\"], [0.8888888888888888, \"#fdca26\"], [1.0, \"#f0f921\"]], \"sequentialminus\": [[0.0, \"#0d0887\"], [0.1111111111111111, \"#46039f\"], [0.2222222222222222, \"#7201a8\"], [0.3333333333333333, \"#9c179e\"], [0.4444444444444444, \"#bd3786\"], [0.5555555555555556, \"#d8576b\"], [0.6666666666666666, \"#ed7953\"], [0.7777777777777778, \"#fb9f3a\"], [0.8888888888888888, \"#fdca26\"], [1.0, \"#f0f921\"]]}, \"colorway\": [\"#636efa\", \"#EF553B\", \"#00cc96\", \"#ab63fa\", \"#FFA15A\", \"#19d3f3\", \"#FF6692\", \"#B6E880\", \"#FF97FF\", \"#FECB52\"], \"font\": {\"color\": \"#2a3f5f\"}, \"geo\": {\"bgcolor\": \"white\", \"lakecolor\": \"white\", \"landcolor\": \"#E5ECF6\", \"showlakes\": true, \"showland\": true, \"subunitcolor\": \"white\"}, \"hoverlabel\": {\"align\": \"left\"}, \"hovermode\": \"closest\", \"mapbox\": {\"style\": \"light\"}, \"paper_bgcolor\": \"white\", \"plot_bgcolor\": \"#E5ECF6\", \"polar\": {\"angularaxis\": {\"gridcolor\": \"white\", \"linecolor\": \"white\", \"ticks\": \"\"}, \"bgcolor\": \"#E5ECF6\", \"radialaxis\": {\"gridcolor\": \"white\", \"linecolor\": \"white\", \"ticks\": \"\"}}, \"scene\": {\"xaxis\": {\"backgroundcolor\": \"#E5ECF6\", \"gridcolor\": \"white\", \"gridwidth\": 2, \"linecolor\": \"white\", \"showbackground\": true, \"ticks\": \"\", \"zerolinecolor\": \"white\"}, \"yaxis\": {\"backgroundcolor\": \"#E5ECF6\", \"gridcolor\": \"white\", \"gridwidth\": 2, \"linecolor\": \"white\", \"showbackground\": true, \"ticks\": \"\", \"zerolinecolor\": \"white\"}, \"zaxis\": {\"backgroundcolor\": \"#E5ECF6\", \"gridcolor\": \"white\", \"gridwidth\": 2, \"linecolor\": \"white\", \"showbackground\": true, \"ticks\": \"\", \"zerolinecolor\": \"white\"}}, \"shapedefaults\": {\"line\": {\"color\": \"#2a3f5f\"}}, \"ternary\": {\"aaxis\": {\"gridcolor\": \"white\", \"linecolor\": \"white\", \"ticks\": \"\"}, \"baxis\": {\"gridcolor\": \"white\", \"linecolor\": \"white\", \"ticks\": \"\"}, \"bgcolor\": \"#E5ECF6\", \"caxis\": {\"gridcolor\": \"white\", \"linecolor\": \"white\", \"ticks\": \"\"}}, \"title\": {\"x\": 0.05}, \"xaxis\": {\"automargin\": true, \"gridcolor\": \"white\", \"linecolor\": \"white\", \"ticks\": \"\", \"title\": {\"standoff\": 15}, \"zerolinecolor\": \"white\", \"zerolinewidth\": 2}, \"yaxis\": {\"automargin\": true, \"gridcolor\": \"white\", \"linecolor\": \"white\", \"ticks\": \"\", \"title\": {\"standoff\": 15}, \"zerolinecolor\": \"white\", \"zerolinewidth\": 2}}}, \"title\": {\"text\": \"Sex \"}},\n",
              "                        {\"responsive\": true}\n",
              "                    ).then(function(){\n",
              "                            \n",
              "var gd = document.getElementById('f4332d5a-0fd8-481b-b862-6d53b55aa1cd');\n",
              "var x = new MutationObserver(function (mutations, observer) {{\n",
              "        var display = window.getComputedStyle(gd).display;\n",
              "        if (!display || display === 'none') {{\n",
              "            console.log([gd, 'removed!']);\n",
              "            Plotly.purge(gd);\n",
              "            observer.disconnect();\n",
              "        }}\n",
              "}});\n",
              "\n",
              "// Listen for the removal of the full notebook cells\n",
              "var notebookContainer = gd.closest('#notebook-container');\n",
              "if (notebookContainer) {{\n",
              "    x.observe(notebookContainer, {childList: true});\n",
              "}}\n",
              "\n",
              "// Listen for the clearing of the current output cell\n",
              "var outputEl = gd.closest('.output');\n",
              "if (outputEl) {{\n",
              "    x.observe(outputEl, {childList: true});\n",
              "}}\n",
              "\n",
              "                        })\n",
              "                };\n",
              "                \n",
              "            </script>\n",
              "        </div>\n",
              "</body>\n",
              "</html>"
            ]
          },
          "metadata": {}
        }
      ]
    },
    {
      "cell_type": "code",
      "metadata": {
        "id": "iHlSjus1wywz",
        "colab": {
          "base_uri": "https://localhost:8080/",
          "height": 542
        },
        "outputId": "c2933fe7-2050-4ed7-cf6b-43fe350e67d4"
      },
      "source": [
        "fig = go.Figure(data=[go.Pie(labels=data['ChestPainType'].value_counts().index,\n",
        "                             values=data['ChestPainType'].value_counts().values)])\n",
        "\n",
        "fig.update_layout(\n",
        "    title_text=\"Chest pain type \")\n",
        "fig.show()"
      ],
      "execution_count": null,
      "outputs": [
        {
          "output_type": "display_data",
          "data": {
            "text/html": [
              "<html>\n",
              "<head><meta charset=\"utf-8\" /></head>\n",
              "<body>\n",
              "    <div>\n",
              "            <script src=\"https://cdnjs.cloudflare.com/ajax/libs/mathjax/2.7.5/MathJax.js?config=TeX-AMS-MML_SVG\"></script><script type=\"text/javascript\">if (window.MathJax) {MathJax.Hub.Config({SVG: {font: \"STIX-Web\"}});}</script>\n",
              "                <script type=\"text/javascript\">window.PlotlyConfig = {MathJaxConfig: 'local'};</script>\n",
              "        <script src=\"https://cdn.plot.ly/plotly-latest.min.js\"></script>    \n",
              "            <div id=\"b7ecdfd2-680c-410e-903e-3e80e4ca7ce6\" class=\"plotly-graph-div\" style=\"height:525px; width:100%;\"></div>\n",
              "            <script type=\"text/javascript\">\n",
              "                \n",
              "                    window.PLOTLYENV=window.PLOTLYENV || {};\n",
              "                    \n",
              "                if (document.getElementById(\"b7ecdfd2-680c-410e-903e-3e80e4ca7ce6\")) {\n",
              "                    Plotly.newPlot(\n",
              "                        'b7ecdfd2-680c-410e-903e-3e80e4ca7ce6',\n",
              "                        [{\"labels\": [\"ASY\", \"NAP\", \"ATA\", \"TA\"], \"type\": \"pie\", \"values\": [496, 203, 173, 46]}],\n",
              "                        {\"template\": {\"data\": {\"bar\": [{\"error_x\": {\"color\": \"#2a3f5f\"}, \"error_y\": {\"color\": \"#2a3f5f\"}, \"marker\": {\"line\": {\"color\": \"#E5ECF6\", \"width\": 0.5}}, \"type\": \"bar\"}], \"barpolar\": [{\"marker\": {\"line\": {\"color\": \"#E5ECF6\", \"width\": 0.5}}, \"type\": \"barpolar\"}], \"carpet\": [{\"aaxis\": {\"endlinecolor\": \"#2a3f5f\", \"gridcolor\": \"white\", \"linecolor\": \"white\", \"minorgridcolor\": \"white\", \"startlinecolor\": \"#2a3f5f\"}, \"baxis\": {\"endlinecolor\": \"#2a3f5f\", \"gridcolor\": \"white\", \"linecolor\": \"white\", \"minorgridcolor\": \"white\", \"startlinecolor\": \"#2a3f5f\"}, \"type\": \"carpet\"}], \"choropleth\": [{\"colorbar\": {\"outlinewidth\": 0, \"ticks\": \"\"}, \"type\": \"choropleth\"}], \"contour\": [{\"colorbar\": {\"outlinewidth\": 0, \"ticks\": \"\"}, \"colorscale\": [[0.0, \"#0d0887\"], [0.1111111111111111, \"#46039f\"], [0.2222222222222222, \"#7201a8\"], [0.3333333333333333, \"#9c179e\"], [0.4444444444444444, \"#bd3786\"], [0.5555555555555556, \"#d8576b\"], [0.6666666666666666, \"#ed7953\"], [0.7777777777777778, \"#fb9f3a\"], [0.8888888888888888, \"#fdca26\"], [1.0, \"#f0f921\"]], \"type\": \"contour\"}], \"contourcarpet\": [{\"colorbar\": {\"outlinewidth\": 0, \"ticks\": \"\"}, \"type\": \"contourcarpet\"}], \"heatmap\": [{\"colorbar\": {\"outlinewidth\": 0, \"ticks\": \"\"}, \"colorscale\": [[0.0, \"#0d0887\"], [0.1111111111111111, \"#46039f\"], [0.2222222222222222, \"#7201a8\"], [0.3333333333333333, \"#9c179e\"], [0.4444444444444444, \"#bd3786\"], [0.5555555555555556, \"#d8576b\"], [0.6666666666666666, \"#ed7953\"], [0.7777777777777778, \"#fb9f3a\"], [0.8888888888888888, \"#fdca26\"], [1.0, \"#f0f921\"]], \"type\": \"heatmap\"}], \"heatmapgl\": [{\"colorbar\": {\"outlinewidth\": 0, \"ticks\": \"\"}, \"colorscale\": [[0.0, \"#0d0887\"], [0.1111111111111111, \"#46039f\"], [0.2222222222222222, \"#7201a8\"], [0.3333333333333333, \"#9c179e\"], [0.4444444444444444, \"#bd3786\"], [0.5555555555555556, \"#d8576b\"], [0.6666666666666666, \"#ed7953\"], [0.7777777777777778, \"#fb9f3a\"], [0.8888888888888888, \"#fdca26\"], [1.0, \"#f0f921\"]], \"type\": \"heatmapgl\"}], \"histogram\": [{\"marker\": {\"colorbar\": {\"outlinewidth\": 0, \"ticks\": \"\"}}, \"type\": \"histogram\"}], \"histogram2d\": [{\"colorbar\": {\"outlinewidth\": 0, \"ticks\": \"\"}, \"colorscale\": [[0.0, \"#0d0887\"], [0.1111111111111111, \"#46039f\"], [0.2222222222222222, \"#7201a8\"], [0.3333333333333333, \"#9c179e\"], [0.4444444444444444, \"#bd3786\"], [0.5555555555555556, \"#d8576b\"], [0.6666666666666666, \"#ed7953\"], [0.7777777777777778, \"#fb9f3a\"], [0.8888888888888888, \"#fdca26\"], [1.0, \"#f0f921\"]], \"type\": \"histogram2d\"}], \"histogram2dcontour\": [{\"colorbar\": {\"outlinewidth\": 0, \"ticks\": \"\"}, \"colorscale\": [[0.0, \"#0d0887\"], [0.1111111111111111, \"#46039f\"], [0.2222222222222222, \"#7201a8\"], [0.3333333333333333, \"#9c179e\"], [0.4444444444444444, \"#bd3786\"], [0.5555555555555556, \"#d8576b\"], [0.6666666666666666, \"#ed7953\"], [0.7777777777777778, \"#fb9f3a\"], [0.8888888888888888, \"#fdca26\"], [1.0, \"#f0f921\"]], \"type\": \"histogram2dcontour\"}], \"mesh3d\": [{\"colorbar\": {\"outlinewidth\": 0, \"ticks\": \"\"}, \"type\": \"mesh3d\"}], \"parcoords\": [{\"line\": {\"colorbar\": {\"outlinewidth\": 0, \"ticks\": \"\"}}, \"type\": \"parcoords\"}], \"pie\": [{\"automargin\": true, \"type\": \"pie\"}], \"scatter\": [{\"marker\": {\"colorbar\": {\"outlinewidth\": 0, \"ticks\": \"\"}}, \"type\": \"scatter\"}], \"scatter3d\": [{\"line\": {\"colorbar\": {\"outlinewidth\": 0, \"ticks\": \"\"}}, \"marker\": {\"colorbar\": {\"outlinewidth\": 0, \"ticks\": \"\"}}, \"type\": \"scatter3d\"}], \"scattercarpet\": [{\"marker\": {\"colorbar\": {\"outlinewidth\": 0, \"ticks\": \"\"}}, \"type\": \"scattercarpet\"}], \"scattergeo\": [{\"marker\": {\"colorbar\": {\"outlinewidth\": 0, \"ticks\": \"\"}}, \"type\": \"scattergeo\"}], \"scattergl\": [{\"marker\": {\"colorbar\": {\"outlinewidth\": 0, \"ticks\": \"\"}}, \"type\": \"scattergl\"}], \"scattermapbox\": [{\"marker\": {\"colorbar\": {\"outlinewidth\": 0, \"ticks\": \"\"}}, \"type\": \"scattermapbox\"}], \"scatterpolar\": [{\"marker\": {\"colorbar\": {\"outlinewidth\": 0, \"ticks\": \"\"}}, \"type\": \"scatterpolar\"}], \"scatterpolargl\": [{\"marker\": {\"colorbar\": {\"outlinewidth\": 0, \"ticks\": \"\"}}, \"type\": \"scatterpolargl\"}], \"scatterternary\": [{\"marker\": {\"colorbar\": {\"outlinewidth\": 0, \"ticks\": \"\"}}, \"type\": \"scatterternary\"}], \"surface\": [{\"colorbar\": {\"outlinewidth\": 0, \"ticks\": \"\"}, \"colorscale\": [[0.0, \"#0d0887\"], [0.1111111111111111, \"#46039f\"], [0.2222222222222222, \"#7201a8\"], [0.3333333333333333, \"#9c179e\"], [0.4444444444444444, \"#bd3786\"], [0.5555555555555556, \"#d8576b\"], [0.6666666666666666, \"#ed7953\"], [0.7777777777777778, \"#fb9f3a\"], [0.8888888888888888, \"#fdca26\"], [1.0, \"#f0f921\"]], \"type\": \"surface\"}], \"table\": [{\"cells\": {\"fill\": {\"color\": \"#EBF0F8\"}, \"line\": {\"color\": \"white\"}}, \"header\": {\"fill\": {\"color\": \"#C8D4E3\"}, \"line\": {\"color\": \"white\"}}, \"type\": \"table\"}]}, \"layout\": {\"annotationdefaults\": {\"arrowcolor\": \"#2a3f5f\", \"arrowhead\": 0, \"arrowwidth\": 1}, \"coloraxis\": {\"colorbar\": {\"outlinewidth\": 0, \"ticks\": \"\"}}, \"colorscale\": {\"diverging\": [[0, \"#8e0152\"], [0.1, \"#c51b7d\"], [0.2, \"#de77ae\"], [0.3, \"#f1b6da\"], [0.4, \"#fde0ef\"], [0.5, \"#f7f7f7\"], [0.6, \"#e6f5d0\"], [0.7, \"#b8e186\"], [0.8, \"#7fbc41\"], [0.9, \"#4d9221\"], [1, \"#276419\"]], \"sequential\": [[0.0, \"#0d0887\"], [0.1111111111111111, \"#46039f\"], [0.2222222222222222, \"#7201a8\"], [0.3333333333333333, \"#9c179e\"], [0.4444444444444444, \"#bd3786\"], [0.5555555555555556, \"#d8576b\"], [0.6666666666666666, \"#ed7953\"], [0.7777777777777778, \"#fb9f3a\"], [0.8888888888888888, \"#fdca26\"], [1.0, \"#f0f921\"]], \"sequentialminus\": [[0.0, \"#0d0887\"], [0.1111111111111111, \"#46039f\"], [0.2222222222222222, \"#7201a8\"], [0.3333333333333333, \"#9c179e\"], [0.4444444444444444, \"#bd3786\"], [0.5555555555555556, \"#d8576b\"], [0.6666666666666666, \"#ed7953\"], [0.7777777777777778, \"#fb9f3a\"], [0.8888888888888888, \"#fdca26\"], [1.0, \"#f0f921\"]]}, \"colorway\": [\"#636efa\", \"#EF553B\", \"#00cc96\", \"#ab63fa\", \"#FFA15A\", \"#19d3f3\", \"#FF6692\", \"#B6E880\", \"#FF97FF\", \"#FECB52\"], \"font\": {\"color\": \"#2a3f5f\"}, \"geo\": {\"bgcolor\": \"white\", \"lakecolor\": \"white\", \"landcolor\": \"#E5ECF6\", \"showlakes\": true, \"showland\": true, \"subunitcolor\": \"white\"}, \"hoverlabel\": {\"align\": \"left\"}, \"hovermode\": \"closest\", \"mapbox\": {\"style\": \"light\"}, \"paper_bgcolor\": \"white\", \"plot_bgcolor\": \"#E5ECF6\", \"polar\": {\"angularaxis\": {\"gridcolor\": \"white\", \"linecolor\": \"white\", \"ticks\": \"\"}, \"bgcolor\": \"#E5ECF6\", \"radialaxis\": {\"gridcolor\": \"white\", \"linecolor\": \"white\", \"ticks\": \"\"}}, \"scene\": {\"xaxis\": {\"backgroundcolor\": \"#E5ECF6\", \"gridcolor\": \"white\", \"gridwidth\": 2, \"linecolor\": \"white\", \"showbackground\": true, \"ticks\": \"\", \"zerolinecolor\": \"white\"}, \"yaxis\": {\"backgroundcolor\": \"#E5ECF6\", \"gridcolor\": \"white\", \"gridwidth\": 2, \"linecolor\": \"white\", \"showbackground\": true, \"ticks\": \"\", \"zerolinecolor\": \"white\"}, \"zaxis\": {\"backgroundcolor\": \"#E5ECF6\", \"gridcolor\": \"white\", \"gridwidth\": 2, \"linecolor\": \"white\", \"showbackground\": true, \"ticks\": \"\", \"zerolinecolor\": \"white\"}}, \"shapedefaults\": {\"line\": {\"color\": \"#2a3f5f\"}}, \"ternary\": {\"aaxis\": {\"gridcolor\": \"white\", \"linecolor\": \"white\", \"ticks\": \"\"}, \"baxis\": {\"gridcolor\": \"white\", \"linecolor\": \"white\", \"ticks\": \"\"}, \"bgcolor\": \"#E5ECF6\", \"caxis\": {\"gridcolor\": \"white\", \"linecolor\": \"white\", \"ticks\": \"\"}}, \"title\": {\"x\": 0.05}, \"xaxis\": {\"automargin\": true, \"gridcolor\": \"white\", \"linecolor\": \"white\", \"ticks\": \"\", \"title\": {\"standoff\": 15}, \"zerolinecolor\": \"white\", \"zerolinewidth\": 2}, \"yaxis\": {\"automargin\": true, \"gridcolor\": \"white\", \"linecolor\": \"white\", \"ticks\": \"\", \"title\": {\"standoff\": 15}, \"zerolinecolor\": \"white\", \"zerolinewidth\": 2}}}, \"title\": {\"text\": \"Chest pain type \"}},\n",
              "                        {\"responsive\": true}\n",
              "                    ).then(function(){\n",
              "                            \n",
              "var gd = document.getElementById('b7ecdfd2-680c-410e-903e-3e80e4ca7ce6');\n",
              "var x = new MutationObserver(function (mutations, observer) {{\n",
              "        var display = window.getComputedStyle(gd).display;\n",
              "        if (!display || display === 'none') {{\n",
              "            console.log([gd, 'removed!']);\n",
              "            Plotly.purge(gd);\n",
              "            observer.disconnect();\n",
              "        }}\n",
              "}});\n",
              "\n",
              "// Listen for the removal of the full notebook cells\n",
              "var notebookContainer = gd.closest('#notebook-container');\n",
              "if (notebookContainer) {{\n",
              "    x.observe(notebookContainer, {childList: true});\n",
              "}}\n",
              "\n",
              "// Listen for the clearing of the current output cell\n",
              "var outputEl = gd.closest('.output');\n",
              "if (outputEl) {{\n",
              "    x.observe(outputEl, {childList: true});\n",
              "}}\n",
              "\n",
              "                        })\n",
              "                };\n",
              "                \n",
              "            </script>\n",
              "        </div>\n",
              "</body>\n",
              "</html>"
            ]
          },
          "metadata": {}
        }
      ]
    },
    {
      "cell_type": "code",
      "metadata": {
        "colab": {
          "base_uri": "https://localhost:8080/",
          "height": 542
        },
        "id": "VxiLFvJ3eR_J",
        "outputId": "bbd031a5-a892-432e-e96b-7bcc38f25fa2"
      },
      "source": [
        "fig = go.Figure(data=[go.Pie(labels=data['RestingECG'].value_counts().index,\n",
        "                             values=data['RestingECG'].value_counts().values)])\n",
        "\n",
        "fig.update_layout(\n",
        "    title_text=\"RestingECG \")\n",
        "fig.show()"
      ],
      "execution_count": null,
      "outputs": [
        {
          "output_type": "display_data",
          "data": {
            "text/html": [
              "<html>\n",
              "<head><meta charset=\"utf-8\" /></head>\n",
              "<body>\n",
              "    <div>\n",
              "            <script src=\"https://cdnjs.cloudflare.com/ajax/libs/mathjax/2.7.5/MathJax.js?config=TeX-AMS-MML_SVG\"></script><script type=\"text/javascript\">if (window.MathJax) {MathJax.Hub.Config({SVG: {font: \"STIX-Web\"}});}</script>\n",
              "                <script type=\"text/javascript\">window.PlotlyConfig = {MathJaxConfig: 'local'};</script>\n",
              "        <script src=\"https://cdn.plot.ly/plotly-latest.min.js\"></script>    \n",
              "            <div id=\"90325f2b-47fa-4a6a-8cab-a5db7fcb1191\" class=\"plotly-graph-div\" style=\"height:525px; width:100%;\"></div>\n",
              "            <script type=\"text/javascript\">\n",
              "                \n",
              "                    window.PLOTLYENV=window.PLOTLYENV || {};\n",
              "                    \n",
              "                if (document.getElementById(\"90325f2b-47fa-4a6a-8cab-a5db7fcb1191\")) {\n",
              "                    Plotly.newPlot(\n",
              "                        '90325f2b-47fa-4a6a-8cab-a5db7fcb1191',\n",
              "                        [{\"labels\": [\"Normal\", \"LVH\", \"ST\"], \"type\": \"pie\", \"values\": [552, 188, 178]}],\n",
              "                        {\"template\": {\"data\": {\"bar\": [{\"error_x\": {\"color\": \"#2a3f5f\"}, \"error_y\": {\"color\": \"#2a3f5f\"}, \"marker\": {\"line\": {\"color\": \"#E5ECF6\", \"width\": 0.5}}, \"type\": \"bar\"}], \"barpolar\": [{\"marker\": {\"line\": {\"color\": \"#E5ECF6\", \"width\": 0.5}}, \"type\": \"barpolar\"}], \"carpet\": [{\"aaxis\": {\"endlinecolor\": \"#2a3f5f\", \"gridcolor\": \"white\", \"linecolor\": \"white\", \"minorgridcolor\": \"white\", \"startlinecolor\": \"#2a3f5f\"}, \"baxis\": {\"endlinecolor\": \"#2a3f5f\", \"gridcolor\": \"white\", \"linecolor\": \"white\", \"minorgridcolor\": \"white\", \"startlinecolor\": \"#2a3f5f\"}, \"type\": \"carpet\"}], \"choropleth\": [{\"colorbar\": {\"outlinewidth\": 0, \"ticks\": \"\"}, \"type\": \"choropleth\"}], \"contour\": [{\"colorbar\": {\"outlinewidth\": 0, \"ticks\": \"\"}, \"colorscale\": [[0.0, \"#0d0887\"], [0.1111111111111111, \"#46039f\"], [0.2222222222222222, \"#7201a8\"], [0.3333333333333333, \"#9c179e\"], [0.4444444444444444, \"#bd3786\"], [0.5555555555555556, \"#d8576b\"], [0.6666666666666666, \"#ed7953\"], [0.7777777777777778, \"#fb9f3a\"], [0.8888888888888888, \"#fdca26\"], [1.0, \"#f0f921\"]], \"type\": \"contour\"}], \"contourcarpet\": [{\"colorbar\": {\"outlinewidth\": 0, \"ticks\": \"\"}, \"type\": \"contourcarpet\"}], \"heatmap\": [{\"colorbar\": {\"outlinewidth\": 0, \"ticks\": \"\"}, \"colorscale\": [[0.0, \"#0d0887\"], [0.1111111111111111, \"#46039f\"], [0.2222222222222222, \"#7201a8\"], [0.3333333333333333, \"#9c179e\"], [0.4444444444444444, \"#bd3786\"], [0.5555555555555556, \"#d8576b\"], [0.6666666666666666, \"#ed7953\"], [0.7777777777777778, \"#fb9f3a\"], [0.8888888888888888, \"#fdca26\"], [1.0, \"#f0f921\"]], \"type\": \"heatmap\"}], \"heatmapgl\": [{\"colorbar\": {\"outlinewidth\": 0, \"ticks\": \"\"}, \"colorscale\": [[0.0, \"#0d0887\"], [0.1111111111111111, \"#46039f\"], [0.2222222222222222, \"#7201a8\"], [0.3333333333333333, \"#9c179e\"], [0.4444444444444444, \"#bd3786\"], [0.5555555555555556, \"#d8576b\"], [0.6666666666666666, \"#ed7953\"], [0.7777777777777778, \"#fb9f3a\"], [0.8888888888888888, \"#fdca26\"], [1.0, \"#f0f921\"]], \"type\": \"heatmapgl\"}], \"histogram\": [{\"marker\": {\"colorbar\": {\"outlinewidth\": 0, \"ticks\": \"\"}}, \"type\": \"histogram\"}], \"histogram2d\": [{\"colorbar\": {\"outlinewidth\": 0, \"ticks\": \"\"}, \"colorscale\": [[0.0, \"#0d0887\"], [0.1111111111111111, \"#46039f\"], [0.2222222222222222, \"#7201a8\"], [0.3333333333333333, \"#9c179e\"], [0.4444444444444444, \"#bd3786\"], [0.5555555555555556, \"#d8576b\"], [0.6666666666666666, \"#ed7953\"], [0.7777777777777778, \"#fb9f3a\"], [0.8888888888888888, \"#fdca26\"], [1.0, \"#f0f921\"]], \"type\": \"histogram2d\"}], \"histogram2dcontour\": [{\"colorbar\": {\"outlinewidth\": 0, \"ticks\": \"\"}, \"colorscale\": [[0.0, \"#0d0887\"], [0.1111111111111111, \"#46039f\"], [0.2222222222222222, \"#7201a8\"], [0.3333333333333333, \"#9c179e\"], [0.4444444444444444, \"#bd3786\"], [0.5555555555555556, \"#d8576b\"], [0.6666666666666666, \"#ed7953\"], [0.7777777777777778, \"#fb9f3a\"], [0.8888888888888888, \"#fdca26\"], [1.0, \"#f0f921\"]], \"type\": \"histogram2dcontour\"}], \"mesh3d\": [{\"colorbar\": {\"outlinewidth\": 0, \"ticks\": \"\"}, \"type\": \"mesh3d\"}], \"parcoords\": [{\"line\": {\"colorbar\": {\"outlinewidth\": 0, \"ticks\": \"\"}}, \"type\": \"parcoords\"}], \"pie\": [{\"automargin\": true, \"type\": \"pie\"}], \"scatter\": [{\"marker\": {\"colorbar\": {\"outlinewidth\": 0, \"ticks\": \"\"}}, \"type\": \"scatter\"}], \"scatter3d\": [{\"line\": {\"colorbar\": {\"outlinewidth\": 0, \"ticks\": \"\"}}, \"marker\": {\"colorbar\": {\"outlinewidth\": 0, \"ticks\": \"\"}}, \"type\": \"scatter3d\"}], \"scattercarpet\": [{\"marker\": {\"colorbar\": {\"outlinewidth\": 0, \"ticks\": \"\"}}, \"type\": \"scattercarpet\"}], \"scattergeo\": [{\"marker\": {\"colorbar\": {\"outlinewidth\": 0, \"ticks\": \"\"}}, \"type\": \"scattergeo\"}], \"scattergl\": [{\"marker\": {\"colorbar\": {\"outlinewidth\": 0, \"ticks\": \"\"}}, \"type\": \"scattergl\"}], \"scattermapbox\": [{\"marker\": {\"colorbar\": {\"outlinewidth\": 0, \"ticks\": \"\"}}, \"type\": \"scattermapbox\"}], \"scatterpolar\": [{\"marker\": {\"colorbar\": {\"outlinewidth\": 0, \"ticks\": \"\"}}, \"type\": \"scatterpolar\"}], \"scatterpolargl\": [{\"marker\": {\"colorbar\": {\"outlinewidth\": 0, \"ticks\": \"\"}}, \"type\": \"scatterpolargl\"}], \"scatterternary\": [{\"marker\": {\"colorbar\": {\"outlinewidth\": 0, \"ticks\": \"\"}}, \"type\": \"scatterternary\"}], \"surface\": [{\"colorbar\": {\"outlinewidth\": 0, \"ticks\": \"\"}, \"colorscale\": [[0.0, \"#0d0887\"], [0.1111111111111111, \"#46039f\"], [0.2222222222222222, \"#7201a8\"], [0.3333333333333333, \"#9c179e\"], [0.4444444444444444, \"#bd3786\"], [0.5555555555555556, \"#d8576b\"], [0.6666666666666666, \"#ed7953\"], [0.7777777777777778, \"#fb9f3a\"], [0.8888888888888888, \"#fdca26\"], [1.0, \"#f0f921\"]], \"type\": \"surface\"}], \"table\": [{\"cells\": {\"fill\": {\"color\": \"#EBF0F8\"}, \"line\": {\"color\": \"white\"}}, \"header\": {\"fill\": {\"color\": \"#C8D4E3\"}, \"line\": {\"color\": \"white\"}}, \"type\": \"table\"}]}, \"layout\": {\"annotationdefaults\": {\"arrowcolor\": \"#2a3f5f\", \"arrowhead\": 0, \"arrowwidth\": 1}, \"coloraxis\": {\"colorbar\": {\"outlinewidth\": 0, \"ticks\": \"\"}}, \"colorscale\": {\"diverging\": [[0, \"#8e0152\"], [0.1, \"#c51b7d\"], [0.2, \"#de77ae\"], [0.3, \"#f1b6da\"], [0.4, \"#fde0ef\"], [0.5, \"#f7f7f7\"], [0.6, \"#e6f5d0\"], [0.7, \"#b8e186\"], [0.8, \"#7fbc41\"], [0.9, \"#4d9221\"], [1, \"#276419\"]], \"sequential\": [[0.0, \"#0d0887\"], [0.1111111111111111, \"#46039f\"], [0.2222222222222222, \"#7201a8\"], [0.3333333333333333, \"#9c179e\"], [0.4444444444444444, \"#bd3786\"], [0.5555555555555556, \"#d8576b\"], [0.6666666666666666, \"#ed7953\"], [0.7777777777777778, \"#fb9f3a\"], [0.8888888888888888, \"#fdca26\"], [1.0, \"#f0f921\"]], \"sequentialminus\": [[0.0, \"#0d0887\"], [0.1111111111111111, \"#46039f\"], [0.2222222222222222, \"#7201a8\"], [0.3333333333333333, \"#9c179e\"], [0.4444444444444444, \"#bd3786\"], [0.5555555555555556, \"#d8576b\"], [0.6666666666666666, \"#ed7953\"], [0.7777777777777778, \"#fb9f3a\"], [0.8888888888888888, \"#fdca26\"], [1.0, \"#f0f921\"]]}, \"colorway\": [\"#636efa\", \"#EF553B\", \"#00cc96\", \"#ab63fa\", \"#FFA15A\", \"#19d3f3\", \"#FF6692\", \"#B6E880\", \"#FF97FF\", \"#FECB52\"], \"font\": {\"color\": \"#2a3f5f\"}, \"geo\": {\"bgcolor\": \"white\", \"lakecolor\": \"white\", \"landcolor\": \"#E5ECF6\", \"showlakes\": true, \"showland\": true, \"subunitcolor\": \"white\"}, \"hoverlabel\": {\"align\": \"left\"}, \"hovermode\": \"closest\", \"mapbox\": {\"style\": \"light\"}, \"paper_bgcolor\": \"white\", \"plot_bgcolor\": \"#E5ECF6\", \"polar\": {\"angularaxis\": {\"gridcolor\": \"white\", \"linecolor\": \"white\", \"ticks\": \"\"}, \"bgcolor\": \"#E5ECF6\", \"radialaxis\": {\"gridcolor\": \"white\", \"linecolor\": \"white\", \"ticks\": \"\"}}, \"scene\": {\"xaxis\": {\"backgroundcolor\": \"#E5ECF6\", \"gridcolor\": \"white\", \"gridwidth\": 2, \"linecolor\": \"white\", \"showbackground\": true, \"ticks\": \"\", \"zerolinecolor\": \"white\"}, \"yaxis\": {\"backgroundcolor\": \"#E5ECF6\", \"gridcolor\": \"white\", \"gridwidth\": 2, \"linecolor\": \"white\", \"showbackground\": true, \"ticks\": \"\", \"zerolinecolor\": \"white\"}, \"zaxis\": {\"backgroundcolor\": \"#E5ECF6\", \"gridcolor\": \"white\", \"gridwidth\": 2, \"linecolor\": \"white\", \"showbackground\": true, \"ticks\": \"\", \"zerolinecolor\": \"white\"}}, \"shapedefaults\": {\"line\": {\"color\": \"#2a3f5f\"}}, \"ternary\": {\"aaxis\": {\"gridcolor\": \"white\", \"linecolor\": \"white\", \"ticks\": \"\"}, \"baxis\": {\"gridcolor\": \"white\", \"linecolor\": \"white\", \"ticks\": \"\"}, \"bgcolor\": \"#E5ECF6\", \"caxis\": {\"gridcolor\": \"white\", \"linecolor\": \"white\", \"ticks\": \"\"}}, \"title\": {\"x\": 0.05}, \"xaxis\": {\"automargin\": true, \"gridcolor\": \"white\", \"linecolor\": \"white\", \"ticks\": \"\", \"title\": {\"standoff\": 15}, \"zerolinecolor\": \"white\", \"zerolinewidth\": 2}, \"yaxis\": {\"automargin\": true, \"gridcolor\": \"white\", \"linecolor\": \"white\", \"ticks\": \"\", \"title\": {\"standoff\": 15}, \"zerolinecolor\": \"white\", \"zerolinewidth\": 2}}}, \"title\": {\"text\": \"RestingECG \"}},\n",
              "                        {\"responsive\": true}\n",
              "                    ).then(function(){\n",
              "                            \n",
              "var gd = document.getElementById('90325f2b-47fa-4a6a-8cab-a5db7fcb1191');\n",
              "var x = new MutationObserver(function (mutations, observer) {{\n",
              "        var display = window.getComputedStyle(gd).display;\n",
              "        if (!display || display === 'none') {{\n",
              "            console.log([gd, 'removed!']);\n",
              "            Plotly.purge(gd);\n",
              "            observer.disconnect();\n",
              "        }}\n",
              "}});\n",
              "\n",
              "// Listen for the removal of the full notebook cells\n",
              "var notebookContainer = gd.closest('#notebook-container');\n",
              "if (notebookContainer) {{\n",
              "    x.observe(notebookContainer, {childList: true});\n",
              "}}\n",
              "\n",
              "// Listen for the clearing of the current output cell\n",
              "var outputEl = gd.closest('.output');\n",
              "if (outputEl) {{\n",
              "    x.observe(outputEl, {childList: true});\n",
              "}}\n",
              "\n",
              "                        })\n",
              "                };\n",
              "                \n",
              "            </script>\n",
              "        </div>\n",
              "</body>\n",
              "</html>"
            ]
          },
          "metadata": {}
        }
      ]
    },
    {
      "cell_type": "code",
      "metadata": {
        "colab": {
          "base_uri": "https://localhost:8080/",
          "height": 542
        },
        "id": "62dZesuXegPy",
        "outputId": "f85c4d82-c7b8-48d0-d094-2bcf00947fc8"
      },
      "source": [
        "fig = go.Figure(data=[go.Pie(labels=data['ExerciseAngina'].value_counts().index,\n",
        "                             values=data['ExerciseAngina'].value_counts().values)])\n",
        "\n",
        "fig.update_layout(\n",
        "    title_text=\"ExerciseAngina\")\n",
        "fig.show()"
      ],
      "execution_count": null,
      "outputs": [
        {
          "output_type": "display_data",
          "data": {
            "text/html": [
              "<html>\n",
              "<head><meta charset=\"utf-8\" /></head>\n",
              "<body>\n",
              "    <div>\n",
              "            <script src=\"https://cdnjs.cloudflare.com/ajax/libs/mathjax/2.7.5/MathJax.js?config=TeX-AMS-MML_SVG\"></script><script type=\"text/javascript\">if (window.MathJax) {MathJax.Hub.Config({SVG: {font: \"STIX-Web\"}});}</script>\n",
              "                <script type=\"text/javascript\">window.PlotlyConfig = {MathJaxConfig: 'local'};</script>\n",
              "        <script src=\"https://cdn.plot.ly/plotly-latest.min.js\"></script>    \n",
              "            <div id=\"2ac27d0a-9ec4-4b77-8ca3-c748df85f477\" class=\"plotly-graph-div\" style=\"height:525px; width:100%;\"></div>\n",
              "            <script type=\"text/javascript\">\n",
              "                \n",
              "                    window.PLOTLYENV=window.PLOTLYENV || {};\n",
              "                    \n",
              "                if (document.getElementById(\"2ac27d0a-9ec4-4b77-8ca3-c748df85f477\")) {\n",
              "                    Plotly.newPlot(\n",
              "                        '2ac27d0a-9ec4-4b77-8ca3-c748df85f477',\n",
              "                        [{\"labels\": [\"N\", \"Y\"], \"type\": \"pie\", \"values\": [547, 371]}],\n",
              "                        {\"template\": {\"data\": {\"bar\": [{\"error_x\": {\"color\": \"#2a3f5f\"}, \"error_y\": {\"color\": \"#2a3f5f\"}, \"marker\": {\"line\": {\"color\": \"#E5ECF6\", \"width\": 0.5}}, \"type\": \"bar\"}], \"barpolar\": [{\"marker\": {\"line\": {\"color\": \"#E5ECF6\", \"width\": 0.5}}, \"type\": \"barpolar\"}], \"carpet\": [{\"aaxis\": {\"endlinecolor\": \"#2a3f5f\", \"gridcolor\": \"white\", \"linecolor\": \"white\", \"minorgridcolor\": \"white\", \"startlinecolor\": \"#2a3f5f\"}, \"baxis\": {\"endlinecolor\": \"#2a3f5f\", \"gridcolor\": \"white\", \"linecolor\": \"white\", \"minorgridcolor\": \"white\", \"startlinecolor\": \"#2a3f5f\"}, \"type\": \"carpet\"}], \"choropleth\": [{\"colorbar\": {\"outlinewidth\": 0, \"ticks\": \"\"}, \"type\": \"choropleth\"}], \"contour\": [{\"colorbar\": {\"outlinewidth\": 0, \"ticks\": \"\"}, \"colorscale\": [[0.0, \"#0d0887\"], [0.1111111111111111, \"#46039f\"], [0.2222222222222222, \"#7201a8\"], [0.3333333333333333, \"#9c179e\"], [0.4444444444444444, \"#bd3786\"], [0.5555555555555556, \"#d8576b\"], [0.6666666666666666, \"#ed7953\"], [0.7777777777777778, \"#fb9f3a\"], [0.8888888888888888, \"#fdca26\"], [1.0, \"#f0f921\"]], \"type\": \"contour\"}], \"contourcarpet\": [{\"colorbar\": {\"outlinewidth\": 0, \"ticks\": \"\"}, \"type\": \"contourcarpet\"}], \"heatmap\": [{\"colorbar\": {\"outlinewidth\": 0, \"ticks\": \"\"}, \"colorscale\": [[0.0, \"#0d0887\"], [0.1111111111111111, \"#46039f\"], [0.2222222222222222, \"#7201a8\"], [0.3333333333333333, \"#9c179e\"], [0.4444444444444444, \"#bd3786\"], [0.5555555555555556, \"#d8576b\"], [0.6666666666666666, \"#ed7953\"], [0.7777777777777778, \"#fb9f3a\"], [0.8888888888888888, \"#fdca26\"], [1.0, \"#f0f921\"]], \"type\": \"heatmap\"}], \"heatmapgl\": [{\"colorbar\": {\"outlinewidth\": 0, \"ticks\": \"\"}, \"colorscale\": [[0.0, \"#0d0887\"], [0.1111111111111111, \"#46039f\"], [0.2222222222222222, \"#7201a8\"], [0.3333333333333333, \"#9c179e\"], [0.4444444444444444, \"#bd3786\"], [0.5555555555555556, \"#d8576b\"], [0.6666666666666666, \"#ed7953\"], [0.7777777777777778, \"#fb9f3a\"], [0.8888888888888888, \"#fdca26\"], [1.0, \"#f0f921\"]], \"type\": \"heatmapgl\"}], \"histogram\": [{\"marker\": {\"colorbar\": {\"outlinewidth\": 0, \"ticks\": \"\"}}, \"type\": \"histogram\"}], \"histogram2d\": [{\"colorbar\": {\"outlinewidth\": 0, \"ticks\": \"\"}, \"colorscale\": [[0.0, \"#0d0887\"], [0.1111111111111111, \"#46039f\"], [0.2222222222222222, \"#7201a8\"], [0.3333333333333333, \"#9c179e\"], [0.4444444444444444, \"#bd3786\"], [0.5555555555555556, \"#d8576b\"], [0.6666666666666666, \"#ed7953\"], [0.7777777777777778, \"#fb9f3a\"], [0.8888888888888888, \"#fdca26\"], [1.0, \"#f0f921\"]], \"type\": \"histogram2d\"}], \"histogram2dcontour\": [{\"colorbar\": {\"outlinewidth\": 0, \"ticks\": \"\"}, \"colorscale\": [[0.0, \"#0d0887\"], [0.1111111111111111, \"#46039f\"], [0.2222222222222222, \"#7201a8\"], [0.3333333333333333, \"#9c179e\"], [0.4444444444444444, \"#bd3786\"], [0.5555555555555556, \"#d8576b\"], [0.6666666666666666, \"#ed7953\"], [0.7777777777777778, \"#fb9f3a\"], [0.8888888888888888, \"#fdca26\"], [1.0, \"#f0f921\"]], \"type\": \"histogram2dcontour\"}], \"mesh3d\": [{\"colorbar\": {\"outlinewidth\": 0, \"ticks\": \"\"}, \"type\": \"mesh3d\"}], \"parcoords\": [{\"line\": {\"colorbar\": {\"outlinewidth\": 0, \"ticks\": \"\"}}, \"type\": \"parcoords\"}], \"pie\": [{\"automargin\": true, \"type\": \"pie\"}], \"scatter\": [{\"marker\": {\"colorbar\": {\"outlinewidth\": 0, \"ticks\": \"\"}}, \"type\": \"scatter\"}], \"scatter3d\": [{\"line\": {\"colorbar\": {\"outlinewidth\": 0, \"ticks\": \"\"}}, \"marker\": {\"colorbar\": {\"outlinewidth\": 0, \"ticks\": \"\"}}, \"type\": \"scatter3d\"}], \"scattercarpet\": [{\"marker\": {\"colorbar\": {\"outlinewidth\": 0, \"ticks\": \"\"}}, \"type\": \"scattercarpet\"}], \"scattergeo\": [{\"marker\": {\"colorbar\": {\"outlinewidth\": 0, \"ticks\": \"\"}}, \"type\": \"scattergeo\"}], \"scattergl\": [{\"marker\": {\"colorbar\": {\"outlinewidth\": 0, \"ticks\": \"\"}}, \"type\": \"scattergl\"}], \"scattermapbox\": [{\"marker\": {\"colorbar\": {\"outlinewidth\": 0, \"ticks\": \"\"}}, \"type\": \"scattermapbox\"}], \"scatterpolar\": [{\"marker\": {\"colorbar\": {\"outlinewidth\": 0, \"ticks\": \"\"}}, \"type\": \"scatterpolar\"}], \"scatterpolargl\": [{\"marker\": {\"colorbar\": {\"outlinewidth\": 0, \"ticks\": \"\"}}, \"type\": \"scatterpolargl\"}], \"scatterternary\": [{\"marker\": {\"colorbar\": {\"outlinewidth\": 0, \"ticks\": \"\"}}, \"type\": \"scatterternary\"}], \"surface\": [{\"colorbar\": {\"outlinewidth\": 0, \"ticks\": \"\"}, \"colorscale\": [[0.0, \"#0d0887\"], [0.1111111111111111, \"#46039f\"], [0.2222222222222222, \"#7201a8\"], [0.3333333333333333, \"#9c179e\"], [0.4444444444444444, \"#bd3786\"], [0.5555555555555556, \"#d8576b\"], [0.6666666666666666, \"#ed7953\"], [0.7777777777777778, \"#fb9f3a\"], [0.8888888888888888, \"#fdca26\"], [1.0, \"#f0f921\"]], \"type\": \"surface\"}], \"table\": [{\"cells\": {\"fill\": {\"color\": \"#EBF0F8\"}, \"line\": {\"color\": \"white\"}}, \"header\": {\"fill\": {\"color\": \"#C8D4E3\"}, \"line\": {\"color\": \"white\"}}, \"type\": \"table\"}]}, \"layout\": {\"annotationdefaults\": {\"arrowcolor\": \"#2a3f5f\", \"arrowhead\": 0, \"arrowwidth\": 1}, \"coloraxis\": {\"colorbar\": {\"outlinewidth\": 0, \"ticks\": \"\"}}, \"colorscale\": {\"diverging\": [[0, \"#8e0152\"], [0.1, \"#c51b7d\"], [0.2, \"#de77ae\"], [0.3, \"#f1b6da\"], [0.4, \"#fde0ef\"], [0.5, \"#f7f7f7\"], [0.6, \"#e6f5d0\"], [0.7, \"#b8e186\"], [0.8, \"#7fbc41\"], [0.9, \"#4d9221\"], [1, \"#276419\"]], \"sequential\": [[0.0, \"#0d0887\"], [0.1111111111111111, \"#46039f\"], [0.2222222222222222, \"#7201a8\"], [0.3333333333333333, \"#9c179e\"], [0.4444444444444444, \"#bd3786\"], [0.5555555555555556, \"#d8576b\"], [0.6666666666666666, \"#ed7953\"], [0.7777777777777778, \"#fb9f3a\"], [0.8888888888888888, \"#fdca26\"], [1.0, \"#f0f921\"]], \"sequentialminus\": [[0.0, \"#0d0887\"], [0.1111111111111111, \"#46039f\"], [0.2222222222222222, \"#7201a8\"], [0.3333333333333333, \"#9c179e\"], [0.4444444444444444, \"#bd3786\"], [0.5555555555555556, \"#d8576b\"], [0.6666666666666666, \"#ed7953\"], [0.7777777777777778, \"#fb9f3a\"], [0.8888888888888888, \"#fdca26\"], [1.0, \"#f0f921\"]]}, \"colorway\": [\"#636efa\", \"#EF553B\", \"#00cc96\", \"#ab63fa\", \"#FFA15A\", \"#19d3f3\", \"#FF6692\", \"#B6E880\", \"#FF97FF\", \"#FECB52\"], \"font\": {\"color\": \"#2a3f5f\"}, \"geo\": {\"bgcolor\": \"white\", \"lakecolor\": \"white\", \"landcolor\": \"#E5ECF6\", \"showlakes\": true, \"showland\": true, \"subunitcolor\": \"white\"}, \"hoverlabel\": {\"align\": \"left\"}, \"hovermode\": \"closest\", \"mapbox\": {\"style\": \"light\"}, \"paper_bgcolor\": \"white\", \"plot_bgcolor\": \"#E5ECF6\", \"polar\": {\"angularaxis\": {\"gridcolor\": \"white\", \"linecolor\": \"white\", \"ticks\": \"\"}, \"bgcolor\": \"#E5ECF6\", \"radialaxis\": {\"gridcolor\": \"white\", \"linecolor\": \"white\", \"ticks\": \"\"}}, \"scene\": {\"xaxis\": {\"backgroundcolor\": \"#E5ECF6\", \"gridcolor\": \"white\", \"gridwidth\": 2, \"linecolor\": \"white\", \"showbackground\": true, \"ticks\": \"\", \"zerolinecolor\": \"white\"}, \"yaxis\": {\"backgroundcolor\": \"#E5ECF6\", \"gridcolor\": \"white\", \"gridwidth\": 2, \"linecolor\": \"white\", \"showbackground\": true, \"ticks\": \"\", \"zerolinecolor\": \"white\"}, \"zaxis\": {\"backgroundcolor\": \"#E5ECF6\", \"gridcolor\": \"white\", \"gridwidth\": 2, \"linecolor\": \"white\", \"showbackground\": true, \"ticks\": \"\", \"zerolinecolor\": \"white\"}}, \"shapedefaults\": {\"line\": {\"color\": \"#2a3f5f\"}}, \"ternary\": {\"aaxis\": {\"gridcolor\": \"white\", \"linecolor\": \"white\", \"ticks\": \"\"}, \"baxis\": {\"gridcolor\": \"white\", \"linecolor\": \"white\", \"ticks\": \"\"}, \"bgcolor\": \"#E5ECF6\", \"caxis\": {\"gridcolor\": \"white\", \"linecolor\": \"white\", \"ticks\": \"\"}}, \"title\": {\"x\": 0.05}, \"xaxis\": {\"automargin\": true, \"gridcolor\": \"white\", \"linecolor\": \"white\", \"ticks\": \"\", \"title\": {\"standoff\": 15}, \"zerolinecolor\": \"white\", \"zerolinewidth\": 2}, \"yaxis\": {\"automargin\": true, \"gridcolor\": \"white\", \"linecolor\": \"white\", \"ticks\": \"\", \"title\": {\"standoff\": 15}, \"zerolinecolor\": \"white\", \"zerolinewidth\": 2}}}, \"title\": {\"text\": \"ExerciseAngina\"}},\n",
              "                        {\"responsive\": true}\n",
              "                    ).then(function(){\n",
              "                            \n",
              "var gd = document.getElementById('2ac27d0a-9ec4-4b77-8ca3-c748df85f477');\n",
              "var x = new MutationObserver(function (mutations, observer) {{\n",
              "        var display = window.getComputedStyle(gd).display;\n",
              "        if (!display || display === 'none') {{\n",
              "            console.log([gd, 'removed!']);\n",
              "            Plotly.purge(gd);\n",
              "            observer.disconnect();\n",
              "        }}\n",
              "}});\n",
              "\n",
              "// Listen for the removal of the full notebook cells\n",
              "var notebookContainer = gd.closest('#notebook-container');\n",
              "if (notebookContainer) {{\n",
              "    x.observe(notebookContainer, {childList: true});\n",
              "}}\n",
              "\n",
              "// Listen for the clearing of the current output cell\n",
              "var outputEl = gd.closest('.output');\n",
              "if (outputEl) {{\n",
              "    x.observe(outputEl, {childList: true});\n",
              "}}\n",
              "\n",
              "                        })\n",
              "                };\n",
              "                \n",
              "            </script>\n",
              "        </div>\n",
              "</body>\n",
              "</html>"
            ]
          },
          "metadata": {}
        }
      ]
    },
    {
      "cell_type": "code",
      "metadata": {
        "colab": {
          "base_uri": "https://localhost:8080/",
          "height": 542
        },
        "id": "KqFSM5eIe3Pg",
        "outputId": "464fbf4a-4088-43df-d48b-a6638898291f"
      },
      "source": [
        "fig = go.Figure(data=[go.Pie(labels=data['ST_Slope'].value_counts().index,\n",
        "                             values=data['ST_Slope'].value_counts().values)])\n",
        "\n",
        "fig.update_layout(\n",
        "    title_text=\"ST_Slop\")\n",
        "fig.show()"
      ],
      "execution_count": null,
      "outputs": [
        {
          "output_type": "display_data",
          "data": {
            "text/html": [
              "<html>\n",
              "<head><meta charset=\"utf-8\" /></head>\n",
              "<body>\n",
              "    <div>\n",
              "            <script src=\"https://cdnjs.cloudflare.com/ajax/libs/mathjax/2.7.5/MathJax.js?config=TeX-AMS-MML_SVG\"></script><script type=\"text/javascript\">if (window.MathJax) {MathJax.Hub.Config({SVG: {font: \"STIX-Web\"}});}</script>\n",
              "                <script type=\"text/javascript\">window.PlotlyConfig = {MathJaxConfig: 'local'};</script>\n",
              "        <script src=\"https://cdn.plot.ly/plotly-latest.min.js\"></script>    \n",
              "            <div id=\"a0fb2085-8112-440e-b67d-5437e1183afd\" class=\"plotly-graph-div\" style=\"height:525px; width:100%;\"></div>\n",
              "            <script type=\"text/javascript\">\n",
              "                \n",
              "                    window.PLOTLYENV=window.PLOTLYENV || {};\n",
              "                    \n",
              "                if (document.getElementById(\"a0fb2085-8112-440e-b67d-5437e1183afd\")) {\n",
              "                    Plotly.newPlot(\n",
              "                        'a0fb2085-8112-440e-b67d-5437e1183afd',\n",
              "                        [{\"labels\": [\"Flat\", \"Up\", \"Down\"], \"type\": \"pie\", \"values\": [460, 395, 63]}],\n",
              "                        {\"template\": {\"data\": {\"bar\": [{\"error_x\": {\"color\": \"#2a3f5f\"}, \"error_y\": {\"color\": \"#2a3f5f\"}, \"marker\": {\"line\": {\"color\": \"#E5ECF6\", \"width\": 0.5}}, \"type\": \"bar\"}], \"barpolar\": [{\"marker\": {\"line\": {\"color\": \"#E5ECF6\", \"width\": 0.5}}, \"type\": \"barpolar\"}], \"carpet\": [{\"aaxis\": {\"endlinecolor\": \"#2a3f5f\", \"gridcolor\": \"white\", \"linecolor\": \"white\", \"minorgridcolor\": \"white\", \"startlinecolor\": \"#2a3f5f\"}, \"baxis\": {\"endlinecolor\": \"#2a3f5f\", \"gridcolor\": \"white\", \"linecolor\": \"white\", \"minorgridcolor\": \"white\", \"startlinecolor\": \"#2a3f5f\"}, \"type\": \"carpet\"}], \"choropleth\": [{\"colorbar\": {\"outlinewidth\": 0, \"ticks\": \"\"}, \"type\": \"choropleth\"}], \"contour\": [{\"colorbar\": {\"outlinewidth\": 0, \"ticks\": \"\"}, \"colorscale\": [[0.0, \"#0d0887\"], [0.1111111111111111, \"#46039f\"], [0.2222222222222222, \"#7201a8\"], [0.3333333333333333, \"#9c179e\"], [0.4444444444444444, \"#bd3786\"], [0.5555555555555556, \"#d8576b\"], [0.6666666666666666, \"#ed7953\"], [0.7777777777777778, \"#fb9f3a\"], [0.8888888888888888, \"#fdca26\"], [1.0, \"#f0f921\"]], \"type\": \"contour\"}], \"contourcarpet\": [{\"colorbar\": {\"outlinewidth\": 0, \"ticks\": \"\"}, \"type\": \"contourcarpet\"}], \"heatmap\": [{\"colorbar\": {\"outlinewidth\": 0, \"ticks\": \"\"}, \"colorscale\": [[0.0, \"#0d0887\"], [0.1111111111111111, \"#46039f\"], [0.2222222222222222, \"#7201a8\"], [0.3333333333333333, \"#9c179e\"], [0.4444444444444444, \"#bd3786\"], [0.5555555555555556, \"#d8576b\"], [0.6666666666666666, \"#ed7953\"], [0.7777777777777778, \"#fb9f3a\"], [0.8888888888888888, \"#fdca26\"], [1.0, \"#f0f921\"]], \"type\": \"heatmap\"}], \"heatmapgl\": [{\"colorbar\": {\"outlinewidth\": 0, \"ticks\": \"\"}, \"colorscale\": [[0.0, \"#0d0887\"], [0.1111111111111111, \"#46039f\"], [0.2222222222222222, \"#7201a8\"], [0.3333333333333333, \"#9c179e\"], [0.4444444444444444, \"#bd3786\"], [0.5555555555555556, \"#d8576b\"], [0.6666666666666666, \"#ed7953\"], [0.7777777777777778, \"#fb9f3a\"], [0.8888888888888888, \"#fdca26\"], [1.0, \"#f0f921\"]], \"type\": \"heatmapgl\"}], \"histogram\": [{\"marker\": {\"colorbar\": {\"outlinewidth\": 0, \"ticks\": \"\"}}, \"type\": \"histogram\"}], \"histogram2d\": [{\"colorbar\": {\"outlinewidth\": 0, \"ticks\": \"\"}, \"colorscale\": [[0.0, \"#0d0887\"], [0.1111111111111111, \"#46039f\"], [0.2222222222222222, \"#7201a8\"], [0.3333333333333333, \"#9c179e\"], [0.4444444444444444, \"#bd3786\"], [0.5555555555555556, \"#d8576b\"], [0.6666666666666666, \"#ed7953\"], [0.7777777777777778, \"#fb9f3a\"], [0.8888888888888888, \"#fdca26\"], [1.0, \"#f0f921\"]], \"type\": \"histogram2d\"}], \"histogram2dcontour\": [{\"colorbar\": {\"outlinewidth\": 0, \"ticks\": \"\"}, \"colorscale\": [[0.0, \"#0d0887\"], [0.1111111111111111, \"#46039f\"], [0.2222222222222222, \"#7201a8\"], [0.3333333333333333, \"#9c179e\"], [0.4444444444444444, \"#bd3786\"], [0.5555555555555556, \"#d8576b\"], [0.6666666666666666, \"#ed7953\"], [0.7777777777777778, \"#fb9f3a\"], [0.8888888888888888, \"#fdca26\"], [1.0, \"#f0f921\"]], \"type\": \"histogram2dcontour\"}], \"mesh3d\": [{\"colorbar\": {\"outlinewidth\": 0, \"ticks\": \"\"}, \"type\": \"mesh3d\"}], \"parcoords\": [{\"line\": {\"colorbar\": {\"outlinewidth\": 0, \"ticks\": \"\"}}, \"type\": \"parcoords\"}], \"pie\": [{\"automargin\": true, \"type\": \"pie\"}], \"scatter\": [{\"marker\": {\"colorbar\": {\"outlinewidth\": 0, \"ticks\": \"\"}}, \"type\": \"scatter\"}], \"scatter3d\": [{\"line\": {\"colorbar\": {\"outlinewidth\": 0, \"ticks\": \"\"}}, \"marker\": {\"colorbar\": {\"outlinewidth\": 0, \"ticks\": \"\"}}, \"type\": \"scatter3d\"}], \"scattercarpet\": [{\"marker\": {\"colorbar\": {\"outlinewidth\": 0, \"ticks\": \"\"}}, \"type\": \"scattercarpet\"}], \"scattergeo\": [{\"marker\": {\"colorbar\": {\"outlinewidth\": 0, \"ticks\": \"\"}}, \"type\": \"scattergeo\"}], \"scattergl\": [{\"marker\": {\"colorbar\": {\"outlinewidth\": 0, \"ticks\": \"\"}}, \"type\": \"scattergl\"}], \"scattermapbox\": [{\"marker\": {\"colorbar\": {\"outlinewidth\": 0, \"ticks\": \"\"}}, \"type\": \"scattermapbox\"}], \"scatterpolar\": [{\"marker\": {\"colorbar\": {\"outlinewidth\": 0, \"ticks\": \"\"}}, \"type\": \"scatterpolar\"}], \"scatterpolargl\": [{\"marker\": {\"colorbar\": {\"outlinewidth\": 0, \"ticks\": \"\"}}, \"type\": \"scatterpolargl\"}], \"scatterternary\": [{\"marker\": {\"colorbar\": {\"outlinewidth\": 0, \"ticks\": \"\"}}, \"type\": \"scatterternary\"}], \"surface\": [{\"colorbar\": {\"outlinewidth\": 0, \"ticks\": \"\"}, \"colorscale\": [[0.0, \"#0d0887\"], [0.1111111111111111, \"#46039f\"], [0.2222222222222222, \"#7201a8\"], [0.3333333333333333, \"#9c179e\"], [0.4444444444444444, \"#bd3786\"], [0.5555555555555556, \"#d8576b\"], [0.6666666666666666, \"#ed7953\"], [0.7777777777777778, \"#fb9f3a\"], [0.8888888888888888, \"#fdca26\"], [1.0, \"#f0f921\"]], \"type\": \"surface\"}], \"table\": [{\"cells\": {\"fill\": {\"color\": \"#EBF0F8\"}, \"line\": {\"color\": \"white\"}}, \"header\": {\"fill\": {\"color\": \"#C8D4E3\"}, \"line\": {\"color\": \"white\"}}, \"type\": \"table\"}]}, \"layout\": {\"annotationdefaults\": {\"arrowcolor\": \"#2a3f5f\", \"arrowhead\": 0, \"arrowwidth\": 1}, \"coloraxis\": {\"colorbar\": {\"outlinewidth\": 0, \"ticks\": \"\"}}, \"colorscale\": {\"diverging\": [[0, \"#8e0152\"], [0.1, \"#c51b7d\"], [0.2, \"#de77ae\"], [0.3, \"#f1b6da\"], [0.4, \"#fde0ef\"], [0.5, \"#f7f7f7\"], [0.6, \"#e6f5d0\"], [0.7, \"#b8e186\"], [0.8, \"#7fbc41\"], [0.9, \"#4d9221\"], [1, \"#276419\"]], \"sequential\": [[0.0, \"#0d0887\"], [0.1111111111111111, \"#46039f\"], [0.2222222222222222, \"#7201a8\"], [0.3333333333333333, \"#9c179e\"], [0.4444444444444444, \"#bd3786\"], [0.5555555555555556, \"#d8576b\"], [0.6666666666666666, \"#ed7953\"], [0.7777777777777778, \"#fb9f3a\"], [0.8888888888888888, \"#fdca26\"], [1.0, \"#f0f921\"]], \"sequentialminus\": [[0.0, \"#0d0887\"], [0.1111111111111111, \"#46039f\"], [0.2222222222222222, \"#7201a8\"], [0.3333333333333333, \"#9c179e\"], [0.4444444444444444, \"#bd3786\"], [0.5555555555555556, \"#d8576b\"], [0.6666666666666666, \"#ed7953\"], [0.7777777777777778, \"#fb9f3a\"], [0.8888888888888888, \"#fdca26\"], [1.0, \"#f0f921\"]]}, \"colorway\": [\"#636efa\", \"#EF553B\", \"#00cc96\", \"#ab63fa\", \"#FFA15A\", \"#19d3f3\", \"#FF6692\", \"#B6E880\", \"#FF97FF\", \"#FECB52\"], \"font\": {\"color\": \"#2a3f5f\"}, \"geo\": {\"bgcolor\": \"white\", \"lakecolor\": \"white\", \"landcolor\": \"#E5ECF6\", \"showlakes\": true, \"showland\": true, \"subunitcolor\": \"white\"}, \"hoverlabel\": {\"align\": \"left\"}, \"hovermode\": \"closest\", \"mapbox\": {\"style\": \"light\"}, \"paper_bgcolor\": \"white\", \"plot_bgcolor\": \"#E5ECF6\", \"polar\": {\"angularaxis\": {\"gridcolor\": \"white\", \"linecolor\": \"white\", \"ticks\": \"\"}, \"bgcolor\": \"#E5ECF6\", \"radialaxis\": {\"gridcolor\": \"white\", \"linecolor\": \"white\", \"ticks\": \"\"}}, \"scene\": {\"xaxis\": {\"backgroundcolor\": \"#E5ECF6\", \"gridcolor\": \"white\", \"gridwidth\": 2, \"linecolor\": \"white\", \"showbackground\": true, \"ticks\": \"\", \"zerolinecolor\": \"white\"}, \"yaxis\": {\"backgroundcolor\": \"#E5ECF6\", \"gridcolor\": \"white\", \"gridwidth\": 2, \"linecolor\": \"white\", \"showbackground\": true, \"ticks\": \"\", \"zerolinecolor\": \"white\"}, \"zaxis\": {\"backgroundcolor\": \"#E5ECF6\", \"gridcolor\": \"white\", \"gridwidth\": 2, \"linecolor\": \"white\", \"showbackground\": true, \"ticks\": \"\", \"zerolinecolor\": \"white\"}}, \"shapedefaults\": {\"line\": {\"color\": \"#2a3f5f\"}}, \"ternary\": {\"aaxis\": {\"gridcolor\": \"white\", \"linecolor\": \"white\", \"ticks\": \"\"}, \"baxis\": {\"gridcolor\": \"white\", \"linecolor\": \"white\", \"ticks\": \"\"}, \"bgcolor\": \"#E5ECF6\", \"caxis\": {\"gridcolor\": \"white\", \"linecolor\": \"white\", \"ticks\": \"\"}}, \"title\": {\"x\": 0.05}, \"xaxis\": {\"automargin\": true, \"gridcolor\": \"white\", \"linecolor\": \"white\", \"ticks\": \"\", \"title\": {\"standoff\": 15}, \"zerolinecolor\": \"white\", \"zerolinewidth\": 2}, \"yaxis\": {\"automargin\": true, \"gridcolor\": \"white\", \"linecolor\": \"white\", \"ticks\": \"\", \"title\": {\"standoff\": 15}, \"zerolinecolor\": \"white\", \"zerolinewidth\": 2}}}, \"title\": {\"text\": \"ST_Slop\"}},\n",
              "                        {\"responsive\": true}\n",
              "                    ).then(function(){\n",
              "                            \n",
              "var gd = document.getElementById('a0fb2085-8112-440e-b67d-5437e1183afd');\n",
              "var x = new MutationObserver(function (mutations, observer) {{\n",
              "        var display = window.getComputedStyle(gd).display;\n",
              "        if (!display || display === 'none') {{\n",
              "            console.log([gd, 'removed!']);\n",
              "            Plotly.purge(gd);\n",
              "            observer.disconnect();\n",
              "        }}\n",
              "}});\n",
              "\n",
              "// Listen for the removal of the full notebook cells\n",
              "var notebookContainer = gd.closest('#notebook-container');\n",
              "if (notebookContainer) {{\n",
              "    x.observe(notebookContainer, {childList: true});\n",
              "}}\n",
              "\n",
              "// Listen for the clearing of the current output cell\n",
              "var outputEl = gd.closest('.output');\n",
              "if (outputEl) {{\n",
              "    x.observe(outputEl, {childList: true});\n",
              "}}\n",
              "\n",
              "                        })\n",
              "                };\n",
              "                \n",
              "            </script>\n",
              "        </div>\n",
              "</body>\n",
              "</html>"
            ]
          },
          "metadata": {}
        }
      ]
    },
    {
      "cell_type": "markdown",
      "metadata": {
        "id": "vYz3CRN4KGyi"
      },
      "source": [
        "# Cleaning the data"
      ]
    },
    {
      "cell_type": "markdown",
      "metadata": {
        "id": "jR9N42hWDBgW"
      },
      "source": [
        "**View missing data**"
      ]
    },
    {
      "cell_type": "code",
      "metadata": {
        "colab": {
          "base_uri": "https://localhost:8080/"
        },
        "id": "BkhYLnUsgh6J",
        "outputId": "0f524e81-7b6f-4be2-a894-f5672b30d416"
      },
      "source": [
        "data.isnull().sum()"
      ],
      "execution_count": null,
      "outputs": [
        {
          "output_type": "execute_result",
          "data": {
            "text/plain": [
              "Age               0\n",
              "Sex               0\n",
              "ChestPainType     0\n",
              "RestingBP         0\n",
              "Cholesterol       0\n",
              "FastingBS         0\n",
              "RestingECG        0\n",
              "MaxHR             0\n",
              "ExerciseAngina    0\n",
              "Oldpeak           0\n",
              "ST_Slope          0\n",
              "HeartDisease      0\n",
              "dtype: int64"
            ]
          },
          "metadata": {},
          "execution_count": 17
        }
      ]
    },
    {
      "cell_type": "markdown",
      "metadata": {
        "id": "A4kdfimrCzBA"
      },
      "source": [
        "There's no missing data."
      ]
    },
    {
      "cell_type": "markdown",
      "metadata": {
        "id": "IF1E07qWzlYC"
      },
      "source": [
        "**Checking for duplicated rows**"
      ]
    },
    {
      "cell_type": "code",
      "metadata": {
        "colab": {
          "base_uri": "https://localhost:8080/"
        },
        "id": "PViOz9pRzV9B",
        "outputId": "3be66021-7073-4cd7-f7a3-2a66635d4537"
      },
      "source": [
        "data.duplicated().sum()"
      ],
      "execution_count": null,
      "outputs": [
        {
          "output_type": "execute_result",
          "data": {
            "text/plain": [
              "0"
            ]
          },
          "metadata": {},
          "execution_count": 18
        }
      ]
    },
    {
      "cell_type": "markdown",
      "metadata": {
        "id": "JmbMVrqszcR4"
      },
      "source": [
        "There's no duplicated rows in our dataset."
      ]
    },
    {
      "cell_type": "markdown",
      "metadata": {
        "id": "w-6hDIegRFU2"
      },
      "source": [
        "# Relationship analysis"
      ]
    },
    {
      "cell_type": "markdown",
      "metadata": {
        "id": "29OudXj8xoWs"
      },
      "source": [
        "**Data correlation**"
      ]
    },
    {
      "cell_type": "code",
      "metadata": {
        "colab": {
          "base_uri": "https://localhost:8080/",
          "height": 504
        },
        "id": "u8uqwnRf9lTW",
        "outputId": "0f7a09ce-6a51-44d2-9924-55cc4b27fdc9"
      },
      "source": [
        "plt.figure(figsize=(12,8))\n",
        "sns.heatmap(data.corr(),cmap='plasma',annot=True)"
      ],
      "execution_count": null,
      "outputs": [
        {
          "output_type": "execute_result",
          "data": {
            "text/plain": [
              "<matplotlib.axes._subplots.AxesSubplot at 0x7f43a385f510>"
            ]
          },
          "metadata": {},
          "execution_count": 19
        },
        {
          "output_type": "display_data",
          "data": {
            "image/png": "[encoded data removed]",
            "text/plain": [
              "<Figure size 864x576 with 2 Axes>"
            ]
          },
          "metadata": {
            "needs_background": "light"
          }
        }
      ]
    },
    {
      "cell_type": "markdown",
      "metadata": {
        "id": "Xysoc1ZA0D0f"
      },
      "source": [
        "As we notice from the heatmap, all features have a correlation to heart diseases. So all the attributes will impact the prediction."
      ]
    },
    {
      "cell_type": "code",
      "metadata": {
        "colab": {
          "base_uri": "https://localhost:8080/",
          "height": 817
        },
        "id": "16wkx6FmwROe",
        "outputId": "3719f955-6280-4ac1-ea81-c62d5dcc177a"
      },
      "source": [
        "\n",
        "data_forplot = data.loc[:,['RestingBP', 'Cholesterol', 'MaxHR']]\n",
        "data_forplot[\"index\"] = np.arange(1,len(data_forplot)+1)\n",
        "fig = ff.create_scatterplotmatrix(data_forplot, diag='box', index='index',colormap='Bluered',\n",
        "                                  height=800, width=800)\n",
        "iplot(fig)"
      ],
      "execution_count": null,
      "outputs": [
        {
          "output_type": "display_data",
          "data": {
            "text/html": [
              "<html>\n",
              "<head><meta charset=\"utf-8\" /></head>\n",
              "<body>\n",
              "    <div>\n",
              "            <script src=\"https://cdnjs.cloudflare.com/ajax/libs/mathjax/2.7.5/MathJax.js?config=TeX-AMS-MML_SVG\"></script><script type=\"text/javascript\">if (window.MathJax) {MathJax.Hub.Config({SVG: {font: \"STIX-Web\"}});}</script>\n",
              "                <script type=\"text/javascript\">window.PlotlyConfig = {MathJaxConfig: 'local'};</script>\n",
              "        <script src=\"https://cdn.plot.ly/plotly-latest.min.js\"></script>    \n",
              "            <div id=\"0f65bfe4-3143-4979-b853-31ee6e195265\" class=\"plotly-graph-div\" style=\"height:800px; width:800px;\"></div>\n",
              "            <script type=\"text/javascript\">\n",
              "                \n",
              "                    window.PLOTLYENV=window.PLOTLYENV || {};\n",
              "                    \n",
              "                if (document.getElementById(\"0f65bfe4-3143-4979-b853-31ee6e195265\")) {\n",
              "                    Plotly.newPlot(\n",
              "                        '0f65bfe4-3143-4979-b853-31ee6e195265',\n",
              "                        [{\"marker\": {\"color\": \"rgb(0, 0, 255)\"}, \"showlegend\": false, \"type\": \"box\", \"xaxis\": \"x\", \"y\": [140, 160, 130, 138, 150, 120, 130, 110, 140, 120, 130, 136, 120, 140, 115, 120, 110, 120, 100, 120, 100, 120, 124, 150, 130, 130, 124, 120, 113, 125, 145, 130, 125, 130, 150, 125, 140, 110, 120, 150, 150, 130, 150, 140, 120, 130, 120, 140, 112, 110, 130, 120, 140, 130, 130, 160, 120, 130, 150, 112, 100, 150, 140, 120, 110, 120, 132, 110, 160, 150, 140, 130, 120, 120, 140, 150, 118, 140, 140, 130, 110, 120, 150, 160, 150, 140, 170, 140, 120, 140, 110, 130, 120, 160, 110, 130, 142, 160, 120, 125, 130, 130, 150, 120, 118, 140, 120, 150, 140, 190, 130, 150, 140, 140, 130, 100, 120, 130, 120, 140, 135, 125, 110, 180, 130, 120, 130, 108, 120, 120, 145, 110, 170, 150, 130, 115, 120, 120, 140, 150, 160, 140, 160, 140, 120, 110, 120, 120, 120, 130, 130, 100, 130, 120, 120, 155, 110, 140, 130, 160, 140, 128, 160, 120, 140, 140, 140, 140, 135, 140, 120, 140, 140, 140, 140, 140, 140, 140, 130, 130, 130, 130, 140, 110, 160, 160, 130, 120, 120, 180, 180, 170, 130, 135, 125, 160, 120, 150, 120, 130, 110, 120, 160, 100, 130, 150, 120, 110, 130, 125, 106, 140, 130, 130, 150, 170, 110, 120, 140, 140, 130, 160, 120, 120, 120, 145, 120, 92, 120, 130, 130, 130, 120, 112, 140, 120, 120, 140, 160, 160, 145, 200, 160, 120, 160, 120, 120, 122, 130, 130, 135, 120, 125, 140, 145, 120, 130, 150, 150, 122, 140, 120, 120, 130, 140, 160, 130, 98, 130, 130, 120, 105, 140, 120, 180, 180, 135, 170, 180, 130, 120, 150, 130, 110, 140, 110, 140, 120, 133, 120, 110, 140, 130, 115, 95, 105, 145, 110, 110, 110, 160, 140, 125, 120, 95, 120, 115, 130, 115, 95, 155, 125, 125, 115, 80, 145, 105, 140, 130, 145, 125, 100, 105, 115, 100, 105, 110, 125, 95, 130, 115, 115, 100, 95, 130, 120, 160, 150, 140, 95, 100, 110, 110, 130, 120, 135, 120, 115, 137, 110, 120, 140, 120, 130, 120, 145, 115, 120, 115, 105, 160, 160, 155, 120, 120, 200, 150, 135, 140, 150, 135, 150, 185, 135, 125, 160, 155, 160, 140, 120, 160, 115, 115, 110, 120, 150, 145, 130, 140, 160, 140, 115, 130, 150, 160, 135, 140, 170, 165, 200, 160, 130, 145, 135, 110, 120, 140, 115, 110, 160, 150, 180, 125, 125, 130, 155, 140, 130, 132, 142, 110, 120, 150, 180, 120, 160, 126, 140, 110, 133, 128, 120, 170, 110, 126, 152, 116, 120, 130, 138, 128, 130, 128, 130, 120, 136, 130, 124, 160, 0, 122, 144, 140, 120, 136, 154, 120, 125, 134, 104, 139, 136, 122, 128, 131, 134, 120, 132, 152, 124, 126, 138, 154, 141, 131, 178, 132, 110, 130, 170, 126, 140, 142, 120, 134, 139, 110, 140, 140, 136, 120, 170, 130, 137, 142, 142, 132, 146, 160, 135, 136, 130, 140, 132, 158, 136, 136, 106, 120, 110, 136, 160, 123, 112, 122, 130, 150, 150, 102, 96, 130, 120, 144, 124, 150, 130, 144, 139, 131, 143, 133, 143, 116, 110, 125, 130, 133, 150, 130, 110, 138, 104, 138, 170, 140, 132, 132, 142, 112, 139, 172, 120, 144, 145, 155, 150, 160, 137, 137, 134, 133, 132, 140, 135, 144, 141, 150, 130, 110, 158, 128, 140, 150, 160, 142, 137, 139, 146, 156, 145, 131, 140, 122, 142, 141, 180, 124, 118, 140, 140, 136, 100, 190, 130, 160, 130, 122, 133, 120, 130, 130, 140, 120, 155, 134, 114, 160, 144, 158, 134, 127, 135, 122, 140, 120, 130, 115, 124, 128, 120, 120, 130, 110, 140, 150, 135, 142, 140, 134, 128, 112, 140, 140, 110, 140, 120, 130, 115, 112, 132, 130, 138, 120, 112, 110, 128, 160, 120, 170, 144, 130, 140, 160, 130, 122, 152, 124, 130, 101, 126, 140, 118, 110, 160, 150, 136, 128, 140, 140, 130, 105, 138, 120, 174, 120, 150, 130, 120, 150, 145, 150, 140, 136, 118, 108, 120, 120, 156, 140, 106, 142, 104, 94, 120, 120, 146, 120, 150, 130, 110, 148, 128, 178, 126, 150, 140, 130, 124, 110, 125, 110, 120, 100, 140, 120, 108, 120, 130, 165, 130, 124, 100, 150, 140, 112, 180, 110, 158, 135, 120, 134, 120, 200, 150, 130, 120, 122, 152, 160, 125, 160, 120, 136, 134, 117, 108, 112, 140, 120, 150, 142, 152, 125, 118, 132, 145, 138, 140, 125, 192, 123, 112, 110, 132, 112, 112, 120, 108, 130, 130, 105, 140, 128, 120, 178, 120, 150, 130, 128, 110, 180, 110, 130, 138, 138, 160, 140, 100, 120, 118, 138, 140, 150, 125, 129, 120, 134, 110, 102, 130, 130, 132, 108, 140, 160, 140, 145, 108, 126, 124, 135, 100, 110, 140, 125, 118, 125, 125, 140, 160, 152, 102, 105, 125, 130, 170, 125, 122, 128, 130, 130, 135, 94, 120, 120, 110, 135, 150, 130, 138, 135, 130, 132, 150, 118, 145, 118, 115, 128, 130, 160, 138, 120, 138, 120, 180, 140, 130, 140, 140, 130, 110, 155, 140, 145, 120, 130, 112, 110, 150, 160, 150, 132, 140, 150, 120, 130, 120, 130, 110, 172, 120, 140, 140, 160, 128, 138, 132, 128, 134, 170, 146, 138, 154, 130, 110, 130, 128, 122, 148, 114, 170, 125, 130, 120, 152, 132, 120, 140, 124, 120, 164, 140, 110, 144, 130, 130, 138], \"yaxis\": \"y\"}, {\"marker\": {\"color\": [1, 2, 3, 4, 5, 6, 7, 8, 9, 10, 11, 12, 13, 14, 15, 16, 17, 18, 19, 20, 21, 22, 23, 24, 25, 26, 27, 28, 29, 30, 31, 32, 33, 34, 35, 36, 37, 38, 39, 40, 41, 42, 43, 44, 45, 46, 47, 48, 49, 50, 51, 52, 53, 54, 55, 56, 57, 58, 59, 60, 61, 62, 63, 64, 65, 66, 67, 68, 69, 70, 71, 72, 73, 74, 75, 76, 77, 78, 79, 80, 81, 82, 83, 84, 85, 86, 87, 88, 89, 90, 91, 92, 93, 94, 95, 96, 97, 98, 99, 100, 101, 102, 103, 104, 105, 106, 107, 108, 109, 110, 111, 112, 113, 114, 115, 116, 117, 118, 119, 120, 121, 122, 123, 124, 125, 126, 127, 128, 129, 130, 131, 132, 133, 134, 135, 136, 137, 138, 139, 140, 141, 142, 143, 144, 145, 146, 147, 148, 149, 150, 151, 152, 153, 154, 155, 156, 157, 158, 159, 160, 161, 162, 163, 164, 165, 166, 167, 168, 169, 170, 171, 172, 173, 174, 175, 176, 177, 178, 179, 180, 181, 182, 183, 184, 185, 186, 187, 188, 189, 190, 191, 192, 193, 194, 195, 196, 197, 198, 199, 200, 201, 202, 203, 204, 205, 206, 207, 208, 209, 210, 211, 212, 213, 214, 215, 216, 217, 218, 219, 220, 221, 222, 223, 224, 225, 226, 227, 228, 229, 230, 231, 232, 233, 234, 235, 236, 237, 238, 239, 240, 241, 242, 243, 244, 245, 246, 247, 248, 249, 250, 251, 252, 253, 254, 255, 256, 257, 258, 259, 260, 261, 262, 263, 264, 265, 266, 267, 268, 269, 270, 271, 272, 273, 274, 275, 276, 277, 278, 279, 280, 281, 282, 283, 284, 285, 286, 287, 288, 289, 290, 291, 292, 293, 294, 295, 296, 297, 298, 299, 300, 301, 302, 303, 304, 305, 306, 307, 308, 309, 310, 311, 312, 313, 314, 315, 316, 317, 318, 319, 320, 321, 322, 323, 324, 325, 326, 327, 328, 329, 330, 331, 332, 333, 334, 335, 336, 337, 338, 339, 340, 341, 342, 343, 344, 345, 346, 347, 348, 349, 350, 351, 352, 353, 354, 355, 356, 357, 358, 359, 360, 361, 362, 363, 364, 365, 366, 367, 368, 369, 370, 371, 372, 373, 374, 375, 376, 377, 378, 379, 380, 381, 382, 383, 384, 385, 386, 387, 388, 389, 390, 391, 392, 393, 394, 395, 396, 397, 398, 399, 400, 401, 402, 403, 404, 405, 406, 407, 408, 409, 410, 411, 412, 413, 414, 415, 416, 417, 418, 419, 420, 421, 422, 423, 424, 425, 426, 427, 428, 429, 430, 431, 432, 433, 434, 435, 436, 437, 438, 439, 440, 441, 442, 443, 444, 445, 446, 447, 448, 449, 450, 451, 452, 453, 454, 455, 456, 457, 458, 459, 460, 461, 462, 463, 464, 465, 466, 467, 468, 469, 470, 471, 472, 473, 474, 475, 476, 477, 478, 479, 480, 481, 482, 483, 484, 485, 486, 487, 488, 489, 490, 491, 492, 493, 494, 495, 496, 497, 498, 499, 500, 501, 502, 503, 504, 505, 506, 507, 508, 509, 510, 511, 512, 513, 514, 515, 516, 517, 518, 519, 520, 521, 522, 523, 524, 525, 526, 527, 528, 529, 530, 531, 532, 533, 534, 535, 536, 537, 538, 539, 540, 541, 542, 543, 544, 545, 546, 547, 548, 549, 550, 551, 552, 553, 554, 555, 556, 557, 558, 559, 560, 561, 562, 563, 564, 565, 566, 567, 568, 569, 570, 571, 572, 573, 574, 575, 576, 577, 578, 579, 580, 581, 582, 583, 584, 585, 586, 587, 588, 589, 590, 591, 592, 593, 594, 595, 596, 597, 598, 599, 600, 601, 602, 603, 604, 605, 606, 607, 608, 609, 610, 611, 612, 613, 614, 615, 616, 617, 618, 619, 620, 621, 622, 623, 624, 625, 626, 627, 628, 629, 630, 631, 632, 633, 634, 635, 636, 637, 638, 639, 640, 641, 642, 643, 644, 645, 646, 647, 648, 649, 650, 651, 652, 653, 654, 655, 656, 657, 658, 659, 660, 661, 662, 663, 664, 665, 666, 667, 668, 669, 670, 671, 672, 673, 674, 675, 676, 677, 678, 679, 680, 681, 682, 683, 684, 685, 686, 687, 688, 689, 690, 691, 692, 693, 694, 695, 696, 697, 698, 699, 700, 701, 702, 703, 704, 705, 706, 707, 708, 709, 710, 711, 712, 713, 714, 715, 716, 717, 718, 719, 720, 721, 722, 723, 724, 725, 726, 727, 728, 729, 730, 731, 732, 733, 734, 735, 736, 737, 738, 739, 740, 741, 742, 743, 744, 745, 746, 747, 748, 749, 750, 751, 752, 753, 754, 755, 756, 757, 758, 759, 760, 761, 762, 763, 764, 765, 766, 767, 768, 769, 770, 771, 772, 773, 774, 775, 776, 777, 778, 779, 780, 781, 782, 783, 784, 785, 786, 787, 788, 789, 790, 791, 792, 793, 794, 795, 796, 797, 798, 799, 800, 801, 802, 803, 804, 805, 806, 807, 808, 809, 810, 811, 812, 813, 814, 815, 816, 817, 818, 819, 820, 821, 822, 823, 824, 825, 826, 827, 828, 829, 830, 831, 832, 833, 834, 835, 836, 837, 838, 839, 840, 841, 842, 843, 844, 845, 846, 847, 848, 849, 850, 851, 852, 853, 854, 855, 856, 857, 858, 859, 860, 861, 862, 863, 864, 865, 866, 867, 868, 869, 870, 871, 872, 873, 874, 875, 876, 877, 878, 879, 880, 881, 882, 883, 884, 885, 886, 887, 888, 889, 890, 891, 892, 893, 894, 895, 896, 897, 898, 899, 900, 901, 902, 903, 904, 905, 906, 907, 908, 909, 910, 911, 912, 913, 914, 915, 916, 917, 918], \"colorscale\": [[0.0, \"rgb(0, 0, 255)\"], [1.0, \"rgb(255, 0, 0)\"]], \"showscale\": true, \"size\": 6}, \"mode\": \"markers\", \"showlegend\": false, \"type\": \"scatter\", \"x\": [289, 180, 283, 214, 195, 339, 237, 208, 207, 284, 211, 164, 204, 234, 211, 273, 196, 201, 248, 267, 223, 184, 201, 288, 215, 209, 260, 284, 468, 188, 518, 167, 224, 172, 186, 254, 306, 250, 177, 227, 230, 294, 264, 259, 175, 318, 223, 216, 340, 289, 233, 205, 224, 245, 180, 194, 270, 213, 365, 342, 253, 254, 224, 277, 202, 260, 297, 225, 246, 412, 265, 215, 182, 218, 268, 163, 529, 167, 100, 206, 277, 238, 223, 196, 213, 139, 263, 216, 291, 229, 208, 307, 210, 329, 182, 263, 207, 147, 85, 269, 275, 179, 392, 466, 186, 260, 254, 214, 129, 241, 188, 255, 276, 297, 207, 246, 282, 338, 160, 156, 248, 272, 240, 393, 230, 246, 161, 163, 230, 228, 292, 202, 388, 230, 294, 265, 215, 241, 166, 247, 331, 341, 291, 243, 279, 273, 198, 249, 168, 603, 215, 159, 275, 270, 291, 342, 190, 185, 290, 195, 264, 212, 263, 196, 225, 272, 231, 238, 222, 179, 243, 235, 320, 187, 266, 288, 216, 287, 194, 238, 225, 224, 404, 238, 312, 211, 251, 237, 328, 285, 280, 209, 245, 192, 184, 193, 297, 268, 246, 308, 249, 230, 147, 219, 184, 215, 308, 257, 132, 216, 263, 288, 276, 219, 226, 237, 280, 217, 196, 263, 222, 303, 195, 298, 256, 264, 195, 117, 295, 173, 315, 281, 275, 250, 309, 200, 336, 295, 355, 193, 326, 198, 292, 266, 268, 171, 237, 275, 219, 341, 491, 260, 292, 271, 248, 274, 394, 160, 200, 320, 275, 221, 231, 126, 193, 305, 298, 220, 242, 235, 225, 198, 201, 220, 295, 213, 160, 223, 347, 253, 246, 222, 220, 344, 358, 190, 169, 181, 308, 166, 211, 257, 182, 0, 0, 0, 0, 0, 0, 0, 0, 0, 0, 0, 0, 0, 0, 0, 0, 0, 0, 0, 0, 0, 0, 0, 0, 0, 0, 0, 0, 0, 0, 0, 0, 0, 0, 0, 0, 0, 0, 0, 0, 0, 0, 0, 0, 0, 0, 0, 0, 0, 0, 0, 0, 0, 0, 0, 0, 0, 0, 0, 0, 0, 0, 0, 0, 0, 0, 0, 0, 0, 0, 0, 0, 0, 0, 0, 0, 0, 0, 0, 0, 0, 0, 0, 0, 0, 0, 0, 0, 0, 0, 0, 0, 0, 0, 0, 0, 0, 0, 0, 0, 0, 0, 0, 0, 0, 0, 0, 0, 0, 0, 0, 0, 0, 0, 0, 0, 0, 0, 0, 0, 0, 0, 0, 260, 209, 218, 228, 213, 0, 236, 0, 0, 267, 166, 0, 0, 0, 0, 220, 177, 236, 0, 0, 0, 0, 0, 0, 0, 0, 0, 186, 100, 228, 0, 171, 230, 0, 0, 0, 281, 0, 203, 0, 0, 0, 0, 0, 277, 0, 233, 0, 0, 240, 0, 0, 153, 224, 0, 0, 0, 316, 0, 0, 218, 0, 311, 0, 0, 0, 270, 0, 0, 217, 214, 214, 252, 220, 214, 203, 0, 339, 216, 276, 458, 241, 384, 297, 248, 308, 208, 227, 210, 245, 225, 240, 0, 198, 195, 267, 161, 258, 0, 0, 195, 235, 0, 305, 223, 282, 349, 160, 160, 236, 312, 283, 142, 211, 218, 306, 186, 252, 222, 0, 0, 258, 202, 197, 204, 113, 274, 192, 298, 272, 220, 200, 261, 181, 260, 220, 221, 216, 175, 219, 310, 208, 232, 273, 203, 182, 274, 204, 270, 292, 171, 221, 289, 217, 223, 110, 193, 123, 210, 282, 170, 369, 173, 289, 152, 208, 216, 271, 244, 285, 243, 240, 219, 237, 165, 213, 287, 258, 256, 186, 264, 185, 226, 203, 207, 284, 337, 310, 254, 258, 254, 300, 170, 310, 333, 139, 223, 385, 254, 322, 564, 261, 263, 269, 177, 256, 239, 293, 407, 234, 226, 235, 234, 303, 149, 311, 203, 211, 199, 229, 245, 303, 204, 288, 275, 243, 295, 230, 265, 229, 228, 215, 326, 200, 256, 207, 273, 180, 222, 223, 209, 233, 197, 218, 211, 149, 197, 246, 225, 315, 205, 417, 195, 234, 198, 166, 178, 249, 281, 126, 305, 226, 240, 233, 276, 261, 319, 242, 243, 260, 354, 245, 197, 223, 309, 208, 199, 209, 236, 218, 198, 270, 214, 201, 244, 208, 270, 306, 243, 221, 330, 266, 206, 212, 275, 302, 234, 313, 244, 141, 237, 269, 289, 254, 274, 222, 258, 177, 160, 327, 235, 305, 304, 295, 271, 249, 288, 226, 283, 188, 286, 274, 360, 273, 201, 267, 196, 201, 230, 269, 212, 226, 246, 232, 177, 277, 249, 210, 207, 212, 271, 233, 213, 283, 282, 230, 167, 224, 268, 250, 219, 267, 303, 256, 204, 217, 308, 193, 228, 231, 244, 262, 259, 211, 325, 254, 197, 236, 282, 234, 254, 299, 211, 182, 294, 298, 231, 254, 196, 240, 409, 172, 265, 246, 315, 184, 233, 394, 269, 239, 174, 309, 282, 255, 250, 248, 214, 239, 304, 277, 300, 258, 299, 289, 298, 318, 240, 309, 250, 288, 245, 213, 216, 204, 204, 252, 227, 258, 220, 239, 254, 168, 330, 183, 203, 263, 341, 283, 186, 307, 219, 260, 255, 231, 164, 234, 177, 257, 325, 274, 321, 264, 268, 308, 253, 248, 269, 185, 282, 188, 219, 290, 175, 212, 302, 243, 353, 335, 247, 340, 206, 284, 266, 229, 199, 263, 294, 192, 286, 216, 223, 247, 204, 204, 227, 278, 220, 232, 197, 335, 253, 205, 192, 203, 318, 225, 220, 221, 240, 212, 342, 169, 187, 197, 157, 176, 241, 264, 193, 131, 236, 175], \"xaxis\": \"x2\", \"y\": [140, 160, 130, 138, 150, 120, 130, 110, 140, 120, 130, 136, 120, 140, 115, 120, 110, 120, 100, 120, 100, 120, 124, 150, 130, 130, 124, 120, 113, 125, 145, 130, 125, 130, 150, 125, 140, 110, 120, 150, 150, 130, 150, 140, 120, 130, 120, 140, 112, 110, 130, 120, 140, 130, 130, 160, 120, 130, 150, 112, 100, 150, 140, 120, 110, 120, 132, 110, 160, 150, 140, 130, 120, 120, 140, 150, 118, 140, 140, 130, 110, 120, 150, 160, 150, 140, 170, 140, 120, 140, 110, 130, 120, 160, 110, 130, 142, 160, 120, 125, 130, 130, 150, 120, 118, 140, 120, 150, 140, 190, 130, 150, 140, 140, 130, 100, 120, 130, 120, 140, 135, 125, 110, 180, 130, 120, 130, 108, 120, 120, 145, 110, 170, 150, 130, 115, 120, 120, 140, 150, 160, 140, 160, 140, 120, 110, 120, 120, 120, 130, 130, 100, 130, 120, 120, 155, 110, 140, 130, 160, 140, 128, 160, 120, 140, 140, 140, 140, 135, 140, 120, 140, 140, 140, 140, 140, 140, 140, 130, 130, 130, 130, 140, 110, 160, 160, 130, 120, 120, 180, 180, 170, 130, 135, 125, 160, 120, 150, 120, 130, 110, 120, 160, 100, 130, 150, 120, 110, 130, 125, 106, 140, 130, 130, 150, 170, 110, 120, 140, 140, 130, 160, 120, 120, 120, 145, 120, 92, 120, 130, 130, 130, 120, 112, 140, 120, 120, 140, 160, 160, 145, 200, 160, 120, 160, 120, 120, 122, 130, 130, 135, 120, 125, 140, 145, 120, 130, 150, 150, 122, 140, 120, 120, 130, 140, 160, 130, 98, 130, 130, 120, 105, 140, 120, 180, 180, 135, 170, 180, 130, 120, 150, 130, 110, 140, 110, 140, 120, 133, 120, 110, 140, 130, 115, 95, 105, 145, 110, 110, 110, 160, 140, 125, 120, 95, 120, 115, 130, 115, 95, 155, 125, 125, 115, 80, 145, 105, 140, 130, 145, 125, 100, 105, 115, 100, 105, 110, 125, 95, 130, 115, 115, 100, 95, 130, 120, 160, 150, 140, 95, 100, 110, 110, 130, 120, 135, 120, 115, 137, 110, 120, 140, 120, 130, 120, 145, 115, 120, 115, 105, 160, 160, 155, 120, 120, 200, 150, 135, 140, 150, 135, 150, 185, 135, 125, 160, 155, 160, 140, 120, 160, 115, 115, 110, 120, 150, 145, 130, 140, 160, 140, 115, 130, 150, 160, 135, 140, 170, 165, 200, 160, 130, 145, 135, 110, 120, 140, 115, 110, 160, 150, 180, 125, 125, 130, 155, 140, 130, 132, 142, 110, 120, 150, 180, 120, 160, 126, 140, 110, 133, 128, 120, 170, 110, 126, 152, 116, 120, 130, 138, 128, 130, 128, 130, 120, 136, 130, 124, 160, 0, 122, 144, 140, 120, 136, 154, 120, 125, 134, 104, 139, 136, 122, 128, 131, 134, 120, 132, 152, 124, 126, 138, 154, 141, 131, 178, 132, 110, 130, 170, 126, 140, 142, 120, 134, 139, 110, 140, 140, 136, 120, 170, 130, 137, 142, 142, 132, 146, 160, 135, 136, 130, 140, 132, 158, 136, 136, 106, 120, 110, 136, 160, 123, 112, 122, 130, 150, 150, 102, 96, 130, 120, 144, 124, 150, 130, 144, 139, 131, 143, 133, 143, 116, 110, 125, 130, 133, 150, 130, 110, 138, 104, 138, 170, 140, 132, 132, 142, 112, 139, 172, 120, 144, 145, 155, 150, 160, 137, 137, 134, 133, 132, 140, 135, 144, 141, 150, 130, 110, 158, 128, 140, 150, 160, 142, 137, 139, 146, 156, 145, 131, 140, 122, 142, 141, 180, 124, 118, 140, 140, 136, 100, 190, 130, 160, 130, 122, 133, 120, 130, 130, 140, 120, 155, 134, 114, 160, 144, 158, 134, 127, 135, 122, 140, 120, 130, 115, 124, 128, 120, 120, 130, 110, 140, 150, 135, 142, 140, 134, 128, 112, 140, 140, 110, 140, 120, 130, 115, 112, 132, 130, 138, 120, 112, 110, 128, 160, 120, 170, 144, 130, 140, 160, 130, 122, 152, 124, 130, 101, 126, 140, 118, 110, 160, 150, 136, 128, 140, 140, 130, 105, 138, 120, 174, 120, 150, 130, 120, 150, 145, 150, 140, 136, 118, 108, 120, 120, 156, 140, 106, 142, 104, 94, 120, 120, 146, 120, 150, 130, 110, 148, 128, 178, 126, 150, 140, 130, 124, 110, 125, 110, 120, 100, 140, 120, 108, 120, 130, 165, 130, 124, 100, 150, 140, 112, 180, 110, 158, 135, 120, 134, 120, 200, 150, 130, 120, 122, 152, 160, 125, 160, 120, 136, 134, 117, 108, 112, 140, 120, 150, 142, 152, 125, 118, 132, 145, 138, 140, 125, 192, 123, 112, 110, 132, 112, 112, 120, 108, 130, 130, 105, 140, 128, 120, 178, 120, 150, 130, 128, 110, 180, 110, 130, 138, 138, 160, 140, 100, 120, 118, 138, 140, 150, 125, 129, 120, 134, 110, 102, 130, 130, 132, 108, 140, 160, 140, 145, 108, 126, 124, 135, 100, 110, 140, 125, 118, 125, 125, 140, 160, 152, 102, 105, 125, 130, 170, 125, 122, 128, 130, 130, 135, 94, 120, 120, 110, 135, 150, 130, 138, 135, 130, 132, 150, 118, 145, 118, 115, 128, 130, 160, 138, 120, 138, 120, 180, 140, 130, 140, 140, 130, 110, 155, 140, 145, 120, 130, 112, 110, 150, 160, 150, 132, 140, 150, 120, 130, 120, 130, 110, 172, 120, 140, 140, 160, 128, 138, 132, 128, 134, 170, 146, 138, 154, 130, 110, 130, 128, 122, 148, 114, 170, 125, 130, 120, 152, 132, 120, 140, 124, 120, 164, 140, 110, 144, 130, 130, 138], \"yaxis\": \"y2\"}, {\"marker\": {\"color\": [1, 2, 3, 4, 5, 6, 7, 8, 9, 10, 11, 12, 13, 14, 15, 16, 17, 18, 19, 20, 21, 22, 23, 24, 25, 26, 27, 28, 29, 30, 31, 32, 33, 34, 35, 36, 37, 38, 39, 40, 41, 42, 43, 44, 45, 46, 47, 48, 49, 50, 51, 52, 53, 54, 55, 56, 57, 58, 59, 60, 61, 62, 63, 64, 65, 66, 67, 68, 69, 70, 71, 72, 73, 74, 75, 76, 77, 78, 79, 80, 81, 82, 83, 84, 85, 86, 87, 88, 89, 90, 91, 92, 93, 94, 95, 96, 97, 98, 99, 100, 101, 102, 103, 104, 105, 106, 107, 108, 109, 110, 111, 112, 113, 114, 115, 116, 117, 118, 119, 120, 121, 122, 123, 124, 125, 126, 127, 128, 129, 130, 131, 132, 133, 134, 135, 136, 137, 138, 139, 140, 141, 142, 143, 144, 145, 146, 147, 148, 149, 150, 151, 152, 153, 154, 155, 156, 157, 158, 159, 160, 161, 162, 163, 164, 165, 166, 167, 168, 169, 170, 171, 172, 173, 174, 175, 176, 177, 178, 179, 180, 181, 182, 183, 184, 185, 186, 187, 188, 189, 190, 191, 192, 193, 194, 195, 196, 197, 198, 199, 200, 201, 202, 203, 204, 205, 206, 207, 208, 209, 210, 211, 212, 213, 214, 215, 216, 217, 218, 219, 220, 221, 222, 223, 224, 225, 226, 227, 228, 229, 230, 231, 232, 233, 234, 235, 236, 237, 238, 239, 240, 241, 242, 243, 244, 245, 246, 247, 248, 249, 250, 251, 252, 253, 254, 255, 256, 257, 258, 259, 260, 261, 262, 263, 264, 265, 266, 267, 268, 269, 270, 271, 272, 273, 274, 275, 276, 277, 278, 279, 280, 281, 282, 283, 284, 285, 286, 287, 288, 289, 290, 291, 292, 293, 294, 295, 296, 297, 298, 299, 300, 301, 302, 303, 304, 305, 306, 307, 308, 309, 310, 311, 312, 313, 314, 315, 316, 317, 318, 319, 320, 321, 322, 323, 324, 325, 326, 327, 328, 329, 330, 331, 332, 333, 334, 335, 336, 337, 338, 339, 340, 341, 342, 343, 344, 345, 346, 347, 348, 349, 350, 351, 352, 353, 354, 355, 356, 357, 358, 359, 360, 361, 362, 363, 364, 365, 366, 367, 368, 369, 370, 371, 372, 373, 374, 375, 376, 377, 378, 379, 380, 381, 382, 383, 384, 385, 386, 387, 388, 389, 390, 391, 392, 393, 394, 395, 396, 397, 398, 399, 400, 401, 402, 403, 404, 405, 406, 407, 408, 409, 410, 411, 412, 413, 414, 415, 416, 417, 418, 419, 420, 421, 422, 423, 424, 425, 426, 427, 428, 429, 430, 431, 432, 433, 434, 435, 436, 437, 438, 439, 440, 441, 442, 443, 444, 445, 446, 447, 448, 449, 450, 451, 452, 453, 454, 455, 456, 457, 458, 459, 460, 461, 462, 463, 464, 465, 466, 467, 468, 469, 470, 471, 472, 473, 474, 475, 476, 477, 478, 479, 480, 481, 482, 483, 484, 485, 486, 487, 488, 489, 490, 491, 492, 493, 494, 495, 496, 497, 498, 499, 500, 501, 502, 503, 504, 505, 506, 507, 508, 509, 510, 511, 512, 513, 514, 515, 516, 517, 518, 519, 520, 521, 522, 523, 524, 525, 526, 527, 528, 529, 530, 531, 532, 533, 534, 535, 536, 537, 538, 539, 540, 541, 542, 543, 544, 545, 546, 547, 548, 549, 550, 551, 552, 553, 554, 555, 556, 557, 558, 559, 560, 561, 562, 563, 564, 565, 566, 567, 568, 569, 570, 571, 572, 573, 574, 575, 576, 577, 578, 579, 580, 581, 582, 583, 584, 585, 586, 587, 588, 589, 590, 591, 592, 593, 594, 595, 596, 597, 598, 599, 600, 601, 602, 603, 604, 605, 606, 607, 608, 609, 610, 611, 612, 613, 614, 615, 616, 617, 618, 619, 620, 621, 622, 623, 624, 625, 626, 627, 628, 629, 630, 631, 632, 633, 634, 635, 636, 637, 638, 639, 640, 641, 642, 643, 644, 645, 646, 647, 648, 649, 650, 651, 652, 653, 654, 655, 656, 657, 658, 659, 660, 661, 662, 663, 664, 665, 666, 667, 668, 669, 670, 671, 672, 673, 674, 675, 676, 677, 678, 679, 680, 681, 682, 683, 684, 685, 686, 687, 688, 689, 690, 691, 692, 693, 694, 695, 696, 697, 698, 699, 700, 701, 702, 703, 704, 705, 706, 707, 708, 709, 710, 711, 712, 713, 714, 715, 716, 717, 718, 719, 720, 721, 722, 723, 724, 725, 726, 727, 728, 729, 730, 731, 732, 733, 734, 735, 736, 737, 738, 739, 740, 741, 742, 743, 744, 745, 746, 747, 748, 749, 750, 751, 752, 753, 754, 755, 756, 757, 758, 759, 760, 761, 762, 763, 764, 765, 766, 767, 768, 769, 770, 771, 772, 773, 774, 775, 776, 777, 778, 779, 780, 781, 782, 783, 784, 785, 786, 787, 788, 789, 790, 791, 792, 793, 794, 795, 796, 797, 798, 799, 800, 801, 802, 803, 804, 805, 806, 807, 808, 809, 810, 811, 812, 813, 814, 815, 816, 817, 818, 819, 820, 821, 822, 823, 824, 825, 826, 827, 828, 829, 830, 831, 832, 833, 834, 835, 836, 837, 838, 839, 840, 841, 842, 843, 844, 845, 846, 847, 848, 849, 850, 851, 852, 853, 854, 855, 856, 857, 858, 859, 860, 861, 862, 863, 864, 865, 866, 867, 868, 869, 870, 871, 872, 873, 874, 875, 876, 877, 878, 879, 880, 881, 882, 883, 884, 885, 886, 887, 888, 889, 890, 891, 892, 893, 894, 895, 896, 897, 898, 899, 900, 901, 902, 903, 904, 905, 906, 907, 908, 909, 910, 911, 912, 913, 914, 915, 916, 917, 918], \"colorscale\": [[0.0, \"rgb(0, 0, 255)\"], [1.0, \"rgb(255, 0, 0)\"]], \"showscale\": false, \"size\": 6}, \"mode\": \"markers\", \"showlegend\": false, \"type\": \"scatter\", \"x\": [172, 156, 98, 108, 122, 170, 170, 142, 130, 120, 142, 99, 145, 140, 137, 150, 166, 165, 125, 160, 142, 142, 164, 150, 138, 178, 112, 118, 127, 145, 130, 114, 122, 130, 154, 155, 87, 142, 148, 130, 130, 100, 168, 170, 120, 120, 168, 170, 184, 170, 121, 98, 122, 150, 140, 170, 153, 140, 134, 96, 174, 175, 144, 125, 145, 130, 144, 184, 82, 170, 145, 135, 150, 115, 128, 116, 130, 150, 138, 170, 160, 154, 115, 165, 125, 94, 112, 142, 155, 110, 160, 140, 148, 92, 180, 140, 138, 160, 140, 144, 115, 100, 130, 152, 124, 140, 110, 168, 135, 106, 124, 92, 125, 150, 135, 150, 170, 130, 185, 180, 170, 139, 140, 110, 150, 110, 190, 175, 140, 152, 130, 150, 122, 124, 120, 175, 175, 146, 118, 130, 94, 125, 158, 155, 150, 132, 155, 176, 160, 125, 120, 100, 150, 140, 160, 150, 150, 130, 100, 130, 119, 96, 174, 150, 140, 175, 140, 118, 100, 160, 160, 188, 162, 172, 134, 135, 105, 150, 150, 90, 120, 150, 124, 140, 130, 92, 110, 138, 110, 120, 120, 116, 160, 110, 180, 116, 132, 136, 116, 98, 150, 150, 146, 150, 100, 140, 180, 140, 185, 140, 110, 140, 128, 164, 98, 170, 150, 137, 150, 170, 112, 150, 125, 185, 137, 150, 140, 134, 170, 184, 158, 167, 129, 142, 140, 160, 118, 136, 99, 102, 155, 142, 143, 118, 103, 137, 150, 150, 130, 120, 135, 115, 115, 152, 96, 130, 150, 172, 120, 155, 165, 138, 115, 125, 145, 175, 110, 150, 91, 145, 140, 165, 130, 134, 180, 100, 150, 126, 126, 155, 135, 122, 160, 160, 170, 120, 140, 132, 156, 180, 138, 135, 148, 93, 127, 110, 139, 131, 92, 149, 149, 150, 120, 123, 126, 127, 155, 120, 138, 182, 154, 110, 176, 154, 141, 123, 148, 121, 77, 136, 175, 109, 166, 128, 133, 128, 138, 119, 82, 130, 143, 82, 179, 144, 170, 134, 114, 154, 149, 145, 122, 114, 113, 120, 104, 130, 115, 128, 104, 125, 120, 140, 100, 100, 92, 125, 113, 95, 128, 115, 72, 124, 99, 148, 97, 140, 117, 120, 120, 86, 63, 108, 98, 115, 105, 121, 118, 122, 157, 156, 99, 120, 145, 156, 155, 105, 99, 135, 83, 145, 60, 92, 115, 120, 98, 150, 143, 105, 122, 70, 110, 163, 67, 128, 120, 130, 100, 72, 94, 122, 78, 150, 103, 98, 110, 90, 112, 127, 140, 149, 99, 120, 105, 140, 141, 157, 140, 117, 120, 120, 148, 86, 84, 125, 120, 118, 124, 106, 111, 116, 180, 129, 125, 140, 120, 124, 117, 110, 105, 155, 110, 122, 118, 133, 123, 131, 80, 165, 86, 111, 118, 84, 117, 107, 128, 160, 125, 130, 97, 161, 106, 130, 140, 122, 130, 120, 139, 108, 148, 123, 110, 118, 125, 106, 112, 128, 180, 144, 135, 140, 102, 108, 145, 127, 110, 140, 69, 148, 130, 130, 140, 138, 140, 138, 112, 131, 112, 80, 150, 110, 126, 88, 153, 150, 120, 160, 132, 120, 110, 121, 128, 135, 120, 117, 150, 144, 113, 135, 127, 109, 128, 115, 102, 140, 135, 122, 119, 130, 112, 100, 122, 120, 105, 129, 120, 139, 162, 100, 140, 135, 73, 86, 108, 116, 160, 118, 112, 122, 124, 102, 137, 141, 154, 126, 160, 115, 128, 115, 105, 110, 119, 109, 135, 130, 112, 126, 120, 110, 119, 110, 130, 159, 84, 126, 116, 120, 122, 165, 122, 94, 133, 110, 150, 130, 113, 140, 100, 136, 127, 98, 96, 123, 98, 112, 151, 96, 108, 128, 138, 126, 154, 137, 100, 135, 93, 109, 160, 141, 105, 121, 140, 142, 142, 170, 154, 161, 111, 180, 145, 159, 125, 120, 155, 144, 178, 129, 180, 181, 143, 159, 139, 152, 157, 165, 130, 150, 138, 170, 140, 126, 150, 138, 125, 150, 186, 181, 163, 179, 156, 134, 165, 126, 177, 120, 114, 125, 184, 157, 179, 175, 168, 125, 96, 143, 103, 173, 142, 169, 171, 150, 112, 186, 152, 149, 152, 140, 163, 143, 116, 142, 147, 148, 179, 173, 178, 105, 130, 111, 168, 126, 178, 140, 145, 163, 128, 164, 169, 109, 108, 168, 118, 151, 156, 133, 162, 175, 71, 163, 124, 147, 166, 143, 157, 162, 138, 117, 153, 161, 170, 162, 162, 144, 133, 114, 103, 139, 116, 88, 151, 152, 163, 99, 169, 158, 160, 169, 132, 178, 96, 165, 160, 172, 144, 192, 168, 132, 182, 163, 125, 195, 95, 160, 114, 173, 172, 179, 158, 167, 122, 149, 172, 111, 170, 162, 165, 182, 154, 155, 130, 161, 154, 159, 152, 152, 174, 131, 146, 125, 115, 174, 106, 122, 147, 163, 163, 194, 150, 158, 122, 173, 162, 105, 147, 157, 112, 160, 125, 156, 156, 175, 161, 122, 158, 151, 162, 151, 171, 141, 173, 145, 178, 160, 154, 131, 187, 159, 166, 165, 131, 202, 172, 172, 154, 147, 170, 126, 127, 174, 132, 182, 132, 97, 136, 162, 190, 146, 140, 185, 161, 146, 145, 160, 120, 156, 172, 150, 182, 143, 160, 142, 144, 158, 148, 155, 142, 113, 188, 153, 123, 157, 162, 137, 132, 158, 171, 172, 132, 160, 171, 168, 162, 173, 153, 148, 108, 115, 169, 143, 156, 162, 155, 152, 152, 164, 131, 143, 179, 130, 174, 161, 140, 146, 144, 163, 169, 150, 166, 144, 144, 136, 182, 90, 123, 132, 141, 115, 174, 173], \"xaxis\": \"x3\", \"y\": [140, 160, 130, 138, 150, 120, 130, 110, 140, 120, 130, 136, 120, 140, 115, 120, 110, 120, 100, 120, 100, 120, 124, 150, 130, 130, 124, 120, 113, 125, 145, 130, 125, 130, 150, 125, 140, 110, 120, 150, 150, 130, 150, 140, 120, 130, 120, 140, 112, 110, 130, 120, 140, 130, 130, 160, 120, 130, 150, 112, 100, 150, 140, 120, 110, 120, 132, 110, 160, 150, 140, 130, 120, 120, 140, 150, 118, 140, 140, 130, 110, 120, 150, 160, 150, 140, 170, 140, 120, 140, 110, 130, 120, 160, 110, 130, 142, 160, 120, 125, 130, 130, 150, 120, 118, 140, 120, 150, 140, 190, 130, 150, 140, 140, 130, 100, 120, 130, 120, 140, 135, 125, 110, 180, 130, 120, 130, 108, 120, 120, 145, 110, 170, 150, 130, 115, 120, 120, 140, 150, 160, 140, 160, 140, 120, 110, 120, 120, 120, 130, 130, 100, 130, 120, 120, 155, 110, 140, 130, 160, 140, 128, 160, 120, 140, 140, 140, 140, 135, 140, 120, 140, 140, 140, 140, 140, 140, 140, 130, 130, 130, 130, 140, 110, 160, 160, 130, 120, 120, 180, 180, 170, 130, 135, 125, 160, 120, 150, 120, 130, 110, 120, 160, 100, 130, 150, 120, 110, 130, 125, 106, 140, 130, 130, 150, 170, 110, 120, 140, 140, 130, 160, 120, 120, 120, 145, 120, 92, 120, 130, 130, 130, 120, 112, 140, 120, 120, 140, 160, 160, 145, 200, 160, 120, 160, 120, 120, 122, 130, 130, 135, 120, 125, 140, 145, 120, 130, 150, 150, 122, 140, 120, 120, 130, 140, 160, 130, 98, 130, 130, 120, 105, 140, 120, 180, 180, 135, 170, 180, 130, 120, 150, 130, 110, 140, 110, 140, 120, 133, 120, 110, 140, 130, 115, 95, 105, 145, 110, 110, 110, 160, 140, 125, 120, 95, 120, 115, 130, 115, 95, 155, 125, 125, 115, 80, 145, 105, 140, 130, 145, 125, 100, 105, 115, 100, 105, 110, 125, 95, 130, 115, 115, 100, 95, 130, 120, 160, 150, 140, 95, 100, 110, 110, 130, 120, 135, 120, 115, 137, 110, 120, 140, 120, 130, 120, 145, 115, 120, 115, 105, 160, 160, 155, 120, 120, 200, 150, 135, 140, 150, 135, 150, 185, 135, 125, 160, 155, 160, 140, 120, 160, 115, 115, 110, 120, 150, 145, 130, 140, 160, 140, 115, 130, 150, 160, 135, 140, 170, 165, 200, 160, 130, 145, 135, 110, 120, 140, 115, 110, 160, 150, 180, 125, 125, 130, 155, 140, 130, 132, 142, 110, 120, 150, 180, 120, 160, 126, 140, 110, 133, 128, 120, 170, 110, 126, 152, 116, 120, 130, 138, 128, 130, 128, 130, 120, 136, 130, 124, 160, 0, 122, 144, 140, 120, 136, 154, 120, 125, 134, 104, 139, 136, 122, 128, 131, 134, 120, 132, 152, 124, 126, 138, 154, 141, 131, 178, 132, 110, 130, 170, 126, 140, 142, 120, 134, 139, 110, 140, 140, 136, 120, 170, 130, 137, 142, 142, 132, 146, 160, 135, 136, 130, 140, 132, 158, 136, 136, 106, 120, 110, 136, 160, 123, 112, 122, 130, 150, 150, 102, 96, 130, 120, 144, 124, 150, 130, 144, 139, 131, 143, 133, 143, 116, 110, 125, 130, 133, 150, 130, 110, 138, 104, 138, 170, 140, 132, 132, 142, 112, 139, 172, 120, 144, 145, 155, 150, 160, 137, 137, 134, 133, 132, 140, 135, 144, 141, 150, 130, 110, 158, 128, 140, 150, 160, 142, 137, 139, 146, 156, 145, 131, 140, 122, 142, 141, 180, 124, 118, 140, 140, 136, 100, 190, 130, 160, 130, 122, 133, 120, 130, 130, 140, 120, 155, 134, 114, 160, 144, 158, 134, 127, 135, 122, 140, 120, 130, 115, 124, 128, 120, 120, 130, 110, 140, 150, 135, 142, 140, 134, 128, 112, 140, 140, 110, 140, 120, 130, 115, 112, 132, 130, 138, 120, 112, 110, 128, 160, 120, 170, 144, 130, 140, 160, 130, 122, 152, 124, 130, 101, 126, 140, 118, 110, 160, 150, 136, 128, 140, 140, 130, 105, 138, 120, 174, 120, 150, 130, 120, 150, 145, 150, 140, 136, 118, 108, 120, 120, 156, 140, 106, 142, 104, 94, 120, 120, 146, 120, 150, 130, 110, 148, 128, 178, 126, 150, 140, 130, 124, 110, 125, 110, 120, 100, 140, 120, 108, 120, 130, 165, 130, 124, 100, 150, 140, 112, 180, 110, 158, 135, 120, 134, 120, 200, 150, 130, 120, 122, 152, 160, 125, 160, 120, 136, 134, 117, 108, 112, 140, 120, 150, 142, 152, 125, 118, 132, 145, 138, 140, 125, 192, 123, 112, 110, 132, 112, 112, 120, 108, 130, 130, 105, 140, 128, 120, 178, 120, 150, 130, 128, 110, 180, 110, 130, 138, 138, 160, 140, 100, 120, 118, 138, 140, 150, 125, 129, 120, 134, 110, 102, 130, 130, 132, 108, 140, 160, 140, 145, 108, 126, 124, 135, 100, 110, 140, 125, 118, 125, 125, 140, 160, 152, 102, 105, 125, 130, 170, 125, 122, 128, 130, 130, 135, 94, 120, 120, 110, 135, 150, 130, 138, 135, 130, 132, 150, 118, 145, 118, 115, 128, 130, 160, 138, 120, 138, 120, 180, 140, 130, 140, 140, 130, 110, 155, 140, 145, 120, 130, 112, 110, 150, 160, 150, 132, 140, 150, 120, 130, 120, 130, 110, 172, 120, 140, 140, 160, 128, 138, 132, 128, 134, 170, 146, 138, 154, 130, 110, 130, 128, 122, 148, 114, 170, 125, 130, 120, 152, 132, 120, 140, 124, 120, 164, 140, 110, 144, 130, 130, 138], \"yaxis\": \"y3\"}, {\"marker\": {\"color\": [1, 2, 3, 4, 5, 6, 7, 8, 9, 10, 11, 12, 13, 14, 15, 16, 17, 18, 19, 20, 21, 22, 23, 24, 25, 26, 27, 28, 29, 30, 31, 32, 33, 34, 35, 36, 37, 38, 39, 40, 41, 42, 43, 44, 45, 46, 47, 48, 49, 50, 51, 52, 53, 54, 55, 56, 57, 58, 59, 60, 61, 62, 63, 64, 65, 66, 67, 68, 69, 70, 71, 72, 73, 74, 75, 76, 77, 78, 79, 80, 81, 82, 83, 84, 85, 86, 87, 88, 89, 90, 91, 92, 93, 94, 95, 96, 97, 98, 99, 100, 101, 102, 103, 104, 105, 106, 107, 108, 109, 110, 111, 112, 113, 114, 115, 116, 117, 118, 119, 120, 121, 122, 123, 124, 125, 126, 127, 128, 129, 130, 131, 132, 133, 134, 135, 136, 137, 138, 139, 140, 141, 142, 143, 144, 145, 146, 147, 148, 149, 150, 151, 152, 153, 154, 155, 156, 157, 158, 159, 160, 161, 162, 163, 164, 165, 166, 167, 168, 169, 170, 171, 172, 173, 174, 175, 176, 177, 178, 179, 180, 181, 182, 183, 184, 185, 186, 187, 188, 189, 190, 191, 192, 193, 194, 195, 196, 197, 198, 199, 200, 201, 202, 203, 204, 205, 206, 207, 208, 209, 210, 211, 212, 213, 214, 215, 216, 217, 218, 219, 220, 221, 222, 223, 224, 225, 226, 227, 228, 229, 230, 231, 232, 233, 234, 235, 236, 237, 238, 239, 240, 241, 242, 243, 244, 245, 246, 247, 248, 249, 250, 251, 252, 253, 254, 255, 256, 257, 258, 259, 260, 261, 262, 263, 264, 265, 266, 267, 268, 269, 270, 271, 272, 273, 274, 275, 276, 277, 278, 279, 280, 281, 282, 283, 284, 285, 286, 287, 288, 289, 290, 291, 292, 293, 294, 295, 296, 297, 298, 299, 300, 301, 302, 303, 304, 305, 306, 307, 308, 309, 310, 311, 312, 313, 314, 315, 316, 317, 318, 319, 320, 321, 322, 323, 324, 325, 326, 327, 328, 329, 330, 331, 332, 333, 334, 335, 336, 337, 338, 339, 340, 341, 342, 343, 344, 345, 346, 347, 348, 349, 350, 351, 352, 353, 354, 355, 356, 357, 358, 359, 360, 361, 362, 363, 364, 365, 366, 367, 368, 369, 370, 371, 372, 373, 374, 375, 376, 377, 378, 379, 380, 381, 382, 383, 384, 385, 386, 387, 388, 389, 390, 391, 392, 393, 394, 395, 396, 397, 398, 399, 400, 401, 402, 403, 404, 405, 406, 407, 408, 409, 410, 411, 412, 413, 414, 415, 416, 417, 418, 419, 420, 421, 422, 423, 424, 425, 426, 427, 428, 429, 430, 431, 432, 433, 434, 435, 436, 437, 438, 439, 440, 441, 442, 443, 444, 445, 446, 447, 448, 449, 450, 451, 452, 453, 454, 455, 456, 457, 458, 459, 460, 461, 462, 463, 464, 465, 466, 467, 468, 469, 470, 471, 472, 473, 474, 475, 476, 477, 478, 479, 480, 481, 482, 483, 484, 485, 486, 487, 488, 489, 490, 491, 492, 493, 494, 495, 496, 497, 498, 499, 500, 501, 502, 503, 504, 505, 506, 507, 508, 509, 510, 511, 512, 513, 514, 515, 516, 517, 518, 519, 520, 521, 522, 523, 524, 525, 526, 527, 528, 529, 530, 531, 532, 533, 534, 535, 536, 537, 538, 539, 540, 541, 542, 543, 544, 545, 546, 547, 548, 549, 550, 551, 552, 553, 554, 555, 556, 557, 558, 559, 560, 561, 562, 563, 564, 565, 566, 567, 568, 569, 570, 571, 572, 573, 574, 575, 576, 577, 578, 579, 580, 581, 582, 583, 584, 585, 586, 587, 588, 589, 590, 591, 592, 593, 594, 595, 596, 597, 598, 599, 600, 601, 602, 603, 604, 605, 606, 607, 608, 609, 610, 611, 612, 613, 614, 615, 616, 617, 618, 619, 620, 621, 622, 623, 624, 625, 626, 627, 628, 629, 630, 631, 632, 633, 634, 635, 636, 637, 638, 639, 640, 641, 642, 643, 644, 645, 646, 647, 648, 649, 650, 651, 652, 653, 654, 655, 656, 657, 658, 659, 660, 661, 662, 663, 664, 665, 666, 667, 668, 669, 670, 671, 672, 673, 674, 675, 676, 677, 678, 679, 680, 681, 682, 683, 684, 685, 686, 687, 688, 689, 690, 691, 692, 693, 694, 695, 696, 697, 698, 699, 700, 701, 702, 703, 704, 705, 706, 707, 708, 709, 710, 711, 712, 713, 714, 715, 716, 717, 718, 719, 720, 721, 722, 723, 724, 725, 726, 727, 728, 729, 730, 731, 732, 733, 734, 735, 736, 737, 738, 739, 740, 741, 742, 743, 744, 745, 746, 747, 748, 749, 750, 751, 752, 753, 754, 755, 756, 757, 758, 759, 760, 761, 762, 763, 764, 765, 766, 767, 768, 769, 770, 771, 772, 773, 774, 775, 776, 777, 778, 779, 780, 781, 782, 783, 784, 785, 786, 787, 788, 789, 790, 791, 792, 793, 794, 795, 796, 797, 798, 799, 800, 801, 802, 803, 804, 805, 806, 807, 808, 809, 810, 811, 812, 813, 814, 815, 816, 817, 818, 819, 820, 821, 822, 823, 824, 825, 826, 827, 828, 829, 830, 831, 832, 833, 834, 835, 836, 837, 838, 839, 840, 841, 842, 843, 844, 845, 846, 847, 848, 849, 850, 851, 852, 853, 854, 855, 856, 857, 858, 859, 860, 861, 862, 863, 864, 865, 866, 867, 868, 869, 870, 871, 872, 873, 874, 875, 876, 877, 878, 879, 880, 881, 882, 883, 884, 885, 886, 887, 888, 889, 890, 891, 892, 893, 894, 895, 896, 897, 898, 899, 900, 901, 902, 903, 904, 905, 906, 907, 908, 909, 910, 911, 912, 913, 914, 915, 916, 917, 918], \"colorscale\": [[0.0, \"rgb(0, 0, 255)\"], [1.0, \"rgb(255, 0, 0)\"]], \"showscale\": false, \"size\": 6}, \"mode\": \"markers\", \"showlegend\": false, \"type\": \"scatter\", \"x\": [140, 160, 130, 138, 150, 120, 130, 110, 140, 120, 130, 136, 120, 140, 115, 120, 110, 120, 100, 120, 100, 120, 124, 150, 130, 130, 124, 120, 113, 125, 145, 130, 125, 130, 150, 125, 140, 110, 120, 150, 150, 130, 150, 140, 120, 130, 120, 140, 112, 110, 130, 120, 140, 130, 130, 160, 120, 130, 150, 112, 100, 150, 140, 120, 110, 120, 132, 110, 160, 150, 140, 130, 120, 120, 140, 150, 118, 140, 140, 130, 110, 120, 150, 160, 150, 140, 170, 140, 120, 140, 110, 130, 120, 160, 110, 130, 142, 160, 120, 125, 130, 130, 150, 120, 118, 140, 120, 150, 140, 190, 130, 150, 140, 140, 130, 100, 120, 130, 120, 140, 135, 125, 110, 180, 130, 120, 130, 108, 120, 120, 145, 110, 170, 150, 130, 115, 120, 120, 140, 150, 160, 140, 160, 140, 120, 110, 120, 120, 120, 130, 130, 100, 130, 120, 120, 155, 110, 140, 130, 160, 140, 128, 160, 120, 140, 140, 140, 140, 135, 140, 120, 140, 140, 140, 140, 140, 140, 140, 130, 130, 130, 130, 140, 110, 160, 160, 130, 120, 120, 180, 180, 170, 130, 135, 125, 160, 120, 150, 120, 130, 110, 120, 160, 100, 130, 150, 120, 110, 130, 125, 106, 140, 130, 130, 150, 170, 110, 120, 140, 140, 130, 160, 120, 120, 120, 145, 120, 92, 120, 130, 130, 130, 120, 112, 140, 120, 120, 140, 160, 160, 145, 200, 160, 120, 160, 120, 120, 122, 130, 130, 135, 120, 125, 140, 145, 120, 130, 150, 150, 122, 140, 120, 120, 130, 140, 160, 130, 98, 130, 130, 120, 105, 140, 120, 180, 180, 135, 170, 180, 130, 120, 150, 130, 110, 140, 110, 140, 120, 133, 120, 110, 140, 130, 115, 95, 105, 145, 110, 110, 110, 160, 140, 125, 120, 95, 120, 115, 130, 115, 95, 155, 125, 125, 115, 80, 145, 105, 140, 130, 145, 125, 100, 105, 115, 100, 105, 110, 125, 95, 130, 115, 115, 100, 95, 130, 120, 160, 150, 140, 95, 100, 110, 110, 130, 120, 135, 120, 115, 137, 110, 120, 140, 120, 130, 120, 145, 115, 120, 115, 105, 160, 160, 155, 120, 120, 200, 150, 135, 140, 150, 135, 150, 185, 135, 125, 160, 155, 160, 140, 120, 160, 115, 115, 110, 120, 150, 145, 130, 140, 160, 140, 115, 130, 150, 160, 135, 140, 170, 165, 200, 160, 130, 145, 135, 110, 120, 140, 115, 110, 160, 150, 180, 125, 125, 130, 155, 140, 130, 132, 142, 110, 120, 150, 180, 120, 160, 126, 140, 110, 133, 128, 120, 170, 110, 126, 152, 116, 120, 130, 138, 128, 130, 128, 130, 120, 136, 130, 124, 160, 0, 122, 144, 140, 120, 136, 154, 120, 125, 134, 104, 139, 136, 122, 128, 131, 134, 120, 132, 152, 124, 126, 138, 154, 141, 131, 178, 132, 110, 130, 170, 126, 140, 142, 120, 134, 139, 110, 140, 140, 136, 120, 170, 130, 137, 142, 142, 132, 146, 160, 135, 136, 130, 140, 132, 158, 136, 136, 106, 120, 110, 136, 160, 123, 112, 122, 130, 150, 150, 102, 96, 130, 120, 144, 124, 150, 130, 144, 139, 131, 143, 133, 143, 116, 110, 125, 130, 133, 150, 130, 110, 138, 104, 138, 170, 140, 132, 132, 142, 112, 139, 172, 120, 144, 145, 155, 150, 160, 137, 137, 134, 133, 132, 140, 135, 144, 141, 150, 130, 110, 158, 128, 140, 150, 160, 142, 137, 139, 146, 156, 145, 131, 140, 122, 142, 141, 180, 124, 118, 140, 140, 136, 100, 190, 130, 160, 130, 122, 133, 120, 130, 130, 140, 120, 155, 134, 114, 160, 144, 158, 134, 127, 135, 122, 140, 120, 130, 115, 124, 128, 120, 120, 130, 110, 140, 150, 135, 142, 140, 134, 128, 112, 140, 140, 110, 140, 120, 130, 115, 112, 132, 130, 138, 120, 112, 110, 128, 160, 120, 170, 144, 130, 140, 160, 130, 122, 152, 124, 130, 101, 126, 140, 118, 110, 160, 150, 136, 128, 140, 140, 130, 105, 138, 120, 174, 120, 150, 130, 120, 150, 145, 150, 140, 136, 118, 108, 120, 120, 156, 140, 106, 142, 104, 94, 120, 120, 146, 120, 150, 130, 110, 148, 128, 178, 126, 150, 140, 130, 124, 110, 125, 110, 120, 100, 140, 120, 108, 120, 130, 165, 130, 124, 100, 150, 140, 112, 180, 110, 158, 135, 120, 134, 120, 200, 150, 130, 120, 122, 152, 160, 125, 160, 120, 136, 134, 117, 108, 112, 140, 120, 150, 142, 152, 125, 118, 132, 145, 138, 140, 125, 192, 123, 112, 110, 132, 112, 112, 120, 108, 130, 130, 105, 140, 128, 120, 178, 120, 150, 130, 128, 110, 180, 110, 130, 138, 138, 160, 140, 100, 120, 118, 138, 140, 150, 125, 129, 120, 134, 110, 102, 130, 130, 132, 108, 140, 160, 140, 145, 108, 126, 124, 135, 100, 110, 140, 125, 118, 125, 125, 140, 160, 152, 102, 105, 125, 130, 170, 125, 122, 128, 130, 130, 135, 94, 120, 120, 110, 135, 150, 130, 138, 135, 130, 132, 150, 118, 145, 118, 115, 128, 130, 160, 138, 120, 138, 120, 180, 140, 130, 140, 140, 130, 110, 155, 140, 145, 120, 130, 112, 110, 150, 160, 150, 132, 140, 150, 120, 130, 120, 130, 110, 172, 120, 140, 140, 160, 128, 138, 132, 128, 134, 170, 146, 138, 154, 130, 110, 130, 128, 122, 148, 114, 170, 125, 130, 120, 152, 132, 120, 140, 124, 120, 164, 140, 110, 144, 130, 130, 138], \"xaxis\": \"x4\", \"y\": [289, 180, 283, 214, 195, 339, 237, 208, 207, 284, 211, 164, 204, 234, 211, 273, 196, 201, 248, 267, 223, 184, 201, 288, 215, 209, 260, 284, 468, 188, 518, 167, 224, 172, 186, 254, 306, 250, 177, 227, 230, 294, 264, 259, 175, 318, 223, 216, 340, 289, 233, 205, 224, 245, 180, 194, 270, 213, 365, 342, 253, 254, 224, 277, 202, 260, 297, 225, 246, 412, 265, 215, 182, 218, 268, 163, 529, 167, 100, 206, 277, 238, 223, 196, 213, 139, 263, 216, 291, 229, 208, 307, 210, 329, 182, 263, 207, 147, 85, 269, 275, 179, 392, 466, 186, 260, 254, 214, 129, 241, 188, 255, 276, 297, 207, 246, 282, 338, 160, 156, 248, 272, 240, 393, 230, 246, 161, 163, 230, 228, 292, 202, 388, 230, 294, 265, 215, 241, 166, 247, 331, 341, 291, 243, 279, 273, 198, 249, 168, 603, 215, 159, 275, 270, 291, 342, 190, 185, 290, 195, 264, 212, 263, 196, 225, 272, 231, 238, 222, 179, 243, 235, 320, 187, 266, 288, 216, 287, 194, 238, 225, 224, 404, 238, 312, 211, 251, 237, 328, 285, 280, 209, 245, 192, 184, 193, 297, 268, 246, 308, 249, 230, 147, 219, 184, 215, 308, 257, 132, 216, 263, 288, 276, 219, 226, 237, 280, 217, 196, 263, 222, 303, 195, 298, 256, 264, 195, 117, 295, 173, 315, 281, 275, 250, 309, 200, 336, 295, 355, 193, 326, 198, 292, 266, 268, 171, 237, 275, 219, 341, 491, 260, 292, 271, 248, 274, 394, 160, 200, 320, 275, 221, 231, 126, 193, 305, 298, 220, 242, 235, 225, 198, 201, 220, 295, 213, 160, 223, 347, 253, 246, 222, 220, 344, 358, 190, 169, 181, 308, 166, 211, 257, 182, 0, 0, 0, 0, 0, 0, 0, 0, 0, 0, 0, 0, 0, 0, 0, 0, 0, 0, 0, 0, 0, 0, 0, 0, 0, 0, 0, 0, 0, 0, 0, 0, 0, 0, 0, 0, 0, 0, 0, 0, 0, 0, 0, 0, 0, 0, 0, 0, 0, 0, 0, 0, 0, 0, 0, 0, 0, 0, 0, 0, 0, 0, 0, 0, 0, 0, 0, 0, 0, 0, 0, 0, 0, 0, 0, 0, 0, 0, 0, 0, 0, 0, 0, 0, 0, 0, 0, 0, 0, 0, 0, 0, 0, 0, 0, 0, 0, 0, 0, 0, 0, 0, 0, 0, 0, 0, 0, 0, 0, 0, 0, 0, 0, 0, 0, 0, 0, 0, 0, 0, 0, 0, 0, 260, 209, 218, 228, 213, 0, 236, 0, 0, 267, 166, 0, 0, 0, 0, 220, 177, 236, 0, 0, 0, 0, 0, 0, 0, 0, 0, 186, 100, 228, 0, 171, 230, 0, 0, 0, 281, 0, 203, 0, 0, 0, 0, 0, 277, 0, 233, 0, 0, 240, 0, 0, 153, 224, 0, 0, 0, 316, 0, 0, 218, 0, 311, 0, 0, 0, 270, 0, 0, 217, 214, 214, 252, 220, 214, 203, 0, 339, 216, 276, 458, 241, 384, 297, 248, 308, 208, 227, 210, 245, 225, 240, 0, 198, 195, 267, 161, 258, 0, 0, 195, 235, 0, 305, 223, 282, 349, 160, 160, 236, 312, 283, 142, 211, 218, 306, 186, 252, 222, 0, 0, 258, 202, 197, 204, 113, 274, 192, 298, 272, 220, 200, 261, 181, 260, 220, 221, 216, 175, 219, 310, 208, 232, 273, 203, 182, 274, 204, 270, 292, 171, 221, 289, 217, 223, 110, 193, 123, 210, 282, 170, 369, 173, 289, 152, 208, 216, 271, 244, 285, 243, 240, 219, 237, 165, 213, 287, 258, 256, 186, 264, 185, 226, 203, 207, 284, 337, 310, 254, 258, 254, 300, 170, 310, 333, 139, 223, 385, 254, 322, 564, 261, 263, 269, 177, 256, 239, 293, 407, 234, 226, 235, 234, 303, 149, 311, 203, 211, 199, 229, 245, 303, 204, 288, 275, 243, 295, 230, 265, 229, 228, 215, 326, 200, 256, 207, 273, 180, 222, 223, 209, 233, 197, 218, 211, 149, 197, 246, 225, 315, 205, 417, 195, 234, 198, 166, 178, 249, 281, 126, 305, 226, 240, 233, 276, 261, 319, 242, 243, 260, 354, 245, 197, 223, 309, 208, 199, 209, 236, 218, 198, 270, 214, 201, 244, 208, 270, 306, 243, 221, 330, 266, 206, 212, 275, 302, 234, 313, 244, 141, 237, 269, 289, 254, 274, 222, 258, 177, 160, 327, 235, 305, 304, 295, 271, 249, 288, 226, 283, 188, 286, 274, 360, 273, 201, 267, 196, 201, 230, 269, 212, 226, 246, 232, 177, 277, 249, 210, 207, 212, 271, 233, 213, 283, 282, 230, 167, 224, 268, 250, 219, 267, 303, 256, 204, 217, 308, 193, 228, 231, 244, 262, 259, 211, 325, 254, 197, 236, 282, 234, 254, 299, 211, 182, 294, 298, 231, 254, 196, 240, 409, 172, 265, 246, 315, 184, 233, 394, 269, 239, 174, 309, 282, 255, 250, 248, 214, 239, 304, 277, 300, 258, 299, 289, 298, 318, 240, 309, 250, 288, 245, 213, 216, 204, 204, 252, 227, 258, 220, 239, 254, 168, 330, 183, 203, 263, 341, 283, 186, 307, 219, 260, 255, 231, 164, 234, 177, 257, 325, 274, 321, 264, 268, 308, 253, 248, 269, 185, 282, 188, 219, 290, 175, 212, 302, 243, 353, 335, 247, 340, 206, 284, 266, 229, 199, 263, 294, 192, 286, 216, 223, 247, 204, 204, 227, 278, 220, 232, 197, 335, 253, 205, 192, 203, 318, 225, 220, 221, 240, 212, 342, 169, 187, 197, 157, 176, 241, 264, 193, 131, 236, 175], \"yaxis\": \"y4\"}, {\"marker\": {\"color\": \"rgb(0, 0, 255)\"}, \"showlegend\": false, \"type\": \"box\", \"xaxis\": \"x5\", \"y\": [289, 180, 283, 214, 195, 339, 237, 208, 207, 284, 211, 164, 204, 234, 211, 273, 196, 201, 248, 267, 223, 184, 201, 288, 215, 209, 260, 284, 468, 188, 518, 167, 224, 172, 186, 254, 306, 250, 177, 227, 230, 294, 264, 259, 175, 318, 223, 216, 340, 289, 233, 205, 224, 245, 180, 194, 270, 213, 365, 342, 253, 254, 224, 277, 202, 260, 297, 225, 246, 412, 265, 215, 182, 218, 268, 163, 529, 167, 100, 206, 277, 238, 223, 196, 213, 139, 263, 216, 291, 229, 208, 307, 210, 329, 182, 263, 207, 147, 85, 269, 275, 179, 392, 466, 186, 260, 254, 214, 129, 241, 188, 255, 276, 297, 207, 246, 282, 338, 160, 156, 248, 272, 240, 393, 230, 246, 161, 163, 230, 228, 292, 202, 388, 230, 294, 265, 215, 241, 166, 247, 331, 341, 291, 243, 279, 273, 198, 249, 168, 603, 215, 159, 275, 270, 291, 342, 190, 185, 290, 195, 264, 212, 263, 196, 225, 272, 231, 238, 222, 179, 243, 235, 320, 187, 266, 288, 216, 287, 194, 238, 225, 224, 404, 238, 312, 211, 251, 237, 328, 285, 280, 209, 245, 192, 184, 193, 297, 268, 246, 308, 249, 230, 147, 219, 184, 215, 308, 257, 132, 216, 263, 288, 276, 219, 226, 237, 280, 217, 196, 263, 222, 303, 195, 298, 256, 264, 195, 117, 295, 173, 315, 281, 275, 250, 309, 200, 336, 295, 355, 193, 326, 198, 292, 266, 268, 171, 237, 275, 219, 341, 491, 260, 292, 271, 248, 274, 394, 160, 200, 320, 275, 221, 231, 126, 193, 305, 298, 220, 242, 235, 225, 198, 201, 220, 295, 213, 160, 223, 347, 253, 246, 222, 220, 344, 358, 190, 169, 181, 308, 166, 211, 257, 182, 0, 0, 0, 0, 0, 0, 0, 0, 0, 0, 0, 0, 0, 0, 0, 0, 0, 0, 0, 0, 0, 0, 0, 0, 0, 0, 0, 0, 0, 0, 0, 0, 0, 0, 0, 0, 0, 0, 0, 0, 0, 0, 0, 0, 0, 0, 0, 0, 0, 0, 0, 0, 0, 0, 0, 0, 0, 0, 0, 0, 0, 0, 0, 0, 0, 0, 0, 0, 0, 0, 0, 0, 0, 0, 0, 0, 0, 0, 0, 0, 0, 0, 0, 0, 0, 0, 0, 0, 0, 0, 0, 0, 0, 0, 0, 0, 0, 0, 0, 0, 0, 0, 0, 0, 0, 0, 0, 0, 0, 0, 0, 0, 0, 0, 0, 0, 0, 0, 0, 0, 0, 0, 0, 260, 209, 218, 228, 213, 0, 236, 0, 0, 267, 166, 0, 0, 0, 0, 220, 177, 236, 0, 0, 0, 0, 0, 0, 0, 0, 0, 186, 100, 228, 0, 171, 230, 0, 0, 0, 281, 0, 203, 0, 0, 0, 0, 0, 277, 0, 233, 0, 0, 240, 0, 0, 153, 224, 0, 0, 0, 316, 0, 0, 218, 0, 311, 0, 0, 0, 270, 0, 0, 217, 214, 214, 252, 220, 214, 203, 0, 339, 216, 276, 458, 241, 384, 297, 248, 308, 208, 227, 210, 245, 225, 240, 0, 198, 195, 267, 161, 258, 0, 0, 195, 235, 0, 305, 223, 282, 349, 160, 160, 236, 312, 283, 142, 211, 218, 306, 186, 252, 222, 0, 0, 258, 202, 197, 204, 113, 274, 192, 298, 272, 220, 200, 261, 181, 260, 220, 221, 216, 175, 219, 310, 208, 232, 273, 203, 182, 274, 204, 270, 292, 171, 221, 289, 217, 223, 110, 193, 123, 210, 282, 170, 369, 173, 289, 152, 208, 216, 271, 244, 285, 243, 240, 219, 237, 165, 213, 287, 258, 256, 186, 264, 185, 226, 203, 207, 284, 337, 310, 254, 258, 254, 300, 170, 310, 333, 139, 223, 385, 254, 322, 564, 261, 263, 269, 177, 256, 239, 293, 407, 234, 226, 235, 234, 303, 149, 311, 203, 211, 199, 229, 245, 303, 204, 288, 275, 243, 295, 230, 265, 229, 228, 215, 326, 200, 256, 207, 273, 180, 222, 223, 209, 233, 197, 218, 211, 149, 197, 246, 225, 315, 205, 417, 195, 234, 198, 166, 178, 249, 281, 126, 305, 226, 240, 233, 276, 261, 319, 242, 243, 260, 354, 245, 197, 223, 309, 208, 199, 209, 236, 218, 198, 270, 214, 201, 244, 208, 270, 306, 243, 221, 330, 266, 206, 212, 275, 302, 234, 313, 244, 141, 237, 269, 289, 254, 274, 222, 258, 177, 160, 327, 235, 305, 304, 295, 271, 249, 288, 226, 283, 188, 286, 274, 360, 273, 201, 267, 196, 201, 230, 269, 212, 226, 246, 232, 177, 277, 249, 210, 207, 212, 271, 233, 213, 283, 282, 230, 167, 224, 268, 250, 219, 267, 303, 256, 204, 217, 308, 193, 228, 231, 244, 262, 259, 211, 325, 254, 197, 236, 282, 234, 254, 299, 211, 182, 294, 298, 231, 254, 196, 240, 409, 172, 265, 246, 315, 184, 233, 394, 269, 239, 174, 309, 282, 255, 250, 248, 214, 239, 304, 277, 300, 258, 299, 289, 298, 318, 240, 309, 250, 288, 245, 213, 216, 204, 204, 252, 227, 258, 220, 239, 254, 168, 330, 183, 203, 263, 341, 283, 186, 307, 219, 260, 255, 231, 164, 234, 177, 257, 325, 274, 321, 264, 268, 308, 253, 248, 269, 185, 282, 188, 219, 290, 175, 212, 302, 243, 353, 335, 247, 340, 206, 284, 266, 229, 199, 263, 294, 192, 286, 216, 223, 247, 204, 204, 227, 278, 220, 232, 197, 335, 253, 205, 192, 203, 318, 225, 220, 221, 240, 212, 342, 169, 187, 197, 157, 176, 241, 264, 193, 131, 236, 175], \"yaxis\": \"y5\"}, {\"marker\": {\"color\": [1, 2, 3, 4, 5, 6, 7, 8, 9, 10, 11, 12, 13, 14, 15, 16, 17, 18, 19, 20, 21, 22, 23, 24, 25, 26, 27, 28, 29, 30, 31, 32, 33, 34, 35, 36, 37, 38, 39, 40, 41, 42, 43, 44, 45, 46, 47, 48, 49, 50, 51, 52, 53, 54, 55, 56, 57, 58, 59, 60, 61, 62, 63, 64, 65, 66, 67, 68, 69, 70, 71, 72, 73, 74, 75, 76, 77, 78, 79, 80, 81, 82, 83, 84, 85, 86, 87, 88, 89, 90, 91, 92, 93, 94, 95, 96, 97, 98, 99, 100, 101, 102, 103, 104, 105, 106, 107, 108, 109, 110, 111, 112, 113, 114, 115, 116, 117, 118, 119, 120, 121, 122, 123, 124, 125, 126, 127, 128, 129, 130, 131, 132, 133, 134, 135, 136, 137, 138, 139, 140, 141, 142, 143, 144, 145, 146, 147, 148, 149, 150, 151, 152, 153, 154, 155, 156, 157, 158, 159, 160, 161, 162, 163, 164, 165, 166, 167, 168, 169, 170, 171, 172, 173, 174, 175, 176, 177, 178, 179, 180, 181, 182, 183, 184, 185, 186, 187, 188, 189, 190, 191, 192, 193, 194, 195, 196, 197, 198, 199, 200, 201, 202, 203, 204, 205, 206, 207, 208, 209, 210, 211, 212, 213, 214, 215, 216, 217, 218, 219, 220, 221, 222, 223, 224, 225, 226, 227, 228, 229, 230, 231, 232, 233, 234, 235, 236, 237, 238, 239, 240, 241, 242, 243, 244, 245, 246, 247, 248, 249, 250, 251, 252, 253, 254, 255, 256, 257, 258, 259, 260, 261, 262, 263, 264, 265, 266, 267, 268, 269, 270, 271, 272, 273, 274, 275, 276, 277, 278, 279, 280, 281, 282, 283, 284, 285, 286, 287, 288, 289, 290, 291, 292, 293, 294, 295, 296, 297, 298, 299, 300, 301, 302, 303, 304, 305, 306, 307, 308, 309, 310, 311, 312, 313, 314, 315, 316, 317, 318, 319, 320, 321, 322, 323, 324, 325, 326, 327, 328, 329, 330, 331, 332, 333, 334, 335, 336, 337, 338, 339, 340, 341, 342, 343, 344, 345, 346, 347, 348, 349, 350, 351, 352, 353, 354, 355, 356, 357, 358, 359, 360, 361, 362, 363, 364, 365, 366, 367, 368, 369, 370, 371, 372, 373, 374, 375, 376, 377, 378, 379, 380, 381, 382, 383, 384, 385, 386, 387, 388, 389, 390, 391, 392, 393, 394, 395, 396, 397, 398, 399, 400, 401, 402, 403, 404, 405, 406, 407, 408, 409, 410, 411, 412, 413, 414, 415, 416, 417, 418, 419, 420, 421, 422, 423, 424, 425, 426, 427, 428, 429, 430, 431, 432, 433, 434, 435, 436, 437, 438, 439, 440, 441, 442, 443, 444, 445, 446, 447, 448, 449, 450, 451, 452, 453, 454, 455, 456, 457, 458, 459, 460, 461, 462, 463, 464, 465, 466, 467, 468, 469, 470, 471, 472, 473, 474, 475, 476, 477, 478, 479, 480, 481, 482, 483, 484, 485, 486, 487, 488, 489, 490, 491, 492, 493, 494, 495, 496, 497, 498, 499, 500, 501, 502, 503, 504, 505, 506, 507, 508, 509, 510, 511, 512, 513, 514, 515, 516, 517, 518, 519, 520, 521, 522, 523, 524, 525, 526, 527, 528, 529, 530, 531, 532, 533, 534, 535, 536, 537, 538, 539, 540, 541, 542, 543, 544, 545, 546, 547, 548, 549, 550, 551, 552, 553, 554, 555, 556, 557, 558, 559, 560, 561, 562, 563, 564, 565, 566, 567, 568, 569, 570, 571, 572, 573, 574, 575, 576, 577, 578, 579, 580, 581, 582, 583, 584, 585, 586, 587, 588, 589, 590, 591, 592, 593, 594, 595, 596, 597, 598, 599, 600, 601, 602, 603, 604, 605, 606, 607, 608, 609, 610, 611, 612, 613, 614, 615, 616, 617, 618, 619, 620, 621, 622, 623, 624, 625, 626, 627, 628, 629, 630, 631, 632, 633, 634, 635, 636, 637, 638, 639, 640, 641, 642, 643, 644, 645, 646, 647, 648, 649, 650, 651, 652, 653, 654, 655, 656, 657, 658, 659, 660, 661, 662, 663, 664, 665, 666, 667, 668, 669, 670, 671, 672, 673, 674, 675, 676, 677, 678, 679, 680, 681, 682, 683, 684, 685, 686, 687, 688, 689, 690, 691, 692, 693, 694, 695, 696, 697, 698, 699, 700, 701, 702, 703, 704, 705, 706, 707, 708, 709, 710, 711, 712, 713, 714, 715, 716, 717, 718, 719, 720, 721, 722, 723, 724, 725, 726, 727, 728, 729, 730, 731, 732, 733, 734, 735, 736, 737, 738, 739, 740, 741, 742, 743, 744, 745, 746, 747, 748, 749, 750, 751, 752, 753, 754, 755, 756, 757, 758, 759, 760, 761, 762, 763, 764, 765, 766, 767, 768, 769, 770, 771, 772, 773, 774, 775, 776, 777, 778, 779, 780, 781, 782, 783, 784, 785, 786, 787, 788, 789, 790, 791, 792, 793, 794, 795, 796, 797, 798, 799, 800, 801, 802, 803, 804, 805, 806, 807, 808, 809, 810, 811, 812, 813, 814, 815, 816, 817, 818, 819, 820, 821, 822, 823, 824, 825, 826, 827, 828, 829, 830, 831, 832, 833, 834, 835, 836, 837, 838, 839, 840, 841, 842, 843, 844, 845, 846, 847, 848, 849, 850, 851, 852, 853, 854, 855, 856, 857, 858, 859, 860, 861, 862, 863, 864, 865, 866, 867, 868, 869, 870, 871, 872, 873, 874, 875, 876, 877, 878, 879, 880, 881, 882, 883, 884, 885, 886, 887, 888, 889, 890, 891, 892, 893, 894, 895, 896, 897, 898, 899, 900, 901, 902, 903, 904, 905, 906, 907, 908, 909, 910, 911, 912, 913, 914, 915, 916, 917, 918], \"colorscale\": [[0.0, \"rgb(0, 0, 255)\"], [1.0, \"rgb(255, 0, 0)\"]], \"showscale\": false, \"size\": 6}, \"mode\": \"markers\", \"showlegend\": false, \"type\": \"scatter\", \"x\": [172, 156, 98, 108, 122, 170, 170, 142, 130, 120, 142, 99, 145, 140, 137, 150, 166, 165, 125, 160, 142, 142, 164, 150, 138, 178, 112, 118, 127, 145, 130, 114, 122, 130, 154, 155, 87, 142, 148, 130, 130, 100, 168, 170, 120, 120, 168, 170, 184, 170, 121, 98, 122, 150, 140, 170, 153, 140, 134, 96, 174, 175, 144, 125, 145, 130, 144, 184, 82, 170, 145, 135, 150, 115, 128, 116, 130, 150, 138, 170, 160, 154, 115, 165, 125, 94, 112, 142, 155, 110, 160, 140, 148, 92, 180, 140, 138, 160, 140, 144, 115, 100, 130, 152, 124, 140, 110, 168, 135, 106, 124, 92, 125, 150, 135, 150, 170, 130, 185, 180, 170, 139, 140, 110, 150, 110, 190, 175, 140, 152, 130, 150, 122, 124, 120, 175, 175, 146, 118, 130, 94, 125, 158, 155, 150, 132, 155, 176, 160, 125, 120, 100, 150, 140, 160, 150, 150, 130, 100, 130, 119, 96, 174, 150, 140, 175, 140, 118, 100, 160, 160, 188, 162, 172, 134, 135, 105, 150, 150, 90, 120, 150, 124, 140, 130, 92, 110, 138, 110, 120, 120, 116, 160, 110, 180, 116, 132, 136, 116, 98, 150, 150, 146, 150, 100, 140, 180, 140, 185, 140, 110, 140, 128, 164, 98, 170, 150, 137, 150, 170, 112, 150, 125, 185, 137, 150, 140, 134, 170, 184, 158, 167, 129, 142, 140, 160, 118, 136, 99, 102, 155, 142, 143, 118, 103, 137, 150, 150, 130, 120, 135, 115, 115, 152, 96, 130, 150, 172, 120, 155, 165, 138, 115, 125, 145, 175, 110, 150, 91, 145, 140, 165, 130, 134, 180, 100, 150, 126, 126, 155, 135, 122, 160, 160, 170, 120, 140, 132, 156, 180, 138, 135, 148, 93, 127, 110, 139, 131, 92, 149, 149, 150, 120, 123, 126, 127, 155, 120, 138, 182, 154, 110, 176, 154, 141, 123, 148, 121, 77, 136, 175, 109, 166, 128, 133, 128, 138, 119, 82, 130, 143, 82, 179, 144, 170, 134, 114, 154, 149, 145, 122, 114, 113, 120, 104, 130, 115, 128, 104, 125, 120, 140, 100, 100, 92, 125, 113, 95, 128, 115, 72, 124, 99, 148, 97, 140, 117, 120, 120, 86, 63, 108, 98, 115, 105, 121, 118, 122, 157, 156, 99, 120, 145, 156, 155, 105, 99, 135, 83, 145, 60, 92, 115, 120, 98, 150, 143, 105, 122, 70, 110, 163, 67, 128, 120, 130, 100, 72, 94, 122, 78, 150, 103, 98, 110, 90, 112, 127, 140, 149, 99, 120, 105, 140, 141, 157, 140, 117, 120, 120, 148, 86, 84, 125, 120, 118, 124, 106, 111, 116, 180, 129, 125, 140, 120, 124, 117, 110, 105, 155, 110, 122, 118, 133, 123, 131, 80, 165, 86, 111, 118, 84, 117, 107, 128, 160, 125, 130, 97, 161, 106, 130, 140, 122, 130, 120, 139, 108, 148, 123, 110, 118, 125, 106, 112, 128, 180, 144, 135, 140, 102, 108, 145, 127, 110, 140, 69, 148, 130, 130, 140, 138, 140, 138, 112, 131, 112, 80, 150, 110, 126, 88, 153, 150, 120, 160, 132, 120, 110, 121, 128, 135, 120, 117, 150, 144, 113, 135, 127, 109, 128, 115, 102, 140, 135, 122, 119, 130, 112, 100, 122, 120, 105, 129, 120, 139, 162, 100, 140, 135, 73, 86, 108, 116, 160, 118, 112, 122, 124, 102, 137, 141, 154, 126, 160, 115, 128, 115, 105, 110, 119, 109, 135, 130, 112, 126, 120, 110, 119, 110, 130, 159, 84, 126, 116, 120, 122, 165, 122, 94, 133, 110, 150, 130, 113, 140, 100, 136, 127, 98, 96, 123, 98, 112, 151, 96, 108, 128, 138, 126, 154, 137, 100, 135, 93, 109, 160, 141, 105, 121, 140, 142, 142, 170, 154, 161, 111, 180, 145, 159, 125, 120, 155, 144, 178, 129, 180, 181, 143, 159, 139, 152, 157, 165, 130, 150, 138, 170, 140, 126, 150, 138, 125, 150, 186, 181, 163, 179, 156, 134, 165, 126, 177, 120, 114, 125, 184, 157, 179, 175, 168, 125, 96, 143, 103, 173, 142, 169, 171, 150, 112, 186, 152, 149, 152, 140, 163, 143, 116, 142, 147, 148, 179, 173, 178, 105, 130, 111, 168, 126, 178, 140, 145, 163, 128, 164, 169, 109, 108, 168, 118, 151, 156, 133, 162, 175, 71, 163, 124, 147, 166, 143, 157, 162, 138, 117, 153, 161, 170, 162, 162, 144, 133, 114, 103, 139, 116, 88, 151, 152, 163, 99, 169, 158, 160, 169, 132, 178, 96, 165, 160, 172, 144, 192, 168, 132, 182, 163, 125, 195, 95, 160, 114, 173, 172, 179, 158, 167, 122, 149, 172, 111, 170, 162, 165, 182, 154, 155, 130, 161, 154, 159, 152, 152, 174, 131, 146, 125, 115, 174, 106, 122, 147, 163, 163, 194, 150, 158, 122, 173, 162, 105, 147, 157, 112, 160, 125, 156, 156, 175, 161, 122, 158, 151, 162, 151, 171, 141, 173, 145, 178, 160, 154, 131, 187, 159, 166, 165, 131, 202, 172, 172, 154, 147, 170, 126, 127, 174, 132, 182, 132, 97, 136, 162, 190, 146, 140, 185, 161, 146, 145, 160, 120, 156, 172, 150, 182, 143, 160, 142, 144, 158, 148, 155, 142, 113, 188, 153, 123, 157, 162, 137, 132, 158, 171, 172, 132, 160, 171, 168, 162, 173, 153, 148, 108, 115, 169, 143, 156, 162, 155, 152, 152, 164, 131, 143, 179, 130, 174, 161, 140, 146, 144, 163, 169, 150, 166, 144, 144, 136, 182, 90, 123, 132, 141, 115, 174, 173], \"xaxis\": \"x6\", \"y\": [289, 180, 283, 214, 195, 339, 237, 208, 207, 284, 211, 164, 204, 234, 211, 273, 196, 201, 248, 267, 223, 184, 201, 288, 215, 209, 260, 284, 468, 188, 518, 167, 224, 172, 186, 254, 306, 250, 177, 227, 230, 294, 264, 259, 175, 318, 223, 216, 340, 289, 233, 205, 224, 245, 180, 194, 270, 213, 365, 342, 253, 254, 224, 277, 202, 260, 297, 225, 246, 412, 265, 215, 182, 218, 268, 163, 529, 167, 100, 206, 277, 238, 223, 196, 213, 139, 263, 216, 291, 229, 208, 307, 210, 329, 182, 263, 207, 147, 85, 269, 275, 179, 392, 466, 186, 260, 254, 214, 129, 241, 188, 255, 276, 297, 207, 246, 282, 338, 160, 156, 248, 272, 240, 393, 230, 246, 161, 163, 230, 228, 292, 202, 388, 230, 294, 265, 215, 241, 166, 247, 331, 341, 291, 243, 279, 273, 198, 249, 168, 603, 215, 159, 275, 270, 291, 342, 190, 185, 290, 195, 264, 212, 263, 196, 225, 272, 231, 238, 222, 179, 243, 235, 320, 187, 266, 288, 216, 287, 194, 238, 225, 224, 404, 238, 312, 211, 251, 237, 328, 285, 280, 209, 245, 192, 184, 193, 297, 268, 246, 308, 249, 230, 147, 219, 184, 215, 308, 257, 132, 216, 263, 288, 276, 219, 226, 237, 280, 217, 196, 263, 222, 303, 195, 298, 256, 264, 195, 117, 295, 173, 315, 281, 275, 250, 309, 200, 336, 295, 355, 193, 326, 198, 292, 266, 268, 171, 237, 275, 219, 341, 491, 260, 292, 271, 248, 274, 394, 160, 200, 320, 275, 221, 231, 126, 193, 305, 298, 220, 242, 235, 225, 198, 201, 220, 295, 213, 160, 223, 347, 253, 246, 222, 220, 344, 358, 190, 169, 181, 308, 166, 211, 257, 182, 0, 0, 0, 0, 0, 0, 0, 0, 0, 0, 0, 0, 0, 0, 0, 0, 0, 0, 0, 0, 0, 0, 0, 0, 0, 0, 0, 0, 0, 0, 0, 0, 0, 0, 0, 0, 0, 0, 0, 0, 0, 0, 0, 0, 0, 0, 0, 0, 0, 0, 0, 0, 0, 0, 0, 0, 0, 0, 0, 0, 0, 0, 0, 0, 0, 0, 0, 0, 0, 0, 0, 0, 0, 0, 0, 0, 0, 0, 0, 0, 0, 0, 0, 0, 0, 0, 0, 0, 0, 0, 0, 0, 0, 0, 0, 0, 0, 0, 0, 0, 0, 0, 0, 0, 0, 0, 0, 0, 0, 0, 0, 0, 0, 0, 0, 0, 0, 0, 0, 0, 0, 0, 0, 260, 209, 218, 228, 213, 0, 236, 0, 0, 267, 166, 0, 0, 0, 0, 220, 177, 236, 0, 0, 0, 0, 0, 0, 0, 0, 0, 186, 100, 228, 0, 171, 230, 0, 0, 0, 281, 0, 203, 0, 0, 0, 0, 0, 277, 0, 233, 0, 0, 240, 0, 0, 153, 224, 0, 0, 0, 316, 0, 0, 218, 0, 311, 0, 0, 0, 270, 0, 0, 217, 214, 214, 252, 220, 214, 203, 0, 339, 216, 276, 458, 241, 384, 297, 248, 308, 208, 227, 210, 245, 225, 240, 0, 198, 195, 267, 161, 258, 0, 0, 195, 235, 0, 305, 223, 282, 349, 160, 160, 236, 312, 283, 142, 211, 218, 306, 186, 252, 222, 0, 0, 258, 202, 197, 204, 113, 274, 192, 298, 272, 220, 200, 261, 181, 260, 220, 221, 216, 175, 219, 310, 208, 232, 273, 203, 182, 274, 204, 270, 292, 171, 221, 289, 217, 223, 110, 193, 123, 210, 282, 170, 369, 173, 289, 152, 208, 216, 271, 244, 285, 243, 240, 219, 237, 165, 213, 287, 258, 256, 186, 264, 185, 226, 203, 207, 284, 337, 310, 254, 258, 254, 300, 170, 310, 333, 139, 223, 385, 254, 322, 564, 261, 263, 269, 177, 256, 239, 293, 407, 234, 226, 235, 234, 303, 149, 311, 203, 211, 199, 229, 245, 303, 204, 288, 275, 243, 295, 230, 265, 229, 228, 215, 326, 200, 256, 207, 273, 180, 222, 223, 209, 233, 197, 218, 211, 149, 197, 246, 225, 315, 205, 417, 195, 234, 198, 166, 178, 249, 281, 126, 305, 226, 240, 233, 276, 261, 319, 242, 243, 260, 354, 245, 197, 223, 309, 208, 199, 209, 236, 218, 198, 270, 214, 201, 244, 208, 270, 306, 243, 221, 330, 266, 206, 212, 275, 302, 234, 313, 244, 141, 237, 269, 289, 254, 274, 222, 258, 177, 160, 327, 235, 305, 304, 295, 271, 249, 288, 226, 283, 188, 286, 274, 360, 273, 201, 267, 196, 201, 230, 269, 212, 226, 246, 232, 177, 277, 249, 210, 207, 212, 271, 233, 213, 283, 282, 230, 167, 224, 268, 250, 219, 267, 303, 256, 204, 217, 308, 193, 228, 231, 244, 262, 259, 211, 325, 254, 197, 236, 282, 234, 254, 299, 211, 182, 294, 298, 231, 254, 196, 240, 409, 172, 265, 246, 315, 184, 233, 394, 269, 239, 174, 309, 282, 255, 250, 248, 214, 239, 304, 277, 300, 258, 299, 289, 298, 318, 240, 309, 250, 288, 245, 213, 216, 204, 204, 252, 227, 258, 220, 239, 254, 168, 330, 183, 203, 263, 341, 283, 186, 307, 219, 260, 255, 231, 164, 234, 177, 257, 325, 274, 321, 264, 268, 308, 253, 248, 269, 185, 282, 188, 219, 290, 175, 212, 302, 243, 353, 335, 247, 340, 206, 284, 266, 229, 199, 263, 294, 192, 286, 216, 223, 247, 204, 204, 227, 278, 220, 232, 197, 335, 253, 205, 192, 203, 318, 225, 220, 221, 240, 212, 342, 169, 187, 197, 157, 176, 241, 264, 193, 131, 236, 175], \"yaxis\": \"y6\"}, {\"marker\": {\"color\": [1, 2, 3, 4, 5, 6, 7, 8, 9, 10, 11, 12, 13, 14, 15, 16, 17, 18, 19, 20, 21, 22, 23, 24, 25, 26, 27, 28, 29, 30, 31, 32, 33, 34, 35, 36, 37, 38, 39, 40, 41, 42, 43, 44, 45, 46, 47, 48, 49, 50, 51, 52, 53, 54, 55, 56, 57, 58, 59, 60, 61, 62, 63, 64, 65, 66, 67, 68, 69, 70, 71, 72, 73, 74, 75, 76, 77, 78, 79, 80, 81, 82, 83, 84, 85, 86, 87, 88, 89, 90, 91, 92, 93, 94, 95, 96, 97, 98, 99, 100, 101, 102, 103, 104, 105, 106, 107, 108, 109, 110, 111, 112, 113, 114, 115, 116, 117, 118, 119, 120, 121, 122, 123, 124, 125, 126, 127, 128, 129, 130, 131, 132, 133, 134, 135, 136, 137, 138, 139, 140, 141, 142, 143, 144, 145, 146, 147, 148, 149, 150, 151, 152, 153, 154, 155, 156, 157, 158, 159, 160, 161, 162, 163, 164, 165, 166, 167, 168, 169, 170, 171, 172, 173, 174, 175, 176, 177, 178, 179, 180, 181, 182, 183, 184, 185, 186, 187, 188, 189, 190, 191, 192, 193, 194, 195, 196, 197, 198, 199, 200, 201, 202, 203, 204, 205, 206, 207, 208, 209, 210, 211, 212, 213, 214, 215, 216, 217, 218, 219, 220, 221, 222, 223, 224, 225, 226, 227, 228, 229, 230, 231, 232, 233, 234, 235, 236, 237, 238, 239, 240, 241, 242, 243, 244, 245, 246, 247, 248, 249, 250, 251, 252, 253, 254, 255, 256, 257, 258, 259, 260, 261, 262, 263, 264, 265, 266, 267, 268, 269, 270, 271, 272, 273, 274, 275, 276, 277, 278, 279, 280, 281, 282, 283, 284, 285, 286, 287, 288, 289, 290, 291, 292, 293, 294, 295, 296, 297, 298, 299, 300, 301, 302, 303, 304, 305, 306, 307, 308, 309, 310, 311, 312, 313, 314, 315, 316, 317, 318, 319, 320, 321, 322, 323, 324, 325, 326, 327, 328, 329, 330, 331, 332, 333, 334, 335, 336, 337, 338, 339, 340, 341, 342, 343, 344, 345, 346, 347, 348, 349, 350, 351, 352, 353, 354, 355, 356, 357, 358, 359, 360, 361, 362, 363, 364, 365, 366, 367, 368, 369, 370, 371, 372, 373, 374, 375, 376, 377, 378, 379, 380, 381, 382, 383, 384, 385, 386, 387, 388, 389, 390, 391, 392, 393, 394, 395, 396, 397, 398, 399, 400, 401, 402, 403, 404, 405, 406, 407, 408, 409, 410, 411, 412, 413, 414, 415, 416, 417, 418, 419, 420, 421, 422, 423, 424, 425, 426, 427, 428, 429, 430, 431, 432, 433, 434, 435, 436, 437, 438, 439, 440, 441, 442, 443, 444, 445, 446, 447, 448, 449, 450, 451, 452, 453, 454, 455, 456, 457, 458, 459, 460, 461, 462, 463, 464, 465, 466, 467, 468, 469, 470, 471, 472, 473, 474, 475, 476, 477, 478, 479, 480, 481, 482, 483, 484, 485, 486, 487, 488, 489, 490, 491, 492, 493, 494, 495, 496, 497, 498, 499, 500, 501, 502, 503, 504, 505, 506, 507, 508, 509, 510, 511, 512, 513, 514, 515, 516, 517, 518, 519, 520, 521, 522, 523, 524, 525, 526, 527, 528, 529, 530, 531, 532, 533, 534, 535, 536, 537, 538, 539, 540, 541, 542, 543, 544, 545, 546, 547, 548, 549, 550, 551, 552, 553, 554, 555, 556, 557, 558, 559, 560, 561, 562, 563, 564, 565, 566, 567, 568, 569, 570, 571, 572, 573, 574, 575, 576, 577, 578, 579, 580, 581, 582, 583, 584, 585, 586, 587, 588, 589, 590, 591, 592, 593, 594, 595, 596, 597, 598, 599, 600, 601, 602, 603, 604, 605, 606, 607, 608, 609, 610, 611, 612, 613, 614, 615, 616, 617, 618, 619, 620, 621, 622, 623, 624, 625, 626, 627, 628, 629, 630, 631, 632, 633, 634, 635, 636, 637, 638, 639, 640, 641, 642, 643, 644, 645, 646, 647, 648, 649, 650, 651, 652, 653, 654, 655, 656, 657, 658, 659, 660, 661, 662, 663, 664, 665, 666, 667, 668, 669, 670, 671, 672, 673, 674, 675, 676, 677, 678, 679, 680, 681, 682, 683, 684, 685, 686, 687, 688, 689, 690, 691, 692, 693, 694, 695, 696, 697, 698, 699, 700, 701, 702, 703, 704, 705, 706, 707, 708, 709, 710, 711, 712, 713, 714, 715, 716, 717, 718, 719, 720, 721, 722, 723, 724, 725, 726, 727, 728, 729, 730, 731, 732, 733, 734, 735, 736, 737, 738, 739, 740, 741, 742, 743, 744, 745, 746, 747, 748, 749, 750, 751, 752, 753, 754, 755, 756, 757, 758, 759, 760, 761, 762, 763, 764, 765, 766, 767, 768, 769, 770, 771, 772, 773, 774, 775, 776, 777, 778, 779, 780, 781, 782, 783, 784, 785, 786, 787, 788, 789, 790, 791, 792, 793, 794, 795, 796, 797, 798, 799, 800, 801, 802, 803, 804, 805, 806, 807, 808, 809, 810, 811, 812, 813, 814, 815, 816, 817, 818, 819, 820, 821, 822, 823, 824, 825, 826, 827, 828, 829, 830, 831, 832, 833, 834, 835, 836, 837, 838, 839, 840, 841, 842, 843, 844, 845, 846, 847, 848, 849, 850, 851, 852, 853, 854, 855, 856, 857, 858, 859, 860, 861, 862, 863, 864, 865, 866, 867, 868, 869, 870, 871, 872, 873, 874, 875, 876, 877, 878, 879, 880, 881, 882, 883, 884, 885, 886, 887, 888, 889, 890, 891, 892, 893, 894, 895, 896, 897, 898, 899, 900, 901, 902, 903, 904, 905, 906, 907, 908, 909, 910, 911, 912, 913, 914, 915, 916, 917, 918], \"colorscale\": [[0.0, \"rgb(0, 0, 255)\"], [1.0, \"rgb(255, 0, 0)\"]], \"showscale\": false, \"size\": 6}, \"mode\": \"markers\", \"showlegend\": false, \"type\": \"scatter\", \"x\": [140, 160, 130, 138, 150, 120, 130, 110, 140, 120, 130, 136, 120, 140, 115, 120, 110, 120, 100, 120, 100, 120, 124, 150, 130, 130, 124, 120, 113, 125, 145, 130, 125, 130, 150, 125, 140, 110, 120, 150, 150, 130, 150, 140, 120, 130, 120, 140, 112, 110, 130, 120, 140, 130, 130, 160, 120, 130, 150, 112, 100, 150, 140, 120, 110, 120, 132, 110, 160, 150, 140, 130, 120, 120, 140, 150, 118, 140, 140, 130, 110, 120, 150, 160, 150, 140, 170, 140, 120, 140, 110, 130, 120, 160, 110, 130, 142, 160, 120, 125, 130, 130, 150, 120, 118, 140, 120, 150, 140, 190, 130, 150, 140, 140, 130, 100, 120, 130, 120, 140, 135, 125, 110, 180, 130, 120, 130, 108, 120, 120, 145, 110, 170, 150, 130, 115, 120, 120, 140, 150, 160, 140, 160, 140, 120, 110, 120, 120, 120, 130, 130, 100, 130, 120, 120, 155, 110, 140, 130, 160, 140, 128, 160, 120, 140, 140, 140, 140, 135, 140, 120, 140, 140, 140, 140, 140, 140, 140, 130, 130, 130, 130, 140, 110, 160, 160, 130, 120, 120, 180, 180, 170, 130, 135, 125, 160, 120, 150, 120, 130, 110, 120, 160, 100, 130, 150, 120, 110, 130, 125, 106, 140, 130, 130, 150, 170, 110, 120, 140, 140, 130, 160, 120, 120, 120, 145, 120, 92, 120, 130, 130, 130, 120, 112, 140, 120, 120, 140, 160, 160, 145, 200, 160, 120, 160, 120, 120, 122, 130, 130, 135, 120, 125, 140, 145, 120, 130, 150, 150, 122, 140, 120, 120, 130, 140, 160, 130, 98, 130, 130, 120, 105, 140, 120, 180, 180, 135, 170, 180, 130, 120, 150, 130, 110, 140, 110, 140, 120, 133, 120, 110, 140, 130, 115, 95, 105, 145, 110, 110, 110, 160, 140, 125, 120, 95, 120, 115, 130, 115, 95, 155, 125, 125, 115, 80, 145, 105, 140, 130, 145, 125, 100, 105, 115, 100, 105, 110, 125, 95, 130, 115, 115, 100, 95, 130, 120, 160, 150, 140, 95, 100, 110, 110, 130, 120, 135, 120, 115, 137, 110, 120, 140, 120, 130, 120, 145, 115, 120, 115, 105, 160, 160, 155, 120, 120, 200, 150, 135, 140, 150, 135, 150, 185, 135, 125, 160, 155, 160, 140, 120, 160, 115, 115, 110, 120, 150, 145, 130, 140, 160, 140, 115, 130, 150, 160, 135, 140, 170, 165, 200, 160, 130, 145, 135, 110, 120, 140, 115, 110, 160, 150, 180, 125, 125, 130, 155, 140, 130, 132, 142, 110, 120, 150, 180, 120, 160, 126, 140, 110, 133, 128, 120, 170, 110, 126, 152, 116, 120, 130, 138, 128, 130, 128, 130, 120, 136, 130, 124, 160, 0, 122, 144, 140, 120, 136, 154, 120, 125, 134, 104, 139, 136, 122, 128, 131, 134, 120, 132, 152, 124, 126, 138, 154, 141, 131, 178, 132, 110, 130, 170, 126, 140, 142, 120, 134, 139, 110, 140, 140, 136, 120, 170, 130, 137, 142, 142, 132, 146, 160, 135, 136, 130, 140, 132, 158, 136, 136, 106, 120, 110, 136, 160, 123, 112, 122, 130, 150, 150, 102, 96, 130, 120, 144, 124, 150, 130, 144, 139, 131, 143, 133, 143, 116, 110, 125, 130, 133, 150, 130, 110, 138, 104, 138, 170, 140, 132, 132, 142, 112, 139, 172, 120, 144, 145, 155, 150, 160, 137, 137, 134, 133, 132, 140, 135, 144, 141, 150, 130, 110, 158, 128, 140, 150, 160, 142, 137, 139, 146, 156, 145, 131, 140, 122, 142, 141, 180, 124, 118, 140, 140, 136, 100, 190, 130, 160, 130, 122, 133, 120, 130, 130, 140, 120, 155, 134, 114, 160, 144, 158, 134, 127, 135, 122, 140, 120, 130, 115, 124, 128, 120, 120, 130, 110, 140, 150, 135, 142, 140, 134, 128, 112, 140, 140, 110, 140, 120, 130, 115, 112, 132, 130, 138, 120, 112, 110, 128, 160, 120, 170, 144, 130, 140, 160, 130, 122, 152, 124, 130, 101, 126, 140, 118, 110, 160, 150, 136, 128, 140, 140, 130, 105, 138, 120, 174, 120, 150, 130, 120, 150, 145, 150, 140, 136, 118, 108, 120, 120, 156, 140, 106, 142, 104, 94, 120, 120, 146, 120, 150, 130, 110, 148, 128, 178, 126, 150, 140, 130, 124, 110, 125, 110, 120, 100, 140, 120, 108, 120, 130, 165, 130, 124, 100, 150, 140, 112, 180, 110, 158, 135, 120, 134, 120, 200, 150, 130, 120, 122, 152, 160, 125, 160, 120, 136, 134, 117, 108, 112, 140, 120, 150, 142, 152, 125, 118, 132, 145, 138, 140, 125, 192, 123, 112, 110, 132, 112, 112, 120, 108, 130, 130, 105, 140, 128, 120, 178, 120, 150, 130, 128, 110, 180, 110, 130, 138, 138, 160, 140, 100, 120, 118, 138, 140, 150, 125, 129, 120, 134, 110, 102, 130, 130, 132, 108, 140, 160, 140, 145, 108, 126, 124, 135, 100, 110, 140, 125, 118, 125, 125, 140, 160, 152, 102, 105, 125, 130, 170, 125, 122, 128, 130, 130, 135, 94, 120, 120, 110, 135, 150, 130, 138, 135, 130, 132, 150, 118, 145, 118, 115, 128, 130, 160, 138, 120, 138, 120, 180, 140, 130, 140, 140, 130, 110, 155, 140, 145, 120, 130, 112, 110, 150, 160, 150, 132, 140, 150, 120, 130, 120, 130, 110, 172, 120, 140, 140, 160, 128, 138, 132, 128, 134, 170, 146, 138, 154, 130, 110, 130, 128, 122, 148, 114, 170, 125, 130, 120, 152, 132, 120, 140, 124, 120, 164, 140, 110, 144, 130, 130, 138], \"xaxis\": \"x7\", \"y\": [172, 156, 98, 108, 122, 170, 170, 142, 130, 120, 142, 99, 145, 140, 137, 150, 166, 165, 125, 160, 142, 142, 164, 150, 138, 178, 112, 118, 127, 145, 130, 114, 122, 130, 154, 155, 87, 142, 148, 130, 130, 100, 168, 170, 120, 120, 168, 170, 184, 170, 121, 98, 122, 150, 140, 170, 153, 140, 134, 96, 174, 175, 144, 125, 145, 130, 144, 184, 82, 170, 145, 135, 150, 115, 128, 116, 130, 150, 138, 170, 160, 154, 115, 165, 125, 94, 112, 142, 155, 110, 160, 140, 148, 92, 180, 140, 138, 160, 140, 144, 115, 100, 130, 152, 124, 140, 110, 168, 135, 106, 124, 92, 125, 150, 135, 150, 170, 130, 185, 180, 170, 139, 140, 110, 150, 110, 190, 175, 140, 152, 130, 150, 122, 124, 120, 175, 175, 146, 118, 130, 94, 125, 158, 155, 150, 132, 155, 176, 160, 125, 120, 100, 150, 140, 160, 150, 150, 130, 100, 130, 119, 96, 174, 150, 140, 175, 140, 118, 100, 160, 160, 188, 162, 172, 134, 135, 105, 150, 150, 90, 120, 150, 124, 140, 130, 92, 110, 138, 110, 120, 120, 116, 160, 110, 180, 116, 132, 136, 116, 98, 150, 150, 146, 150, 100, 140, 180, 140, 185, 140, 110, 140, 128, 164, 98, 170, 150, 137, 150, 170, 112, 150, 125, 185, 137, 150, 140, 134, 170, 184, 158, 167, 129, 142, 140, 160, 118, 136, 99, 102, 155, 142, 143, 118, 103, 137, 150, 150, 130, 120, 135, 115, 115, 152, 96, 130, 150, 172, 120, 155, 165, 138, 115, 125, 145, 175, 110, 150, 91, 145, 140, 165, 130, 134, 180, 100, 150, 126, 126, 155, 135, 122, 160, 160, 170, 120, 140, 132, 156, 180, 138, 135, 148, 93, 127, 110, 139, 131, 92, 149, 149, 150, 120, 123, 126, 127, 155, 120, 138, 182, 154, 110, 176, 154, 141, 123, 148, 121, 77, 136, 175, 109, 166, 128, 133, 128, 138, 119, 82, 130, 143, 82, 179, 144, 170, 134, 114, 154, 149, 145, 122, 114, 113, 120, 104, 130, 115, 128, 104, 125, 120, 140, 100, 100, 92, 125, 113, 95, 128, 115, 72, 124, 99, 148, 97, 140, 117, 120, 120, 86, 63, 108, 98, 115, 105, 121, 118, 122, 157, 156, 99, 120, 145, 156, 155, 105, 99, 135, 83, 145, 60, 92, 115, 120, 98, 150, 143, 105, 122, 70, 110, 163, 67, 128, 120, 130, 100, 72, 94, 122, 78, 150, 103, 98, 110, 90, 112, 127, 140, 149, 99, 120, 105, 140, 141, 157, 140, 117, 120, 120, 148, 86, 84, 125, 120, 118, 124, 106, 111, 116, 180, 129, 125, 140, 120, 124, 117, 110, 105, 155, 110, 122, 118, 133, 123, 131, 80, 165, 86, 111, 118, 84, 117, 107, 128, 160, 125, 130, 97, 161, 106, 130, 140, 122, 130, 120, 139, 108, 148, 123, 110, 118, 125, 106, 112, 128, 180, 144, 135, 140, 102, 108, 145, 127, 110, 140, 69, 148, 130, 130, 140, 138, 140, 138, 112, 131, 112, 80, 150, 110, 126, 88, 153, 150, 120, 160, 132, 120, 110, 121, 128, 135, 120, 117, 150, 144, 113, 135, 127, 109, 128, 115, 102, 140, 135, 122, 119, 130, 112, 100, 122, 120, 105, 129, 120, 139, 162, 100, 140, 135, 73, 86, 108, 116, 160, 118, 112, 122, 124, 102, 137, 141, 154, 126, 160, 115, 128, 115, 105, 110, 119, 109, 135, 130, 112, 126, 120, 110, 119, 110, 130, 159, 84, 126, 116, 120, 122, 165, 122, 94, 133, 110, 150, 130, 113, 140, 100, 136, 127, 98, 96, 123, 98, 112, 151, 96, 108, 128, 138, 126, 154, 137, 100, 135, 93, 109, 160, 141, 105, 121, 140, 142, 142, 170, 154, 161, 111, 180, 145, 159, 125, 120, 155, 144, 178, 129, 180, 181, 143, 159, 139, 152, 157, 165, 130, 150, 138, 170, 140, 126, 150, 138, 125, 150, 186, 181, 163, 179, 156, 134, 165, 126, 177, 120, 114, 125, 184, 157, 179, 175, 168, 125, 96, 143, 103, 173, 142, 169, 171, 150, 112, 186, 152, 149, 152, 140, 163, 143, 116, 142, 147, 148, 179, 173, 178, 105, 130, 111, 168, 126, 178, 140, 145, 163, 128, 164, 169, 109, 108, 168, 118, 151, 156, 133, 162, 175, 71, 163, 124, 147, 166, 143, 157, 162, 138, 117, 153, 161, 170, 162, 162, 144, 133, 114, 103, 139, 116, 88, 151, 152, 163, 99, 169, 158, 160, 169, 132, 178, 96, 165, 160, 172, 144, 192, 168, 132, 182, 163, 125, 195, 95, 160, 114, 173, 172, 179, 158, 167, 122, 149, 172, 111, 170, 162, 165, 182, 154, 155, 130, 161, 154, 159, 152, 152, 174, 131, 146, 125, 115, 174, 106, 122, 147, 163, 163, 194, 150, 158, 122, 173, 162, 105, 147, 157, 112, 160, 125, 156, 156, 175, 161, 122, 158, 151, 162, 151, 171, 141, 173, 145, 178, 160, 154, 131, 187, 159, 166, 165, 131, 202, 172, 172, 154, 147, 170, 126, 127, 174, 132, 182, 132, 97, 136, 162, 190, 146, 140, 185, 161, 146, 145, 160, 120, 156, 172, 150, 182, 143, 160, 142, 144, 158, 148, 155, 142, 113, 188, 153, 123, 157, 162, 137, 132, 158, 171, 172, 132, 160, 171, 168, 162, 173, 153, 148, 108, 115, 169, 143, 156, 162, 155, 152, 152, 164, 131, 143, 179, 130, 174, 161, 140, 146, 144, 163, 169, 150, 166, 144, 144, 136, 182, 90, 123, 132, 141, 115, 174, 173], \"yaxis\": \"y7\"}, {\"marker\": {\"color\": [1, 2, 3, 4, 5, 6, 7, 8, 9, 10, 11, 12, 13, 14, 15, 16, 17, 18, 19, 20, 21, 22, 23, 24, 25, 26, 27, 28, 29, 30, 31, 32, 33, 34, 35, 36, 37, 38, 39, 40, 41, 42, 43, 44, 45, 46, 47, 48, 49, 50, 51, 52, 53, 54, 55, 56, 57, 58, 59, 60, 61, 62, 63, 64, 65, 66, 67, 68, 69, 70, 71, 72, 73, 74, 75, 76, 77, 78, 79, 80, 81, 82, 83, 84, 85, 86, 87, 88, 89, 90, 91, 92, 93, 94, 95, 96, 97, 98, 99, 100, 101, 102, 103, 104, 105, 106, 107, 108, 109, 110, 111, 112, 113, 114, 115, 116, 117, 118, 119, 120, 121, 122, 123, 124, 125, 126, 127, 128, 129, 130, 131, 132, 133, 134, 135, 136, 137, 138, 139, 140, 141, 142, 143, 144, 145, 146, 147, 148, 149, 150, 151, 152, 153, 154, 155, 156, 157, 158, 159, 160, 161, 162, 163, 164, 165, 166, 167, 168, 169, 170, 171, 172, 173, 174, 175, 176, 177, 178, 179, 180, 181, 182, 183, 184, 185, 186, 187, 188, 189, 190, 191, 192, 193, 194, 195, 196, 197, 198, 199, 200, 201, 202, 203, 204, 205, 206, 207, 208, 209, 210, 211, 212, 213, 214, 215, 216, 217, 218, 219, 220, 221, 222, 223, 224, 225, 226, 227, 228, 229, 230, 231, 232, 233, 234, 235, 236, 237, 238, 239, 240, 241, 242, 243, 244, 245, 246, 247, 248, 249, 250, 251, 252, 253, 254, 255, 256, 257, 258, 259, 260, 261, 262, 263, 264, 265, 266, 267, 268, 269, 270, 271, 272, 273, 274, 275, 276, 277, 278, 279, 280, 281, 282, 283, 284, 285, 286, 287, 288, 289, 290, 291, 292, 293, 294, 295, 296, 297, 298, 299, 300, 301, 302, 303, 304, 305, 306, 307, 308, 309, 310, 311, 312, 313, 314, 315, 316, 317, 318, 319, 320, 321, 322, 323, 324, 325, 326, 327, 328, 329, 330, 331, 332, 333, 334, 335, 336, 337, 338, 339, 340, 341, 342, 343, 344, 345, 346, 347, 348, 349, 350, 351, 352, 353, 354, 355, 356, 357, 358, 359, 360, 361, 362, 363, 364, 365, 366, 367, 368, 369, 370, 371, 372, 373, 374, 375, 376, 377, 378, 379, 380, 381, 382, 383, 384, 385, 386, 387, 388, 389, 390, 391, 392, 393, 394, 395, 396, 397, 398, 399, 400, 401, 402, 403, 404, 405, 406, 407, 408, 409, 410, 411, 412, 413, 414, 415, 416, 417, 418, 419, 420, 421, 422, 423, 424, 425, 426, 427, 428, 429, 430, 431, 432, 433, 434, 435, 436, 437, 438, 439, 440, 441, 442, 443, 444, 445, 446, 447, 448, 449, 450, 451, 452, 453, 454, 455, 456, 457, 458, 459, 460, 461, 462, 463, 464, 465, 466, 467, 468, 469, 470, 471, 472, 473, 474, 475, 476, 477, 478, 479, 480, 481, 482, 483, 484, 485, 486, 487, 488, 489, 490, 491, 492, 493, 494, 495, 496, 497, 498, 499, 500, 501, 502, 503, 504, 505, 506, 507, 508, 509, 510, 511, 512, 513, 514, 515, 516, 517, 518, 519, 520, 521, 522, 523, 524, 525, 526, 527, 528, 529, 530, 531, 532, 533, 534, 535, 536, 537, 538, 539, 540, 541, 542, 543, 544, 545, 546, 547, 548, 549, 550, 551, 552, 553, 554, 555, 556, 557, 558, 559, 560, 561, 562, 563, 564, 565, 566, 567, 568, 569, 570, 571, 572, 573, 574, 575, 576, 577, 578, 579, 580, 581, 582, 583, 584, 585, 586, 587, 588, 589, 590, 591, 592, 593, 594, 595, 596, 597, 598, 599, 600, 601, 602, 603, 604, 605, 606, 607, 608, 609, 610, 611, 612, 613, 614, 615, 616, 617, 618, 619, 620, 621, 622, 623, 624, 625, 626, 627, 628, 629, 630, 631, 632, 633, 634, 635, 636, 637, 638, 639, 640, 641, 642, 643, 644, 645, 646, 647, 648, 649, 650, 651, 652, 653, 654, 655, 656, 657, 658, 659, 660, 661, 662, 663, 664, 665, 666, 667, 668, 669, 670, 671, 672, 673, 674, 675, 676, 677, 678, 679, 680, 681, 682, 683, 684, 685, 686, 687, 688, 689, 690, 691, 692, 693, 694, 695, 696, 697, 698, 699, 700, 701, 702, 703, 704, 705, 706, 707, 708, 709, 710, 711, 712, 713, 714, 715, 716, 717, 718, 719, 720, 721, 722, 723, 724, 725, 726, 727, 728, 729, 730, 731, 732, 733, 734, 735, 736, 737, 738, 739, 740, 741, 742, 743, 744, 745, 746, 747, 748, 749, 750, 751, 752, 753, 754, 755, 756, 757, 758, 759, 760, 761, 762, 763, 764, 765, 766, 767, 768, 769, 770, 771, 772, 773, 774, 775, 776, 777, 778, 779, 780, 781, 782, 783, 784, 785, 786, 787, 788, 789, 790, 791, 792, 793, 794, 795, 796, 797, 798, 799, 800, 801, 802, 803, 804, 805, 806, 807, 808, 809, 810, 811, 812, 813, 814, 815, 816, 817, 818, 819, 820, 821, 822, 823, 824, 825, 826, 827, 828, 829, 830, 831, 832, 833, 834, 835, 836, 837, 838, 839, 840, 841, 842, 843, 844, 845, 846, 847, 848, 849, 850, 851, 852, 853, 854, 855, 856, 857, 858, 859, 860, 861, 862, 863, 864, 865, 866, 867, 868, 869, 870, 871, 872, 873, 874, 875, 876, 877, 878, 879, 880, 881, 882, 883, 884, 885, 886, 887, 888, 889, 890, 891, 892, 893, 894, 895, 896, 897, 898, 899, 900, 901, 902, 903, 904, 905, 906, 907, 908, 909, 910, 911, 912, 913, 914, 915, 916, 917, 918], \"colorscale\": [[0.0, \"rgb(0, 0, 255)\"], [1.0, \"rgb(255, 0, 0)\"]], \"showscale\": false, \"size\": 6}, \"mode\": \"markers\", \"showlegend\": false, \"type\": \"scatter\", \"x\": [289, 180, 283, 214, 195, 339, 237, 208, 207, 284, 211, 164, 204, 234, 211, 273, 196, 201, 248, 267, 223, 184, 201, 288, 215, 209, 260, 284, 468, 188, 518, 167, 224, 172, 186, 254, 306, 250, 177, 227, 230, 294, 264, 259, 175, 318, 223, 216, 340, 289, 233, 205, 224, 245, 180, 194, 270, 213, 365, 342, 253, 254, 224, 277, 202, 260, 297, 225, 246, 412, 265, 215, 182, 218, 268, 163, 529, 167, 100, 206, 277, 238, 223, 196, 213, 139, 263, 216, 291, 229, 208, 307, 210, 329, 182, 263, 207, 147, 85, 269, 275, 179, 392, 466, 186, 260, 254, 214, 129, 241, 188, 255, 276, 297, 207, 246, 282, 338, 160, 156, 248, 272, 240, 393, 230, 246, 161, 163, 230, 228, 292, 202, 388, 230, 294, 265, 215, 241, 166, 247, 331, 341, 291, 243, 279, 273, 198, 249, 168, 603, 215, 159, 275, 270, 291, 342, 190, 185, 290, 195, 264, 212, 263, 196, 225, 272, 231, 238, 222, 179, 243, 235, 320, 187, 266, 288, 216, 287, 194, 238, 225, 224, 404, 238, 312, 211, 251, 237, 328, 285, 280, 209, 245, 192, 184, 193, 297, 268, 246, 308, 249, 230, 147, 219, 184, 215, 308, 257, 132, 216, 263, 288, 276, 219, 226, 237, 280, 217, 196, 263, 222, 303, 195, 298, 256, 264, 195, 117, 295, 173, 315, 281, 275, 250, 309, 200, 336, 295, 355, 193, 326, 198, 292, 266, 268, 171, 237, 275, 219, 341, 491, 260, 292, 271, 248, 274, 394, 160, 200, 320, 275, 221, 231, 126, 193, 305, 298, 220, 242, 235, 225, 198, 201, 220, 295, 213, 160, 223, 347, 253, 246, 222, 220, 344, 358, 190, 169, 181, 308, 166, 211, 257, 182, 0, 0, 0, 0, 0, 0, 0, 0, 0, 0, 0, 0, 0, 0, 0, 0, 0, 0, 0, 0, 0, 0, 0, 0, 0, 0, 0, 0, 0, 0, 0, 0, 0, 0, 0, 0, 0, 0, 0, 0, 0, 0, 0, 0, 0, 0, 0, 0, 0, 0, 0, 0, 0, 0, 0, 0, 0, 0, 0, 0, 0, 0, 0, 0, 0, 0, 0, 0, 0, 0, 0, 0, 0, 0, 0, 0, 0, 0, 0, 0, 0, 0, 0, 0, 0, 0, 0, 0, 0, 0, 0, 0, 0, 0, 0, 0, 0, 0, 0, 0, 0, 0, 0, 0, 0, 0, 0, 0, 0, 0, 0, 0, 0, 0, 0, 0, 0, 0, 0, 0, 0, 0, 0, 260, 209, 218, 228, 213, 0, 236, 0, 0, 267, 166, 0, 0, 0, 0, 220, 177, 236, 0, 0, 0, 0, 0, 0, 0, 0, 0, 186, 100, 228, 0, 171, 230, 0, 0, 0, 281, 0, 203, 0, 0, 0, 0, 0, 277, 0, 233, 0, 0, 240, 0, 0, 153, 224, 0, 0, 0, 316, 0, 0, 218, 0, 311, 0, 0, 0, 270, 0, 0, 217, 214, 214, 252, 220, 214, 203, 0, 339, 216, 276, 458, 241, 384, 297, 248, 308, 208, 227, 210, 245, 225, 240, 0, 198, 195, 267, 161, 258, 0, 0, 195, 235, 0, 305, 223, 282, 349, 160, 160, 236, 312, 283, 142, 211, 218, 306, 186, 252, 222, 0, 0, 258, 202, 197, 204, 113, 274, 192, 298, 272, 220, 200, 261, 181, 260, 220, 221, 216, 175, 219, 310, 208, 232, 273, 203, 182, 274, 204, 270, 292, 171, 221, 289, 217, 223, 110, 193, 123, 210, 282, 170, 369, 173, 289, 152, 208, 216, 271, 244, 285, 243, 240, 219, 237, 165, 213, 287, 258, 256, 186, 264, 185, 226, 203, 207, 284, 337, 310, 254, 258, 254, 300, 170, 310, 333, 139, 223, 385, 254, 322, 564, 261, 263, 269, 177, 256, 239, 293, 407, 234, 226, 235, 234, 303, 149, 311, 203, 211, 199, 229, 245, 303, 204, 288, 275, 243, 295, 230, 265, 229, 228, 215, 326, 200, 256, 207, 273, 180, 222, 223, 209, 233, 197, 218, 211, 149, 197, 246, 225, 315, 205, 417, 195, 234, 198, 166, 178, 249, 281, 126, 305, 226, 240, 233, 276, 261, 319, 242, 243, 260, 354, 245, 197, 223, 309, 208, 199, 209, 236, 218, 198, 270, 214, 201, 244, 208, 270, 306, 243, 221, 330, 266, 206, 212, 275, 302, 234, 313, 244, 141, 237, 269, 289, 254, 274, 222, 258, 177, 160, 327, 235, 305, 304, 295, 271, 249, 288, 226, 283, 188, 286, 274, 360, 273, 201, 267, 196, 201, 230, 269, 212, 226, 246, 232, 177, 277, 249, 210, 207, 212, 271, 233, 213, 283, 282, 230, 167, 224, 268, 250, 219, 267, 303, 256, 204, 217, 308, 193, 228, 231, 244, 262, 259, 211, 325, 254, 197, 236, 282, 234, 254, 299, 211, 182, 294, 298, 231, 254, 196, 240, 409, 172, 265, 246, 315, 184, 233, 394, 269, 239, 174, 309, 282, 255, 250, 248, 214, 239, 304, 277, 300, 258, 299, 289, 298, 318, 240, 309, 250, 288, 245, 213, 216, 204, 204, 252, 227, 258, 220, 239, 254, 168, 330, 183, 203, 263, 341, 283, 186, 307, 219, 260, 255, 231, 164, 234, 177, 257, 325, 274, 321, 264, 268, 308, 253, 248, 269, 185, 282, 188, 219, 290, 175, 212, 302, 243, 353, 335, 247, 340, 206, 284, 266, 229, 199, 263, 294, 192, 286, 216, 223, 247, 204, 204, 227, 278, 220, 232, 197, 335, 253, 205, 192, 203, 318, 225, 220, 221, 240, 212, 342, 169, 187, 197, 157, 176, 241, 264, 193, 131, 236, 175], \"xaxis\": \"x8\", \"y\": [172, 156, 98, 108, 122, 170, 170, 142, 130, 120, 142, 99, 145, 140, 137, 150, 166, 165, 125, 160, 142, 142, 164, 150, 138, 178, 112, 118, 127, 145, 130, 114, 122, 130, 154, 155, 87, 142, 148, 130, 130, 100, 168, 170, 120, 120, 168, 170, 184, 170, 121, 98, 122, 150, 140, 170, 153, 140, 134, 96, 174, 175, 144, 125, 145, 130, 144, 184, 82, 170, 145, 135, 150, 115, 128, 116, 130, 150, 138, 170, 160, 154, 115, 165, 125, 94, 112, 142, 155, 110, 160, 140, 148, 92, 180, 140, 138, 160, 140, 144, 115, 100, 130, 152, 124, 140, 110, 168, 135, 106, 124, 92, 125, 150, 135, 150, 170, 130, 185, 180, 170, 139, 140, 110, 150, 110, 190, 175, 140, 152, 130, 150, 122, 124, 120, 175, 175, 146, 118, 130, 94, 125, 158, 155, 150, 132, 155, 176, 160, 125, 120, 100, 150, 140, 160, 150, 150, 130, 100, 130, 119, 96, 174, 150, 140, 175, 140, 118, 100, 160, 160, 188, 162, 172, 134, 135, 105, 150, 150, 90, 120, 150, 124, 140, 130, 92, 110, 138, 110, 120, 120, 116, 160, 110, 180, 116, 132, 136, 116, 98, 150, 150, 146, 150, 100, 140, 180, 140, 185, 140, 110, 140, 128, 164, 98, 170, 150, 137, 150, 170, 112, 150, 125, 185, 137, 150, 140, 134, 170, 184, 158, 167, 129, 142, 140, 160, 118, 136, 99, 102, 155, 142, 143, 118, 103, 137, 150, 150, 130, 120, 135, 115, 115, 152, 96, 130, 150, 172, 120, 155, 165, 138, 115, 125, 145, 175, 110, 150, 91, 145, 140, 165, 130, 134, 180, 100, 150, 126, 126, 155, 135, 122, 160, 160, 170, 120, 140, 132, 156, 180, 138, 135, 148, 93, 127, 110, 139, 131, 92, 149, 149, 150, 120, 123, 126, 127, 155, 120, 138, 182, 154, 110, 176, 154, 141, 123, 148, 121, 77, 136, 175, 109, 166, 128, 133, 128, 138, 119, 82, 130, 143, 82, 179, 144, 170, 134, 114, 154, 149, 145, 122, 114, 113, 120, 104, 130, 115, 128, 104, 125, 120, 140, 100, 100, 92, 125, 113, 95, 128, 115, 72, 124, 99, 148, 97, 140, 117, 120, 120, 86, 63, 108, 98, 115, 105, 121, 118, 122, 157, 156, 99, 120, 145, 156, 155, 105, 99, 135, 83, 145, 60, 92, 115, 120, 98, 150, 143, 105, 122, 70, 110, 163, 67, 128, 120, 130, 100, 72, 94, 122, 78, 150, 103, 98, 110, 90, 112, 127, 140, 149, 99, 120, 105, 140, 141, 157, 140, 117, 120, 120, 148, 86, 84, 125, 120, 118, 124, 106, 111, 116, 180, 129, 125, 140, 120, 124, 117, 110, 105, 155, 110, 122, 118, 133, 123, 131, 80, 165, 86, 111, 118, 84, 117, 107, 128, 160, 125, 130, 97, 161, 106, 130, 140, 122, 130, 120, 139, 108, 148, 123, 110, 118, 125, 106, 112, 128, 180, 144, 135, 140, 102, 108, 145, 127, 110, 140, 69, 148, 130, 130, 140, 138, 140, 138, 112, 131, 112, 80, 150, 110, 126, 88, 153, 150, 120, 160, 132, 120, 110, 121, 128, 135, 120, 117, 150, 144, 113, 135, 127, 109, 128, 115, 102, 140, 135, 122, 119, 130, 112, 100, 122, 120, 105, 129, 120, 139, 162, 100, 140, 135, 73, 86, 108, 116, 160, 118, 112, 122, 124, 102, 137, 141, 154, 126, 160, 115, 128, 115, 105, 110, 119, 109, 135, 130, 112, 126, 120, 110, 119, 110, 130, 159, 84, 126, 116, 120, 122, 165, 122, 94, 133, 110, 150, 130, 113, 140, 100, 136, 127, 98, 96, 123, 98, 112, 151, 96, 108, 128, 138, 126, 154, 137, 100, 135, 93, 109, 160, 141, 105, 121, 140, 142, 142, 170, 154, 161, 111, 180, 145, 159, 125, 120, 155, 144, 178, 129, 180, 181, 143, 159, 139, 152, 157, 165, 130, 150, 138, 170, 140, 126, 150, 138, 125, 150, 186, 181, 163, 179, 156, 134, 165, 126, 177, 120, 114, 125, 184, 157, 179, 175, 168, 125, 96, 143, 103, 173, 142, 169, 171, 150, 112, 186, 152, 149, 152, 140, 163, 143, 116, 142, 147, 148, 179, 173, 178, 105, 130, 111, 168, 126, 178, 140, 145, 163, 128, 164, 169, 109, 108, 168, 118, 151, 156, 133, 162, 175, 71, 163, 124, 147, 166, 143, 157, 162, 138, 117, 153, 161, 170, 162, 162, 144, 133, 114, 103, 139, 116, 88, 151, 152, 163, 99, 169, 158, 160, 169, 132, 178, 96, 165, 160, 172, 144, 192, 168, 132, 182, 163, 125, 195, 95, 160, 114, 173, 172, 179, 158, 167, 122, 149, 172, 111, 170, 162, 165, 182, 154, 155, 130, 161, 154, 159, 152, 152, 174, 131, 146, 125, 115, 174, 106, 122, 147, 163, 163, 194, 150, 158, 122, 173, 162, 105, 147, 157, 112, 160, 125, 156, 156, 175, 161, 122, 158, 151, 162, 151, 171, 141, 173, 145, 178, 160, 154, 131, 187, 159, 166, 165, 131, 202, 172, 172, 154, 147, 170, 126, 127, 174, 132, 182, 132, 97, 136, 162, 190, 146, 140, 185, 161, 146, 145, 160, 120, 156, 172, 150, 182, 143, 160, 142, 144, 158, 148, 155, 142, 113, 188, 153, 123, 157, 162, 137, 132, 158, 171, 172, 132, 160, 171, 168, 162, 173, 153, 148, 108, 115, 169, 143, 156, 162, 155, 152, 152, 164, 131, 143, 179, 130, 174, 161, 140, 146, 144, 163, 169, 150, 166, 144, 144, 136, 182, 90, 123, 132, 141, 115, 174, 173], \"yaxis\": \"y8\"}, {\"marker\": {\"color\": \"rgb(0, 0, 255)\"}, \"showlegend\": false, \"type\": \"box\", \"xaxis\": \"x9\", \"y\": [172, 156, 98, 108, 122, 170, 170, 142, 130, 120, 142, 99, 145, 140, 137, 150, 166, 165, 125, 160, 142, 142, 164, 150, 138, 178, 112, 118, 127, 145, 130, 114, 122, 130, 154, 155, 87, 142, 148, 130, 130, 100, 168, 170, 120, 120, 168, 170, 184, 170, 121, 98, 122, 150, 140, 170, 153, 140, 134, 96, 174, 175, 144, 125, 145, 130, 144, 184, 82, 170, 145, 135, 150, 115, 128, 116, 130, 150, 138, 170, 160, 154, 115, 165, 125, 94, 112, 142, 155, 110, 160, 140, 148, 92, 180, 140, 138, 160, 140, 144, 115, 100, 130, 152, 124, 140, 110, 168, 135, 106, 124, 92, 125, 150, 135, 150, 170, 130, 185, 180, 170, 139, 140, 110, 150, 110, 190, 175, 140, 152, 130, 150, 122, 124, 120, 175, 175, 146, 118, 130, 94, 125, 158, 155, 150, 132, 155, 176, 160, 125, 120, 100, 150, 140, 160, 150, 150, 130, 100, 130, 119, 96, 174, 150, 140, 175, 140, 118, 100, 160, 160, 188, 162, 172, 134, 135, 105, 150, 150, 90, 120, 150, 124, 140, 130, 92, 110, 138, 110, 120, 120, 116, 160, 110, 180, 116, 132, 136, 116, 98, 150, 150, 146, 150, 100, 140, 180, 140, 185, 140, 110, 140, 128, 164, 98, 170, 150, 137, 150, 170, 112, 150, 125, 185, 137, 150, 140, 134, 170, 184, 158, 167, 129, 142, 140, 160, 118, 136, 99, 102, 155, 142, 143, 118, 103, 137, 150, 150, 130, 120, 135, 115, 115, 152, 96, 130, 150, 172, 120, 155, 165, 138, 115, 125, 145, 175, 110, 150, 91, 145, 140, 165, 130, 134, 180, 100, 150, 126, 126, 155, 135, 122, 160, 160, 170, 120, 140, 132, 156, 180, 138, 135, 148, 93, 127, 110, 139, 131, 92, 149, 149, 150, 120, 123, 126, 127, 155, 120, 138, 182, 154, 110, 176, 154, 141, 123, 148, 121, 77, 136, 175, 109, 166, 128, 133, 128, 138, 119, 82, 130, 143, 82, 179, 144, 170, 134, 114, 154, 149, 145, 122, 114, 113, 120, 104, 130, 115, 128, 104, 125, 120, 140, 100, 100, 92, 125, 113, 95, 128, 115, 72, 124, 99, 148, 97, 140, 117, 120, 120, 86, 63, 108, 98, 115, 105, 121, 118, 122, 157, 156, 99, 120, 145, 156, 155, 105, 99, 135, 83, 145, 60, 92, 115, 120, 98, 150, 143, 105, 122, 70, 110, 163, 67, 128, 120, 130, 100, 72, 94, 122, 78, 150, 103, 98, 110, 90, 112, 127, 140, 149, 99, 120, 105, 140, 141, 157, 140, 117, 120, 120, 148, 86, 84, 125, 120, 118, 124, 106, 111, 116, 180, 129, 125, 140, 120, 124, 117, 110, 105, 155, 110, 122, 118, 133, 123, 131, 80, 165, 86, 111, 118, 84, 117, 107, 128, 160, 125, 130, 97, 161, 106, 130, 140, 122, 130, 120, 139, 108, 148, 123, 110, 118, 125, 106, 112, 128, 180, 144, 135, 140, 102, 108, 145, 127, 110, 140, 69, 148, 130, 130, 140, 138, 140, 138, 112, 131, 112, 80, 150, 110, 126, 88, 153, 150, 120, 160, 132, 120, 110, 121, 128, 135, 120, 117, 150, 144, 113, 135, 127, 109, 128, 115, 102, 140, 135, 122, 119, 130, 112, 100, 122, 120, 105, 129, 120, 139, 162, 100, 140, 135, 73, 86, 108, 116, 160, 118, 112, 122, 124, 102, 137, 141, 154, 126, 160, 115, 128, 115, 105, 110, 119, 109, 135, 130, 112, 126, 120, 110, 119, 110, 130, 159, 84, 126, 116, 120, 122, 165, 122, 94, 133, 110, 150, 130, 113, 140, 100, 136, 127, 98, 96, 123, 98, 112, 151, 96, 108, 128, 138, 126, 154, 137, 100, 135, 93, 109, 160, 141, 105, 121, 140, 142, 142, 170, 154, 161, 111, 180, 145, 159, 125, 120, 155, 144, 178, 129, 180, 181, 143, 159, 139, 152, 157, 165, 130, 150, 138, 170, 140, 126, 150, 138, 125, 150, 186, 181, 163, 179, 156, 134, 165, 126, 177, 120, 114, 125, 184, 157, 179, 175, 168, 125, 96, 143, 103, 173, 142, 169, 171, 150, 112, 186, 152, 149, 152, 140, 163, 143, 116, 142, 147, 148, 179, 173, 178, 105, 130, 111, 168, 126, 178, 140, 145, 163, 128, 164, 169, 109, 108, 168, 118, 151, 156, 133, 162, 175, 71, 163, 124, 147, 166, 143, 157, 162, 138, 117, 153, 161, 170, 162, 162, 144, 133, 114, 103, 139, 116, 88, 151, 152, 163, 99, 169, 158, 160, 169, 132, 178, 96, 165, 160, 172, 144, 192, 168, 132, 182, 163, 125, 195, 95, 160, 114, 173, 172, 179, 158, 167, 122, 149, 172, 111, 170, 162, 165, 182, 154, 155, 130, 161, 154, 159, 152, 152, 174, 131, 146, 125, 115, 174, 106, 122, 147, 163, 163, 194, 150, 158, 122, 173, 162, 105, 147, 157, 112, 160, 125, 156, 156, 175, 161, 122, 158, 151, 162, 151, 171, 141, 173, 145, 178, 160, 154, 131, 187, 159, 166, 165, 131, 202, 172, 172, 154, 147, 170, 126, 127, 174, 132, 182, 132, 97, 136, 162, 190, 146, 140, 185, 161, 146, 145, 160, 120, 156, 172, 150, 182, 143, 160, 142, 144, 158, 148, 155, 142, 113, 188, 153, 123, 157, 162, 137, 132, 158, 171, 172, 132, 160, 171, 168, 162, 173, 153, 148, 108, 115, 169, 143, 156, 162, 155, 152, 152, 164, 131, 143, 179, 130, 174, 161, 140, 146, 144, 163, 169, 150, 166, 144, 144, 136, 182, 90, 123, 132, 141, 115, 174, 173], \"yaxis\": \"y9\"}],\n",
              "                        {\"height\": 800, \"showlegend\": true, \"template\": {\"data\": {\"bar\": [{\"error_x\": {\"color\": \"#2a3f5f\"}, \"error_y\": {\"color\": \"#2a3f5f\"}, \"marker\": {\"line\": {\"color\": \"#E5ECF6\", \"width\": 0.5}}, \"type\": \"bar\"}], \"barpolar\": [{\"marker\": {\"line\": {\"color\": \"#E5ECF6\", \"width\": 0.5}}, \"type\": \"barpolar\"}], \"carpet\": [{\"aaxis\": {\"endlinecolor\": \"#2a3f5f\", \"gridcolor\": \"white\", \"linecolor\": \"white\", \"minorgridcolor\": \"white\", \"startlinecolor\": \"#2a3f5f\"}, \"baxis\": {\"endlinecolor\": \"#2a3f5f\", \"gridcolor\": \"white\", \"linecolor\": \"white\", \"minorgridcolor\": \"white\", \"startlinecolor\": \"#2a3f5f\"}, \"type\": \"carpet\"}], \"choropleth\": [{\"colorbar\": {\"outlinewidth\": 0, \"ticks\": \"\"}, \"type\": \"choropleth\"}], \"contour\": [{\"colorbar\": {\"outlinewidth\": 0, \"ticks\": \"\"}, \"colorscale\": [[0.0, \"#0d0887\"], [0.1111111111111111, \"#46039f\"], [0.2222222222222222, \"#7201a8\"], [0.3333333333333333, \"#9c179e\"], [0.4444444444444444, \"#bd3786\"], [0.5555555555555556, \"#d8576b\"], [0.6666666666666666, \"#ed7953\"], [0.7777777777777778, \"#fb9f3a\"], [0.8888888888888888, \"#fdca26\"], [1.0, \"#f0f921\"]], \"type\": \"contour\"}], \"contourcarpet\": [{\"colorbar\": {\"outlinewidth\": 0, \"ticks\": \"\"}, \"type\": \"contourcarpet\"}], \"heatmap\": [{\"colorbar\": {\"outlinewidth\": 0, \"ticks\": \"\"}, \"colorscale\": [[0.0, \"#0d0887\"], [0.1111111111111111, \"#46039f\"], [0.2222222222222222, \"#7201a8\"], [0.3333333333333333, \"#9c179e\"], [0.4444444444444444, \"#bd3786\"], [0.5555555555555556, \"#d8576b\"], [0.6666666666666666, \"#ed7953\"], [0.7777777777777778, \"#fb9f3a\"], [0.8888888888888888, \"#fdca26\"], [1.0, \"#f0f921\"]], \"type\": \"heatmap\"}], \"heatmapgl\": [{\"colorbar\": {\"outlinewidth\": 0, \"ticks\": \"\"}, \"colorscale\": [[0.0, \"#0d0887\"], [0.1111111111111111, \"#46039f\"], [0.2222222222222222, \"#7201a8\"], [0.3333333333333333, \"#9c179e\"], [0.4444444444444444, \"#bd3786\"], [0.5555555555555556, \"#d8576b\"], [0.6666666666666666, \"#ed7953\"], [0.7777777777777778, \"#fb9f3a\"], [0.8888888888888888, \"#fdca26\"], [1.0, \"#f0f921\"]], \"type\": \"heatmapgl\"}], \"histogram\": [{\"marker\": {\"colorbar\": {\"outlinewidth\": 0, \"ticks\": \"\"}}, \"type\": \"histogram\"}], \"histogram2d\": [{\"colorbar\": {\"outlinewidth\": 0, \"ticks\": \"\"}, \"colorscale\": [[0.0, \"#0d0887\"], [0.1111111111111111, \"#46039f\"], [0.2222222222222222, \"#7201a8\"], [0.3333333333333333, \"#9c179e\"], [0.4444444444444444, \"#bd3786\"], [0.5555555555555556, \"#d8576b\"], [0.6666666666666666, \"#ed7953\"], [0.7777777777777778, \"#fb9f3a\"], [0.8888888888888888, \"#fdca26\"], [1.0, \"#f0f921\"]], \"type\": \"histogram2d\"}], \"histogram2dcontour\": [{\"colorbar\": {\"outlinewidth\": 0, \"ticks\": \"\"}, \"colorscale\": [[0.0, \"#0d0887\"], [0.1111111111111111, \"#46039f\"], [0.2222222222222222, \"#7201a8\"], [0.3333333333333333, \"#9c179e\"], [0.4444444444444444, \"#bd3786\"], [0.5555555555555556, \"#d8576b\"], [0.6666666666666666, \"#ed7953\"], [0.7777777777777778, \"#fb9f3a\"], [0.8888888888888888, \"#fdca26\"], [1.0, \"#f0f921\"]], \"type\": \"histogram2dcontour\"}], \"mesh3d\": [{\"colorbar\": {\"outlinewidth\": 0, \"ticks\": \"\"}, \"type\": \"mesh3d\"}], \"parcoords\": [{\"line\": {\"colorbar\": {\"outlinewidth\": 0, \"ticks\": \"\"}}, \"type\": \"parcoords\"}], \"pie\": [{\"automargin\": true, \"type\": \"pie\"}], \"scatter\": [{\"marker\": {\"colorbar\": {\"outlinewidth\": 0, \"ticks\": \"\"}}, \"type\": \"scatter\"}], \"scatter3d\": [{\"line\": {\"colorbar\": {\"outlinewidth\": 0, \"ticks\": \"\"}}, \"marker\": {\"colorbar\": {\"outlinewidth\": 0, \"ticks\": \"\"}}, \"type\": \"scatter3d\"}], \"scattercarpet\": [{\"marker\": {\"colorbar\": {\"outlinewidth\": 0, \"ticks\": \"\"}}, \"type\": \"scattercarpet\"}], \"scattergeo\": [{\"marker\": {\"colorbar\": {\"outlinewidth\": 0, \"ticks\": \"\"}}, \"type\": \"scattergeo\"}], \"scattergl\": [{\"marker\": {\"colorbar\": {\"outlinewidth\": 0, \"ticks\": \"\"}}, \"type\": \"scattergl\"}], \"scattermapbox\": [{\"marker\": {\"colorbar\": {\"outlinewidth\": 0, \"ticks\": \"\"}}, \"type\": \"scattermapbox\"}], \"scatterpolar\": [{\"marker\": {\"colorbar\": {\"outlinewidth\": 0, \"ticks\": \"\"}}, \"type\": \"scatterpolar\"}], \"scatterpolargl\": [{\"marker\": {\"colorbar\": {\"outlinewidth\": 0, \"ticks\": \"\"}}, \"type\": \"scatterpolargl\"}], \"scatterternary\": [{\"marker\": {\"colorbar\": {\"outlinewidth\": 0, \"ticks\": \"\"}}, \"type\": \"scatterternary\"}], \"surface\": [{\"colorbar\": {\"outlinewidth\": 0, \"ticks\": \"\"}, \"colorscale\": [[0.0, \"#0d0887\"], [0.1111111111111111, \"#46039f\"], [0.2222222222222222, \"#7201a8\"], [0.3333333333333333, \"#9c179e\"], [0.4444444444444444, \"#bd3786\"], [0.5555555555555556, \"#d8576b\"], [0.6666666666666666, \"#ed7953\"], [0.7777777777777778, \"#fb9f3a\"], [0.8888888888888888, \"#fdca26\"], [1.0, \"#f0f921\"]], \"type\": \"surface\"}], \"table\": [{\"cells\": {\"fill\": {\"color\": \"#EBF0F8\"}, \"line\": {\"color\": \"white\"}}, \"header\": {\"fill\": {\"color\": \"#C8D4E3\"}, \"line\": {\"color\": \"white\"}}, \"type\": \"table\"}]}, \"layout\": {\"annotationdefaults\": {\"arrowcolor\": \"#2a3f5f\", \"arrowhead\": 0, \"arrowwidth\": 1}, \"coloraxis\": {\"colorbar\": {\"outlinewidth\": 0, \"ticks\": \"\"}}, \"colorscale\": {\"diverging\": [[0, \"#8e0152\"], [0.1, \"#c51b7d\"], [0.2, \"#de77ae\"], [0.3, \"#f1b6da\"], [0.4, \"#fde0ef\"], [0.5, \"#f7f7f7\"], [0.6, \"#e6f5d0\"], [0.7, \"#b8e186\"], [0.8, \"#7fbc41\"], [0.9, \"#4d9221\"], [1, \"#276419\"]], \"sequential\": [[0.0, \"#0d0887\"], [0.1111111111111111, \"#46039f\"], [0.2222222222222222, \"#7201a8\"], [0.3333333333333333, \"#9c179e\"], [0.4444444444444444, \"#bd3786\"], [0.5555555555555556, \"#d8576b\"], [0.6666666666666666, \"#ed7953\"], [0.7777777777777778, \"#fb9f3a\"], [0.8888888888888888, \"#fdca26\"], [1.0, \"#f0f921\"]], \"sequentialminus\": [[0.0, \"#0d0887\"], [0.1111111111111111, \"#46039f\"], [0.2222222222222222, \"#7201a8\"], [0.3333333333333333, \"#9c179e\"], [0.4444444444444444, \"#bd3786\"], [0.5555555555555556, \"#d8576b\"], [0.6666666666666666, \"#ed7953\"], [0.7777777777777778, \"#fb9f3a\"], [0.8888888888888888, \"#fdca26\"], [1.0, \"#f0f921\"]]}, \"colorway\": [\"#636efa\", \"#EF553B\", \"#00cc96\", \"#ab63fa\", \"#FFA15A\", \"#19d3f3\", \"#FF6692\", \"#B6E880\", \"#FF97FF\", \"#FECB52\"], \"font\": {\"color\": \"#2a3f5f\"}, \"geo\": {\"bgcolor\": \"white\", \"lakecolor\": \"white\", \"landcolor\": \"#E5ECF6\", \"showlakes\": true, \"showland\": true, \"subunitcolor\": \"white\"}, \"hoverlabel\": {\"align\": \"left\"}, \"hovermode\": \"closest\", \"mapbox\": {\"style\": \"light\"}, \"paper_bgcolor\": \"white\", \"plot_bgcolor\": \"#E5ECF6\", \"polar\": {\"angularaxis\": {\"gridcolor\": \"white\", \"linecolor\": \"white\", \"ticks\": \"\"}, \"bgcolor\": \"#E5ECF6\", \"radialaxis\": {\"gridcolor\": \"white\", \"linecolor\": \"white\", \"ticks\": \"\"}}, \"scene\": {\"xaxis\": {\"backgroundcolor\": \"#E5ECF6\", \"gridcolor\": \"white\", \"gridwidth\": 2, \"linecolor\": \"white\", \"showbackground\": true, \"ticks\": \"\", \"zerolinecolor\": \"white\"}, \"yaxis\": {\"backgroundcolor\": \"#E5ECF6\", \"gridcolor\": \"white\", \"gridwidth\": 2, \"linecolor\": \"white\", \"showbackground\": true, \"ticks\": \"\", \"zerolinecolor\": \"white\"}, \"zaxis\": {\"backgroundcolor\": \"#E5ECF6\", \"gridcolor\": \"white\", \"gridwidth\": 2, \"linecolor\": \"white\", \"showbackground\": true, \"ticks\": \"\", \"zerolinecolor\": \"white\"}}, \"shapedefaults\": {\"line\": {\"color\": \"#2a3f5f\"}}, \"ternary\": {\"aaxis\": {\"gridcolor\": \"white\", \"linecolor\": \"white\", \"ticks\": \"\"}, \"baxis\": {\"gridcolor\": \"white\", \"linecolor\": \"white\", \"ticks\": \"\"}, \"bgcolor\": \"#E5ECF6\", \"caxis\": {\"gridcolor\": \"white\", \"linecolor\": \"white\", \"ticks\": \"\"}}, \"title\": {\"x\": 0.05}, \"xaxis\": {\"automargin\": true, \"gridcolor\": \"white\", \"linecolor\": \"white\", \"ticks\": \"\", \"title\": {\"standoff\": 15}, \"zerolinecolor\": \"white\", \"zerolinewidth\": 2}, \"yaxis\": {\"automargin\": true, \"gridcolor\": \"white\", \"linecolor\": \"white\", \"ticks\": \"\", \"title\": {\"standoff\": 15}, \"zerolinecolor\": \"white\", \"zerolinewidth\": 2}}}, \"title\": {\"text\": \"Scatterplot Matrix\"}, \"width\": 800, \"xaxis\": {\"anchor\": \"y\", \"domain\": [0.0, 0.2888888888888889], \"showticklabels\": false}, \"xaxis2\": {\"anchor\": \"y2\", \"domain\": [0.35555555555555557, 0.6444444444444445]}, \"xaxis3\": {\"anchor\": \"y3\", \"domain\": [0.7111111111111111, 1.0]}, \"xaxis4\": {\"anchor\": \"y4\", \"domain\": [0.0, 0.2888888888888889]}, \"xaxis5\": {\"anchor\": \"y5\", \"domain\": [0.35555555555555557, 0.6444444444444445], \"showticklabels\": false}, \"xaxis6\": {\"anchor\": \"y6\", \"domain\": [0.7111111111111111, 1.0]}, \"xaxis7\": {\"anchor\": \"y7\", \"domain\": [0.0, 0.2888888888888889], \"title\": {\"text\": \"RestingBP\"}}, \"xaxis8\": {\"anchor\": \"y8\", \"domain\": [0.35555555555555557, 0.6444444444444445], \"title\": {\"text\": \"Cholesterol\"}}, \"xaxis9\": {\"anchor\": \"y9\", \"domain\": [0.7111111111111111, 1.0], \"showticklabels\": false, \"title\": {\"text\": \"MaxHR\"}}, \"yaxis\": {\"anchor\": \"x\", \"domain\": [0.7333333333333333, 1.0], \"title\": {\"text\": \"RestingBP\"}}, \"yaxis2\": {\"anchor\": \"x2\", \"domain\": [0.7333333333333333, 1.0]}, \"yaxis3\": {\"anchor\": \"x3\", \"domain\": [0.7333333333333333, 1.0]}, \"yaxis4\": {\"anchor\": \"x4\", \"domain\": [0.36666666666666664, 0.6333333333333333], \"title\": {\"text\": \"Cholesterol\"}}, \"yaxis5\": {\"anchor\": \"x5\", \"domain\": [0.36666666666666664, 0.6333333333333333]}, \"yaxis6\": {\"anchor\": \"x6\", \"domain\": [0.36666666666666664, 0.6333333333333333]}, \"yaxis7\": {\"anchor\": \"x7\", \"domain\": [0.0, 0.26666666666666666], \"title\": {\"text\": \"MaxHR\"}}, \"yaxis8\": {\"anchor\": \"x8\", \"domain\": [0.0, 0.26666666666666666]}, \"yaxis9\": {\"anchor\": \"x9\", \"domain\": [0.0, 0.26666666666666666]}},\n",
              "                        {\"responsive\": true}\n",
              "                    ).then(function(){\n",
              "                            \n",
              "var gd = document.getElementById('0f65bfe4-3143-4979-b853-31ee6e195265');\n",
              "var x = new MutationObserver(function (mutations, observer) {{\n",
              "        var display = window.getComputedStyle(gd).display;\n",
              "        if (!display || display === 'none') {{\n",
              "            console.log([gd, 'removed!']);\n",
              "            Plotly.purge(gd);\n",
              "            observer.disconnect();\n",
              "        }}\n",
              "}});\n",
              "\n",
              "// Listen for the removal of the full notebook cells\n",
              "var notebookContainer = gd.closest('#notebook-container');\n",
              "if (notebookContainer) {{\n",
              "    x.observe(notebookContainer, {childList: true});\n",
              "}}\n",
              "\n",
              "// Listen for the clearing of the current output cell\n",
              "var outputEl = gd.closest('.output');\n",
              "if (outputEl) {{\n",
              "    x.observe(outputEl, {childList: true});\n",
              "}}\n",
              "\n",
              "                        })\n",
              "                };\n",
              "                \n",
              "            </script>\n",
              "        </div>\n",
              "</body>\n",
              "</html>"
            ]
          },
          "metadata": {}
        }
      ]
    },
    {
      "cell_type": "markdown",
      "metadata": {
        "id": "YNbwx4Dd9LJJ"
      },
      "source": [
        "# Data preprocessing"
      ]
    },
    {
      "cell_type": "markdown",
      "metadata": {
        "id": "U86zTvepGSNC"
      },
      "source": [
        "**Splitting the target and the features**"
      ]
    },
    {
      "cell_type": "code",
      "metadata": {
        "id": "ExmuXr8nGcS8"
      },
      "source": [
        "x = data.iloc[:,:-1].values\n",
        "y = data.iloc[:,-1].values"
      ],
      "execution_count": null,
      "outputs": []
    },
    {
      "cell_type": "code",
      "metadata": {
        "colab": {
          "base_uri": "https://localhost:8080/"
        },
        "id": "IAaAn9ce-fw2",
        "outputId": "f84c2d82-d1a1-442e-c24d-816b12b30ed4"
      },
      "source": [
        "x.shape\n",
        "\n"
      ],
      "execution_count": null,
      "outputs": [
        {
          "output_type": "execute_result",
          "data": {
            "text/plain": [
              "(918, 11)"
            ]
          },
          "metadata": {},
          "execution_count": 22
        }
      ]
    },
    {
      "cell_type": "code",
      "metadata": {
        "colab": {
          "base_uri": "https://localhost:8080/"
        },
        "id": "4CRXT0UBkuw7",
        "outputId": "d0d90ff7-b5bd-4cb6-8a3a-3ec451a6691e"
      },
      "source": [
        "y.shape"
      ],
      "execution_count": null,
      "outputs": [
        {
          "output_type": "execute_result",
          "data": {
            "text/plain": [
              "(918,)"
            ]
          },
          "metadata": {},
          "execution_count": 23
        }
      ]
    },
    {
      "cell_type": "code",
      "metadata": {
        "id": "Gyt15ANnBF0Q"
      },
      "source": [
        "\n",
        "#Label Encoding the object dtypes.\n",
        "le = LabelEncoder()\n",
        "x[:,1] = le.fit_transform(x[:,1])\n",
        "x[:,6] = le.fit_transform(x[:,6])\n",
        "x[:,8] = le.fit_transform(x[:,8])\n"
      ],
      "execution_count": null,
      "outputs": []
    },
    {
      "cell_type": "code",
      "metadata": {
        "id": "7aN0_pMmB4Qe"
      },
      "source": [
        "x"
      ],
      "execution_count": null,
      "outputs": []
    },
    {
      "cell_type": "code",
      "metadata": {
        "id": "wgnOsTAyCgO9"
      },
      "source": [
        "enc = OneHotEncoder()\n",
        "ct = ColumnTransformer(transformers=[('encoder', OneHotEncoder(), [2 ,10])], remainder='passthrough')\n",
        "x = np.array(ct.fit_transform(x))"
      ],
      "execution_count": null,
      "outputs": []
    },
    {
      "cell_type": "code",
      "metadata": {
        "id": "xGmnGf8QFLTn"
      },
      "source": [
        "x"
      ],
      "execution_count": null,
      "outputs": []
    },
    {
      "cell_type": "markdown",
      "metadata": {
        "id": "jZcVQN0zIPfW"
      },
      "source": [
        "**Splitting the data into training & test data**"
      ]
    },
    {
      "cell_type": "code",
      "metadata": {
        "id": "bPcEmrkMIcrD"
      },
      "source": [
        "x_train, x_test, y_train, y_test= train_test_split(x,y, test_size=0.2 , stratify=y, random_state=1)"
      ],
      "execution_count": null,
      "outputs": []
    },
    {
      "cell_type": "code",
      "metadata": {
        "id": "wQnUTi8OS3n6"
      },
      "source": [
        "S = MinMaxScaler()\n",
        "x_train = S.fit_transform(x_train)\n",
        "x_test = S.fit_transform(x_test)\n"
      ],
      "execution_count": null,
      "outputs": []
    },
    {
      "cell_type": "code",
      "metadata": {
        "id": "KU_0A9HaoFRs"
      },
      "source": [
        "x_train"
      ],
      "execution_count": null,
      "outputs": []
    },
    {
      "cell_type": "markdown",
      "metadata": {
        "id": "5ZCQ_p_TMW4Z"
      },
      "source": [
        "# 1- Logistic regression"
      ]
    },
    {
      "cell_type": "code",
      "metadata": {
        "id": "zhDhiE4RMucQ"
      },
      "source": [
        "#Load Logistic regression model to the 'LR' variable\n",
        "LR = LogisticRegression()"
      ],
      "execution_count": null,
      "outputs": []
    },
    {
      "cell_type": "code",
      "metadata": {
        "colab": {
          "base_uri": "https://localhost:8080/"
        },
        "id": "SwG7_w-qOes2",
        "outputId": "a69f31ce-e4fc-45c6-9dc0-2e0604d6571a"
      },
      "source": [
        "#training the model using train data\n",
        "LR.fit(x_train, y_train)"
      ],
      "execution_count": null,
      "outputs": [
        {
          "output_type": "execute_result",
          "data": {
            "text/plain": [
              "LogisticRegression()"
            ]
          },
          "metadata": {},
          "execution_count": 32
        }
      ]
    },
    {
      "cell_type": "code",
      "metadata": {
        "colab": {
          "base_uri": "https://localhost:8080/"
        },
        "id": "5fEA91XDoAu0",
        "outputId": "8b009cc7-96aa-4165-d141-0305672a7092"
      },
      "source": [
        "y_pred_LR = LR.predict(x_test)\n",
        "cm = confusion_matrix(y_test, y_pred_LR)\n",
        "LR_report = classification_report(y_test, y_pred_LR)\n",
        "f1_score(y_test ,y_pred_LR)\n",
        "accuracy_score(y_test ,y_pred_LR)"
      ],
      "execution_count": null,
      "outputs": [
        {
          "output_type": "execute_result",
          "data": {
            "text/plain": [
              "0.8369565217391305"
            ]
          },
          "metadata": {},
          "execution_count": 33
        }
      ]
    },
    {
      "cell_type": "code",
      "metadata": {
        "colab": {
          "base_uri": "https://localhost:8080/"
        },
        "id": "YoUxA6t-rWXS",
        "outputId": "466457bf-b4d6-41c6-ac17-dcf67991a554"
      },
      "source": [
        "print(LR_report)"
      ],
      "execution_count": null,
      "outputs": [
        {
          "output_type": "stream",
          "name": "stdout",
          "text": [
            "              precision    recall  f1-score   support\n",
            "\n",
            "           0       0.84      0.78      0.81        82\n",
            "           1       0.83      0.88      0.86       102\n",
            "\n",
            "    accuracy                           0.84       184\n",
            "   macro avg       0.84      0.83      0.83       184\n",
            "weighted avg       0.84      0.84      0.84       184\n",
            "\n"
          ]
        }
      ]
    },
    {
      "cell_type": "markdown",
      "source": [
        "**Cross-validation**"
      ],
      "metadata": {
        "id": "V3uNECCiBD2_"
      }
    },
    {
      "cell_type": "code",
      "source": [
        "scores_LR = cross_val_score(LR, x, y, cv=5)\n",
        "scores_LR"
      ],
      "metadata": {
        "id": "iK9chydKBOkN"
      },
      "execution_count": null,
      "outputs": []
    },
    {
      "cell_type": "code",
      "source": [
        "print(\"%0.2f accuracy with a standard deviation of %0.2f\" % (scores_LR.mean(), scores_LR.std()))"
      ],
      "metadata": {
        "colab": {
          "base_uri": "https://localhost:8080/"
        },
        "outputId": "e07a150f-d79c-4cf5-95cb-b00123279113",
        "id": "8GsgyBABBOkN"
      },
      "execution_count": null,
      "outputs": [
        {
          "output_type": "stream",
          "name": "stdout",
          "text": [
            "0.84 accuracy with a standard deviation of 0.04\n"
          ]
        }
      ]
    },
    {
      "cell_type": "code",
      "metadata": {
        "colab": {
          "base_uri": "https://localhost:8080/",
          "height": 386
        },
        "id": "VGCHtz46uR4u",
        "outputId": "eb00b492-b61a-42cc-f4f7-94a6935527f0"
      },
      "source": [
        "plot_roc_curve(LR, x_test, y_test)"
      ],
      "execution_count": null,
      "outputs": [
        {
          "output_type": "stream",
          "name": "stderr",
          "text": [
            "/usr/local/lib/python3.7/dist-packages/sklearn/utils/deprecation.py:87: FutureWarning:\n",
            "\n",
            "Function plot_roc_curve is deprecated; Function `plot_roc_curve` is deprecated in 1.0 and will be removed in 1.2. Use one of the class methods: RocCurveDisplay.from_predictions or RocCurveDisplay.from_estimator.\n",
            "\n"
          ]
        },
        {
          "output_type": "execute_result",
          "data": {
            "text/plain": [
              "<sklearn.metrics._plot.roc_curve.RocCurveDisplay at 0x7f43a37bfd50>"
            ]
          },
          "metadata": {},
          "execution_count": 37
        },
        {
          "output_type": "display_data",
          "data": {
            "image/png": "[encoded data removed]",
            "text/plain": [
              "<Figure size 432x288 with 1 Axes>"
            ]
          },
          "metadata": {
            "needs_background": "light"
          }
        }
      ]
    },
    {
      "cell_type": "code",
      "metadata": {
        "colab": {
          "base_uri": "https://localhost:8080/",
          "height": 286
        },
        "id": "AdA0zk74u49U",
        "outputId": "3e52edd7-056c-4527-a287-7accf3d88064"
      },
      "source": [
        "sns.heatmap(confusion_matrix(y_test, y_pred_LR), annot=True, cmap='OrRd', fmt='g')\n"
      ],
      "execution_count": null,
      "outputs": [
        {
          "output_type": "execute_result",
          "data": {
            "text/plain": [
              "<matplotlib.axes._subplots.AxesSubplot at 0x7f43a3a67c10>"
            ]
          },
          "metadata": {},
          "execution_count": 38
        },
        {
          "output_type": "display_data",
          "data": {
            "image/png": "[encoded data removed]",
            "text/plain": [
              "<Figure size 432x288 with 2 Axes>"
            ]
          },
          "metadata": {
            "needs_background": "light"
          }
        }
      ]
    },
    {
      "cell_type": "markdown",
      "metadata": {
        "id": "tUYS3EWZhRvp"
      },
      "source": [
        "# 2- Decision trees"
      ]
    },
    {
      "cell_type": "code",
      "metadata": {
        "id": "x1PgvmX0hRNF"
      },
      "source": [
        "#Load Decision tree model to the 'DT' variable\n",
        "DT = tree.DecisionTreeClassifier()"
      ],
      "execution_count": null,
      "outputs": []
    },
    {
      "cell_type": "code",
      "metadata": {
        "colab": {
          "base_uri": "https://localhost:8080/"
        },
        "id": "DVBKfeSQhyzW",
        "outputId": "ce652dca-5b6a-48fc-f447-2d5119cddf46"
      },
      "source": [
        "#training the model using train data\n",
        "DT.fit(x_train, y_train)"
      ],
      "execution_count": null,
      "outputs": [
        {
          "output_type": "execute_result",
          "data": {
            "text/plain": [
              "DecisionTreeClassifier()"
            ]
          },
          "metadata": {},
          "execution_count": 40
        }
      ]
    },
    {
      "cell_type": "code",
      "metadata": {
        "colab": {
          "base_uri": "https://localhost:8080/"
        },
        "id": "sNblyv8Trzbm",
        "outputId": "910ed078-013b-4fd9-aff8-243c25d8e50b"
      },
      "source": [
        "y_pred_DT = DT.predict(x_test)\n",
        "cm = confusion_matrix(y_test, y_pred_DT)\n",
        "DT_report = classification_report(y_test, y_pred_DT)\n",
        "f1_score(y_test ,y_pred_DT)\n",
        "accuracy_score(y_test ,y_pred_DT)"
      ],
      "execution_count": null,
      "outputs": [
        {
          "output_type": "execute_result",
          "data": {
            "text/plain": [
              "0.6684782608695652"
            ]
          },
          "metadata": {},
          "execution_count": 41
        }
      ]
    },
    {
      "cell_type": "code",
      "metadata": {
        "colab": {
          "base_uri": "https://localhost:8080/"
        },
        "id": "RSUBCuuQ10LY",
        "outputId": "00569439-c48d-4076-f019-07efee8a30be"
      },
      "source": [
        "print(DT_report)"
      ],
      "execution_count": null,
      "outputs": [
        {
          "output_type": "stream",
          "name": "stdout",
          "text": [
            "              precision    recall  f1-score   support\n",
            "\n",
            "           0       0.62      0.66      0.64        82\n",
            "           1       0.71      0.68      0.69       102\n",
            "\n",
            "    accuracy                           0.67       184\n",
            "   macro avg       0.67      0.67      0.67       184\n",
            "weighted avg       0.67      0.67      0.67       184\n",
            "\n"
          ]
        }
      ]
    },
    {
      "cell_type": "markdown",
      "source": [
        "**Cross-validation**"
      ],
      "metadata": {
        "id": "CJKenUJ7BFz_"
      }
    },
    {
      "cell_type": "code",
      "source": [
        "scores_DT = cross_val_score(DT, x, y, cv=5)\n",
        "scores_DT"
      ],
      "metadata": {
        "colab": {
          "base_uri": "https://localhost:8080/"
        },
        "outputId": "6c3e2cd4-50d9-4d89-e091-c414ab07186d",
        "id": "djID_pnWBISb"
      },
      "execution_count": null,
      "outputs": [
        {
          "output_type": "execute_result",
          "data": {
            "text/plain": [
              "array([0.75543478, 0.76630435, 0.79347826, 0.75956284, 0.63387978])"
            ]
          },
          "metadata": {},
          "execution_count": 43
        }
      ]
    },
    {
      "cell_type": "code",
      "source": [
        "print(\"%0.2f accuracy with a standard deviation of %0.2f\" % (scores_DT.mean(), scores_DT.std()))"
      ],
      "metadata": {
        "colab": {
          "base_uri": "https://localhost:8080/"
        },
        "outputId": "6cb06656-ed9b-423e-dafb-8f8a7f07bee3",
        "id": "evxBFhZNBISb"
      },
      "execution_count": null,
      "outputs": [
        {
          "output_type": "stream",
          "name": "stdout",
          "text": [
            "0.74 accuracy with a standard deviation of 0.06\n"
          ]
        }
      ]
    },
    {
      "cell_type": "code",
      "metadata": {
        "colab": {
          "base_uri": "https://localhost:8080/",
          "height": 386
        },
        "id": "o7I_RG1f2GlS",
        "outputId": "ebfd220c-301d-4d8b-d970-33667ea69de4"
      },
      "source": [
        "plot_roc_curve(DT, x_test, y_test)"
      ],
      "execution_count": null,
      "outputs": [
        {
          "output_type": "stream",
          "name": "stderr",
          "text": [
            "/usr/local/lib/python3.7/dist-packages/sklearn/utils/deprecation.py:87: FutureWarning:\n",
            "\n",
            "Function plot_roc_curve is deprecated; Function `plot_roc_curve` is deprecated in 1.0 and will be removed in 1.2. Use one of the class methods: RocCurveDisplay.from_predictions or RocCurveDisplay.from_estimator.\n",
            "\n"
          ]
        },
        {
          "output_type": "execute_result",
          "data": {
            "text/plain": [
              "<sklearn.metrics._plot.roc_curve.RocCurveDisplay at 0x7f439a979cd0>"
            ]
          },
          "metadata": {},
          "execution_count": 45
        },
        {
          "output_type": "display_data",
          "data": {
            "image/png": "[encoded data removed]",
            "text/plain": [
              "<Figure size 432x288 with 1 Axes>"
            ]
          },
          "metadata": {
            "needs_background": "light"
          }
        }
      ]
    },
    {
      "cell_type": "code",
      "metadata": {
        "colab": {
          "base_uri": "https://localhost:8080/",
          "height": 282
        },
        "id": "7Q_ClREa2Le4",
        "outputId": "de9dcc92-0a8d-4aae-dd1f-7b8ebc1cd863"
      },
      "source": [
        "sns.heatmap(confusion_matrix(y_test, y_pred_DT), annot=True, cmap='OrRd', fmt='g')"
      ],
      "execution_count": null,
      "outputs": [
        {
          "output_type": "execute_result",
          "data": {
            "text/plain": [
              "<matplotlib.axes._subplots.AxesSubplot at 0x7f43a3b02cd0>"
            ]
          },
          "metadata": {},
          "execution_count": 46
        },
        {
          "output_type": "display_data",
          "data": {
            "image/png": "[encoded data removed]",
            "text/plain": [
              "<Figure size 432x288 with 2 Axes>"
            ]
          },
          "metadata": {
            "needs_background": "light"
          }
        }
      ]
    },
    {
      "cell_type": "markdown",
      "metadata": {
        "id": "sJE8fYWy3XLu"
      },
      "source": [
        "# 3- Support Vector machine"
      ]
    },
    {
      "cell_type": "code",
      "metadata": {
        "id": "evQ3shbg3hkr"
      },
      "source": [
        "#Load SVM tree model to the 'clf' variable\n",
        "clf = svm.SVC(kernel='linear', C=1, random_state=42)\n",
        "\n"
      ],
      "execution_count": null,
      "outputs": []
    },
    {
      "cell_type": "code",
      "metadata": {
        "colab": {
          "base_uri": "https://localhost:8080/"
        },
        "id": "bsy2vF443sc8",
        "outputId": "1edd5490-f710-4c4c-f398-296df173543e"
      },
      "source": [
        "#training the model using train data\n",
        "clf.fit(x_train, y_train)"
      ],
      "execution_count": null,
      "outputs": [
        {
          "output_type": "execute_result",
          "data": {
            "text/plain": [
              "SVC(C=1, kernel='linear', random_state=42)"
            ]
          },
          "metadata": {},
          "execution_count": 48
        }
      ]
    },
    {
      "cell_type": "code",
      "metadata": {
        "colab": {
          "base_uri": "https://localhost:8080/"
        },
        "id": "jiFFHQcq3srs",
        "outputId": "2f38b794-624a-4733-db91-01603fca1d69"
      },
      "source": [
        "y_pred_clf = clf.predict(x_test)\n",
        "cm = confusion_matrix(y_test, y_pred_clf)\n",
        "clf_report = classification_report(y_test, y_pred_clf)\n",
        "f1_score(y_test ,y_pred_clf)\n",
        "accuracy_score(y_test ,y_pred_clf)"
      ],
      "execution_count": null,
      "outputs": [
        {
          "output_type": "execute_result",
          "data": {
            "text/plain": [
              "0.8369565217391305"
            ]
          },
          "metadata": {},
          "execution_count": 49
        }
      ]
    },
    {
      "cell_type": "code",
      "metadata": {
        "colab": {
          "base_uri": "https://localhost:8080/"
        },
        "id": "359V5rrP5AAv",
        "outputId": "20687a72-64c3-4924-ec08-f0b2c4bbee22"
      },
      "source": [
        "print(clf_report)"
      ],
      "execution_count": null,
      "outputs": [
        {
          "output_type": "stream",
          "name": "stdout",
          "text": [
            "              precision    recall  f1-score   support\n",
            "\n",
            "           0       0.86      0.76      0.81        82\n",
            "           1       0.82      0.90      0.86       102\n",
            "\n",
            "    accuracy                           0.84       184\n",
            "   macro avg       0.84      0.83      0.83       184\n",
            "weighted avg       0.84      0.84      0.84       184\n",
            "\n"
          ]
        }
      ]
    },
    {
      "cell_type": "markdown",
      "source": [
        "**Cross-validation**"
      ],
      "metadata": {
        "id": "kx1jOEvPAiSN"
      }
    },
    {
      "cell_type": "code",
      "source": [
        "scores_clf = cross_val_score(clf, x, y, cv=5)\n",
        "scores_clf"
      ],
      "metadata": {
        "colab": {
          "base_uri": "https://localhost:8080/"
        },
        "id": "XCcH0k6R-ylT",
        "outputId": "a72d6beb-e734-46f8-ef9c-f4029f2717e9"
      },
      "execution_count": null,
      "outputs": [
        {
          "output_type": "execute_result",
          "data": {
            "text/plain": [
              "array([0.85869565, 0.8423913 , 0.85869565, 0.85245902, 0.7431694 ])"
            ]
          },
          "metadata": {},
          "execution_count": 51
        }
      ]
    },
    {
      "cell_type": "code",
      "source": [
        "print(\"%0.2f accuracy with a standard deviation of %0.2f\" % (scores_clf.mean(), scores_clf.std()))"
      ],
      "metadata": {
        "colab": {
          "base_uri": "https://localhost:8080/"
        },
        "id": "2WFzDCg--ndl",
        "outputId": "5a31aa5c-0720-4828-8980-28be78155b78"
      },
      "execution_count": null,
      "outputs": [
        {
          "output_type": "stream",
          "name": "stdout",
          "text": [
            "0.83 accuracy with a standard deviation of 0.04\n"
          ]
        }
      ]
    },
    {
      "cell_type": "code",
      "metadata": {
        "colab": {
          "base_uri": "https://localhost:8080/",
          "height": 386
        },
        "id": "D44aSnUi5NUi",
        "outputId": "950b08b2-dbfb-4790-dcc3-6e720f3c69cb"
      },
      "source": [
        "plot_roc_curve(clf, x_test, y_test)"
      ],
      "execution_count": null,
      "outputs": [
        {
          "output_type": "stream",
          "name": "stderr",
          "text": [
            "/usr/local/lib/python3.7/dist-packages/sklearn/utils/deprecation.py:87: FutureWarning:\n",
            "\n",
            "Function plot_roc_curve is deprecated; Function `plot_roc_curve` is deprecated in 1.0 and will be removed in 1.2. Use one of the class methods: RocCurveDisplay.from_predictions or RocCurveDisplay.from_estimator.\n",
            "\n"
          ]
        },
        {
          "output_type": "execute_result",
          "data": {
            "text/plain": [
              "<sklearn.metrics._plot.roc_curve.RocCurveDisplay at 0x7f439a940d10>"
            ]
          },
          "metadata": {},
          "execution_count": 53
        },
        {
          "output_type": "display_data",
          "data": {
            "image/png": "[encoded data removed]",
            "text/plain": [
              "<Figure size 432x288 with 1 Axes>"
            ]
          },
          "metadata": {
            "needs_background": "light"
          }
        }
      ]
    },
    {
      "cell_type": "code",
      "metadata": {
        "colab": {
          "base_uri": "https://localhost:8080/",
          "height": 282
        },
        "id": "TdcplT8L5f7S",
        "outputId": "48869a64-7b85-4a7c-bd2e-e639280e65b2"
      },
      "source": [
        "sns.heatmap(confusion_matrix(y_test, y_pred_clf), annot=True, cmap='OrRd', fmt='g')"
      ],
      "execution_count": null,
      "outputs": [
        {
          "output_type": "execute_result",
          "data": {
            "text/plain": [
              "<matplotlib.axes._subplots.AxesSubplot at 0x7f439aefa150>"
            ]
          },
          "metadata": {},
          "execution_count": 54
        },
        {
          "output_type": "display_data",
          "data": {
            "image/png": "[encoded data removed]",
            "text/plain": [
              "<Figure size 432x288 with 2 Axes>"
            ]
          },
          "metadata": {
            "needs_background": "light"
          }
        }
      ]
    },
    {
      "cell_type": "markdown",
      "metadata": {
        "id": "xDqOEUF4EYXm"
      },
      "source": [
        "# 4- Random Forest"
      ]
    },
    {
      "cell_type": "code",
      "metadata": {
        "id": "VkdihZD7EYXu"
      },
      "source": [
        "#Load Random forest tree model to the 'RF' variable\n",
        "RF = RandomForestClassifier()\n",
        "\n"
      ],
      "execution_count": null,
      "outputs": []
    },
    {
      "cell_type": "code",
      "metadata": {
        "colab": {
          "base_uri": "https://localhost:8080/"
        },
        "outputId": "d3dc9cf9-4e48-4b38-ae5f-00c07fb651b3",
        "id": "bmI47MJWEYXu"
      },
      "source": [
        "#training the model using train data\n",
        "RF.fit(x_train, y_train)"
      ],
      "execution_count": null,
      "outputs": [
        {
          "output_type": "execute_result",
          "data": {
            "text/plain": [
              "RandomForestClassifier()"
            ]
          },
          "metadata": {},
          "execution_count": 56
        }
      ]
    },
    {
      "cell_type": "code",
      "metadata": {
        "colab": {
          "base_uri": "https://localhost:8080/"
        },
        "outputId": "9d483bf7-28a0-4ea6-d729-892c98f28aa0",
        "id": "xhUNUT-eEYXv"
      },
      "source": [
        "y_pred_RF = RF.predict(x_test)\n",
        "cm = confusion_matrix(y_test, y_pred_RF)\n",
        "RF_report = classification_report(y_test, y_pred_RF)\n",
        "f1_score(y_test ,y_pred_RF)\n",
        "accuracy_score(y_test ,y_pred_RF)"
      ],
      "execution_count": null,
      "outputs": [
        {
          "output_type": "execute_result",
          "data": {
            "text/plain": [
              "0.8097826086956522"
            ]
          },
          "metadata": {},
          "execution_count": 57
        }
      ]
    },
    {
      "cell_type": "code",
      "metadata": {
        "colab": {
          "base_uri": "https://localhost:8080/"
        },
        "outputId": "bc0858fe-437d-4db5-fbf0-41ff2901ecfb",
        "id": "pAQ6D2mWEYXv"
      },
      "source": [
        "print(RF_report)"
      ],
      "execution_count": null,
      "outputs": [
        {
          "output_type": "stream",
          "name": "stdout",
          "text": [
            "              precision    recall  f1-score   support\n",
            "\n",
            "           0       0.87      0.67      0.76        82\n",
            "           1       0.78      0.92      0.84       102\n",
            "\n",
            "    accuracy                           0.81       184\n",
            "   macro avg       0.82      0.80      0.80       184\n",
            "weighted avg       0.82      0.81      0.81       184\n",
            "\n"
          ]
        }
      ]
    },
    {
      "cell_type": "markdown",
      "source": [
        "**Cross-validation**"
      ],
      "metadata": {
        "id": "HyBekwedAsEz"
      }
    },
    {
      "cell_type": "code",
      "source": [
        "scores_RF = cross_val_score(RF, x, y, cv=5)\n",
        "scores_RF"
      ],
      "metadata": {
        "colab": {
          "base_uri": "https://localhost:8080/"
        },
        "outputId": "6f1c6cc0-aeb4-47a8-99a0-09eb8b132e2e",
        "id": "8Wm-c7Lm_JvM"
      },
      "execution_count": null,
      "outputs": [
        {
          "output_type": "execute_result",
          "data": {
            "text/plain": [
              "array([0.89673913, 0.83152174, 0.83152174, 0.84699454, 0.7704918 ])"
            ]
          },
          "metadata": {},
          "execution_count": 59
        }
      ]
    },
    {
      "cell_type": "code",
      "source": [
        "print(\"%0.2f accuracy with a standard deviation of %0.2f\" % (scores_RF.mean(), scores_RF.std()))"
      ],
      "metadata": {
        "colab": {
          "base_uri": "https://localhost:8080/"
        },
        "outputId": "e3febd48-c6a8-4ecb-fe6d-e3db79a372ae",
        "id": "v-LUBNLK_JvM"
      },
      "execution_count": null,
      "outputs": [
        {
          "output_type": "stream",
          "name": "stdout",
          "text": [
            "0.84 accuracy with a standard deviation of 0.04\n"
          ]
        }
      ]
    },
    {
      "cell_type": "code",
      "metadata": {
        "colab": {
          "base_uri": "https://localhost:8080/",
          "height": 386
        },
        "outputId": "b5f0e34f-6394-4b33-caf0-9fdb5960b50e",
        "id": "oHdm7RJiEYXv"
      },
      "source": [
        "plot_roc_curve(RF, x_test, y_test)"
      ],
      "execution_count": null,
      "outputs": [
        {
          "output_type": "stream",
          "name": "stderr",
          "text": [
            "/usr/local/lib/python3.7/dist-packages/sklearn/utils/deprecation.py:87: FutureWarning:\n",
            "\n",
            "Function plot_roc_curve is deprecated; Function `plot_roc_curve` is deprecated in 1.0 and will be removed in 1.2. Use one of the class methods: RocCurveDisplay.from_predictions or RocCurveDisplay.from_estimator.\n",
            "\n"
          ]
        },
        {
          "output_type": "execute_result",
          "data": {
            "text/plain": [
              "<sklearn.metrics._plot.roc_curve.RocCurveDisplay at 0x7f43a3900050>"
            ]
          },
          "metadata": {},
          "execution_count": 61
        },
        {
          "output_type": "display_data",
          "data": {
            "image/png": "[encoded data removed]",
            "text/plain": [
              "<Figure size 432x288 with 1 Axes>"
            ]
          },
          "metadata": {
            "needs_background": "light"
          }
        }
      ]
    },
    {
      "cell_type": "code",
      "metadata": {
        "colab": {
          "base_uri": "https://localhost:8080/",
          "height": 282
        },
        "outputId": "8c3e3095-26ff-437f-e43c-d46ecbf4c024",
        "id": "3WQMJGYTEYXv"
      },
      "source": [
        "sns.heatmap(confusion_matrix(y_test, y_pred_RF), annot=True, cmap='OrRd', fmt='g')"
      ],
      "execution_count": null,
      "outputs": [
        {
          "output_type": "execute_result",
          "data": {
            "text/plain": [
              "<matplotlib.axes._subplots.AxesSubplot at 0x7f43a36ae350>"
            ]
          },
          "metadata": {},
          "execution_count": 62
        },
        {
          "output_type": "display_data",
          "data": {
            "image/png": "[encoded data removed]",
            "text/plain": [
              "<Figure size 432x288 with 2 Axes>"
            ]
          },
          "metadata": {
            "needs_background": "light"
          }
        }
      ]
    },
    {
      "cell_type": "markdown",
      "metadata": {
        "id": "O_mWVoRAFpYr"
      },
      "source": [
        "# 5- K-Nearest Neighbors"
      ]
    },
    {
      "cell_type": "code",
      "metadata": {
        "id": "pL7KlHYXFpYy"
      },
      "source": [
        "#Load K-Nearest Neighbours model to the 'nbrs' variable\n",
        "nbrs = KNeighborsClassifier()\n",
        "\n"
      ],
      "execution_count": null,
      "outputs": []
    },
    {
      "cell_type": "code",
      "metadata": {
        "colab": {
          "base_uri": "https://localhost:8080/"
        },
        "outputId": "634bc8b2-6035-4ec3-de02-153c479ac146",
        "id": "hIL0Cd6eFpYz"
      },
      "source": [
        "#training the model using train data\n",
        "nbrs.fit(x_train, y_train)"
      ],
      "execution_count": null,
      "outputs": [
        {
          "output_type": "execute_result",
          "data": {
            "text/plain": [
              "KNeighborsClassifier()"
            ]
          },
          "metadata": {},
          "execution_count": 64
        }
      ]
    },
    {
      "cell_type": "code",
      "metadata": {
        "colab": {
          "base_uri": "https://localhost:8080/"
        },
        "outputId": "ea273ad1-9f9f-41c5-a553-1044b2187949",
        "id": "h1Ufj5xyFpYz"
      },
      "source": [
        "y_pred_nbrs = nbrs.predict(x_test)\n",
        "cm = confusion_matrix(y_test, y_pred_nbrs)\n",
        "nbrs_report = classification_report(y_test, y_pred_nbrs)\n",
        "f1_score(y_test ,y_pred_nbrs)\n",
        "accuracy_score(y_test ,y_pred_nbrs)"
      ],
      "execution_count": null,
      "outputs": [
        {
          "output_type": "execute_result",
          "data": {
            "text/plain": [
              "0.8586956521739131"
            ]
          },
          "metadata": {},
          "execution_count": 65
        }
      ]
    },
    {
      "cell_type": "code",
      "metadata": {
        "colab": {
          "base_uri": "https://localhost:8080/"
        },
        "outputId": "2c83da7b-3adc-4192-bebb-33fb2bf7adb5",
        "id": "g0UsLapDFpYz"
      },
      "source": [
        "print(nbrs_report)"
      ],
      "execution_count": null,
      "outputs": [
        {
          "output_type": "stream",
          "name": "stdout",
          "text": [
            "              precision    recall  f1-score   support\n",
            "\n",
            "           0       0.88      0.79      0.83        82\n",
            "           1       0.85      0.91      0.88       102\n",
            "\n",
            "    accuracy                           0.86       184\n",
            "   macro avg       0.86      0.85      0.86       184\n",
            "weighted avg       0.86      0.86      0.86       184\n",
            "\n"
          ]
        }
      ]
    },
    {
      "cell_type": "markdown",
      "source": [
        "**Cross-validation**"
      ],
      "metadata": {
        "id": "h9NkG4uMAtMO"
      }
    },
    {
      "cell_type": "code",
      "source": [
        "scores_nbrs = cross_val_score(nbrs, x, y, cv=5)\n",
        "scores_nbrs"
      ],
      "metadata": {
        "colab": {
          "base_uri": "https://localhost:8080/"
        },
        "outputId": "e14883c5-11c6-43cd-ceb9-31ff1cca3651",
        "id": "Tr84w3Hp_p7n"
      },
      "execution_count": null,
      "outputs": [
        {
          "output_type": "execute_result",
          "data": {
            "text/plain": [
              "array([0.63586957, 0.76630435, 0.6576087 , 0.63387978, 0.62295082])"
            ]
          },
          "metadata": {},
          "execution_count": 67
        }
      ]
    },
    {
      "cell_type": "code",
      "source": [
        "print(\"%0.2f accuracy with a standard deviation of %0.2f\" % (scores_nbrs.mean(), scores_nbrs.std()))"
      ],
      "metadata": {
        "colab": {
          "base_uri": "https://localhost:8080/"
        },
        "outputId": "fe4c84f2-8464-4a82-b898-36b20d114675",
        "id": "N14Wp0xB_p7v"
      },
      "execution_count": null,
      "outputs": [
        {
          "output_type": "stream",
          "name": "stdout",
          "text": [
            "0.66 accuracy with a standard deviation of 0.05\n"
          ]
        }
      ]
    },
    {
      "cell_type": "code",
      "metadata": {
        "colab": {
          "base_uri": "https://localhost:8080/",
          "height": 386
        },
        "outputId": "e53c39fe-73c1-434f-a115-af08e9af4cf8",
        "id": "M-xcLco6FpYz"
      },
      "source": [
        "plot_roc_curve(nbrs, x_test, y_test)"
      ],
      "execution_count": null,
      "outputs": [
        {
          "output_type": "stream",
          "name": "stderr",
          "text": [
            "/usr/local/lib/python3.7/dist-packages/sklearn/utils/deprecation.py:87: FutureWarning:\n",
            "\n",
            "Function plot_roc_curve is deprecated; Function `plot_roc_curve` is deprecated in 1.0 and will be removed in 1.2. Use one of the class methods: RocCurveDisplay.from_predictions or RocCurveDisplay.from_estimator.\n",
            "\n"
          ]
        },
        {
          "output_type": "execute_result",
          "data": {
            "text/plain": [
              "<sklearn.metrics._plot.roc_curve.RocCurveDisplay at 0x7f43a377ec10>"
            ]
          },
          "metadata": {},
          "execution_count": 69
        },
        {
          "output_type": "display_data",
          "data": {
            "image/png": "[encoded data removed]",
            "text/plain": [
              "<Figure size 432x288 with 1 Axes>"
            ]
          },
          "metadata": {
            "needs_background": "light"
          }
        }
      ]
    },
    {
      "cell_type": "code",
      "metadata": {
        "colab": {
          "base_uri": "https://localhost:8080/",
          "height": 282
        },
        "outputId": "46fc4940-797a-4396-98e9-15231e9ba1fc",
        "id": "cwI6guAoFpYz"
      },
      "source": [
        "sns.heatmap(confusion_matrix(y_test, y_pred_nbrs), annot=True, cmap='OrRd', fmt='g')"
      ],
      "execution_count": null,
      "outputs": [
        {
          "output_type": "execute_result",
          "data": {
            "text/plain": [
              "<matplotlib.axes._subplots.AxesSubplot at 0x7f43a39594d0>"
            ]
          },
          "metadata": {},
          "execution_count": 70
        },
        {
          "output_type": "display_data",
          "data": {
            "image/png": "[encoded data removed]",
            "text/plain": [
              "<Figure size 432x288 with 2 Axes>"
            ]
          },
          "metadata": {
            "needs_background": "light"
          }
        }
      ]
    },
    {
      "cell_type": "markdown",
      "metadata": {
        "id": "Xa6yYdBTIX8n"
      },
      "source": [
        "# 6- Gaussian Naive Bayes"
      ]
    },
    {
      "cell_type": "code",
      "metadata": {
        "id": "zf6y7wk7IX8v"
      },
      "source": [
        "#Load Gaussian Naive Bayes model to the 'gnb' variable\n",
        "gnb = GaussianNB()\n",
        "\n"
      ],
      "execution_count": null,
      "outputs": []
    },
    {
      "cell_type": "code",
      "metadata": {
        "colab": {
          "base_uri": "https://localhost:8080/"
        },
        "outputId": "eebf721e-5729-4ca6-a351-d5beaade1e82",
        "id": "2SRtgYn_IX8v"
      },
      "source": [
        "#training the model using train data\n",
        "gnb.fit(x_train, y_train)"
      ],
      "execution_count": null,
      "outputs": [
        {
          "output_type": "execute_result",
          "data": {
            "text/plain": [
              "GaussianNB()"
            ]
          },
          "metadata": {},
          "execution_count": 72
        }
      ]
    },
    {
      "cell_type": "code",
      "metadata": {
        "colab": {
          "base_uri": "https://localhost:8080/"
        },
        "outputId": "1475783f-8c8f-4a36-b2c5-cf379f605675",
        "id": "0O7Hd4JmIX8v"
      },
      "source": [
        "y_pred_gnb = gnb.predict(x_test)\n",
        "cm = confusion_matrix(y_test, y_pred_gnb)\n",
        "gnb_report = classification_report(y_test, y_pred_gnb)\n",
        "f1_score(y_test ,y_pred_gnb)\n",
        "accuracy_score(y_test ,y_pred_gnb)"
      ],
      "execution_count": null,
      "outputs": [
        {
          "output_type": "execute_result",
          "data": {
            "text/plain": [
              "0.8206521739130435"
            ]
          },
          "metadata": {},
          "execution_count": 73
        }
      ]
    },
    {
      "cell_type": "code",
      "metadata": {
        "colab": {
          "base_uri": "https://localhost:8080/"
        },
        "outputId": "b4df31c6-86e5-4b5a-80b4-0b6befe8b9f3",
        "id": "ohADS_HAIX8v"
      },
      "source": [
        "print(gnb_report)"
      ],
      "execution_count": null,
      "outputs": [
        {
          "output_type": "stream",
          "name": "stdout",
          "text": [
            "              precision    recall  f1-score   support\n",
            "\n",
            "           0       0.88      0.70      0.78        82\n",
            "           1       0.79      0.92      0.85       102\n",
            "\n",
            "    accuracy                           0.82       184\n",
            "   macro avg       0.83      0.81      0.81       184\n",
            "weighted avg       0.83      0.82      0.82       184\n",
            "\n"
          ]
        }
      ]
    },
    {
      "cell_type": "markdown",
      "source": [
        "**Cross-validation**"
      ],
      "metadata": {
        "id": "CZrYViuRAuN6"
      }
    },
    {
      "cell_type": "code",
      "source": [
        "scores_gnb = cross_val_score(gnb, x, y, cv=5)\n",
        "scores_gnb"
      ],
      "metadata": {
        "colab": {
          "base_uri": "https://localhost:8080/"
        },
        "outputId": "4b553e32-ee1b-43ff-cb68-a5508f0b26d7",
        "id": "NUUg7gILAHi8"
      },
      "execution_count": null,
      "outputs": [
        {
          "output_type": "execute_result",
          "data": {
            "text/plain": [
              "array([0.86413043, 0.88586957, 0.8423913 , 0.81967213, 0.75956284])"
            ]
          },
          "metadata": {},
          "execution_count": 75
        }
      ]
    },
    {
      "cell_type": "code",
      "source": [
        "print(\"%0.2f accuracy with a standard deviation of %0.2f\" % (scores_gnb.mean(), scores_gnb.std()))"
      ],
      "metadata": {
        "colab": {
          "base_uri": "https://localhost:8080/"
        },
        "outputId": "195a6a24-4b71-40cc-b107-8d932cbbbd01",
        "id": "peExPjDXAHi8"
      },
      "execution_count": null,
      "outputs": [
        {
          "output_type": "stream",
          "name": "stdout",
          "text": [
            "0.83 accuracy with a standard deviation of 0.04\n"
          ]
        }
      ]
    },
    {
      "cell_type": "code",
      "metadata": {
        "colab": {
          "base_uri": "https://localhost:8080/",
          "height": 386
        },
        "outputId": "abc6461b-5b8e-43b0-ac66-e016e8d6c53a",
        "id": "f2FwbjbQIX8v"
      },
      "source": [
        "plot_roc_curve(gnb, x_test, y_test)"
      ],
      "execution_count": null,
      "outputs": [
        {
          "output_type": "stream",
          "name": "stderr",
          "text": [
            "/usr/local/lib/python3.7/dist-packages/sklearn/utils/deprecation.py:87: FutureWarning:\n",
            "\n",
            "Function plot_roc_curve is deprecated; Function `plot_roc_curve` is deprecated in 1.0 and will be removed in 1.2. Use one of the class methods: RocCurveDisplay.from_predictions or RocCurveDisplay.from_estimator.\n",
            "\n"
          ]
        },
        {
          "output_type": "execute_result",
          "data": {
            "text/plain": [
              "<sklearn.metrics._plot.roc_curve.RocCurveDisplay at 0x7f43a39d1f90>"
            ]
          },
          "metadata": {},
          "execution_count": 80
        },
        {
          "output_type": "display_data",
          "data": {
            "image/png": "[encoded data removed]",
            "text/plain": [
              "<Figure size 432x288 with 1 Axes>"
            ]
          },
          "metadata": {
            "needs_background": "light"
          }
        }
      ]
    },
    {
      "cell_type": "code",
      "metadata": {
        "colab": {
          "base_uri": "https://localhost:8080/",
          "height": 282
        },
        "outputId": "a3336719-ef3a-4b5c-ebb8-030e2345d60a",
        "id": "l-UAfQ00IX8v"
      },
      "source": [
        "sns.heatmap(confusion_matrix(y_test, y_pred_gnb), annot=True, cmap='OrRd', fmt='g')"
      ],
      "execution_count": null,
      "outputs": [
        {
          "output_type": "execute_result",
          "data": {
            "text/plain": [
              "<matplotlib.axes._subplots.AxesSubplot at 0x7f439aeee850>"
            ]
          },
          "metadata": {},
          "execution_count": 78
        },
        {
          "output_type": "display_data",
          "data": {
            "image/png": "[encoded data removed]",
            "text/plain": [
              "<Figure size 432x288 with 2 Axes>"
            ]
          },
          "metadata": {
            "needs_background": "light"
          }
        }
      ]
    },
    {
      "cell_type": "markdown",
      "source": [
        "# Grouping the ROC curves"
      ],
      "metadata": {
        "id": "6UjZVJf_GSdr"
      }
    },
    {
      "cell_type": "code",
      "source": [
        "disp = plot_roc_curve(LR, x_test, y_test)\n",
        "plot_roc_curve(DT, x_test, y_test, ax=disp.ax_)\n",
        "plot_roc_curve(clf, x_test, y_test, ax=disp.ax_)\n",
        "plot_roc_curve(RF, x_test, y_test, ax=disp.ax_)\n",
        "plot_roc_curve(nbrs, x_test, y_test, ax=disp.ax_)\n",
        "plot_roc_curve(gnb, x_test, y_test, ax=disp.ax_)"
      ],
      "metadata": {
        "colab": {
          "base_uri": "https://localhost:8080/",
          "height": 733
        },
        "id": "ZnmV84dpr48R",
        "outputId": "af0b95af-8775-461d-b6ae-a20f4bf58ab1"
      },
      "execution_count": null,
      "outputs": [
        {
          "output_type": "stream",
          "name": "stderr",
          "text": [
            "/usr/local/lib/python3.7/dist-packages/sklearn/utils/deprecation.py:87: FutureWarning:\n",
            "\n",
            "Function plot_roc_curve is deprecated; Function `plot_roc_curve` is deprecated in 1.0 and will be removed in 1.2. Use one of the class methods: RocCurveDisplay.from_predictions or RocCurveDisplay.from_estimator.\n",
            "\n",
            "/usr/local/lib/python3.7/dist-packages/sklearn/utils/deprecation.py:87: FutureWarning:\n",
            "\n",
            "Function plot_roc_curve is deprecated; Function `plot_roc_curve` is deprecated in 1.0 and will be removed in 1.2. Use one of the class methods: RocCurveDisplay.from_predictions or RocCurveDisplay.from_estimator.\n",
            "\n",
            "/usr/local/lib/python3.7/dist-packages/sklearn/utils/deprecation.py:87: FutureWarning:\n",
            "\n",
            "Function plot_roc_curve is deprecated; Function `plot_roc_curve` is deprecated in 1.0 and will be removed in 1.2. Use one of the class methods: RocCurveDisplay.from_predictions or RocCurveDisplay.from_estimator.\n",
            "\n",
            "/usr/local/lib/python3.7/dist-packages/sklearn/utils/deprecation.py:87: FutureWarning:\n",
            "\n",
            "Function plot_roc_curve is deprecated; Function `plot_roc_curve` is deprecated in 1.0 and will be removed in 1.2. Use one of the class methods: RocCurveDisplay.from_predictions or RocCurveDisplay.from_estimator.\n",
            "\n",
            "/usr/local/lib/python3.7/dist-packages/sklearn/utils/deprecation.py:87: FutureWarning:\n",
            "\n",
            "Function plot_roc_curve is deprecated; Function `plot_roc_curve` is deprecated in 1.0 and will be removed in 1.2. Use one of the class methods: RocCurveDisplay.from_predictions or RocCurveDisplay.from_estimator.\n",
            "\n",
            "/usr/local/lib/python3.7/dist-packages/sklearn/utils/deprecation.py:87: FutureWarning:\n",
            "\n",
            "Function plot_roc_curve is deprecated; Function `plot_roc_curve` is deprecated in 1.0 and will be removed in 1.2. Use one of the class methods: RocCurveDisplay.from_predictions or RocCurveDisplay.from_estimator.\n",
            "\n"
          ]
        },
        {
          "output_type": "execute_result",
          "data": {
            "text/plain": [
              "<sklearn.metrics._plot.roc_curve.RocCurveDisplay at 0x7f43a57df8d0>"
            ]
          },
          "metadata": {},
          "execution_count": 82
        },
        {
          "output_type": "display_data",
          "data": {
            "image/png": "[encoded data removed]",
            "text/plain": [
              "<Figure size 432x288 with 1 Axes>"
            ]
          },
          "metadata": {
            "needs_background": "light"
          }
        }
      ]
    }
  ]
}